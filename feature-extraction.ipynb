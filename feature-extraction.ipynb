{
  "nbformat": 4,
  "nbformat_minor": 0,
  "metadata": {
    "colab": {
      "provenance": [],
      "gpuType": "T4"
    },
    "kernelspec": {
      "name": "python3",
      "display_name": "Python 3"
    },
    "language_info": {
      "name": "python"
    },
    "widgets": {
      "application/vnd.jupyter.widget-state+json": {
        "9d0c1ab6f80441128b1fefddef5249d9": {
          "model_module": "@jupyter-widgets/controls",
          "model_name": "HBoxModel",
          "model_module_version": "1.5.0",
          "state": {
            "_dom_classes": [],
            "_model_module": "@jupyter-widgets/controls",
            "_model_module_version": "1.5.0",
            "_model_name": "HBoxModel",
            "_view_count": null,
            "_view_module": "@jupyter-widgets/controls",
            "_view_module_version": "1.5.0",
            "_view_name": "HBoxView",
            "box_style": "",
            "children": [
              "IPY_MODEL_d3a880e0ae084e558c179dfb3690b6ed",
              "IPY_MODEL_d165c0a96c9b4ee2a2d115d8827d38a3",
              "IPY_MODEL_0dbb3a7c0a8240ccbc95e3294b3bfa51"
            ],
            "layout": "IPY_MODEL_d350c9a9840447878a0535a3822e0b8a"
          }
        },
        "d3a880e0ae084e558c179dfb3690b6ed": {
          "model_module": "@jupyter-widgets/controls",
          "model_name": "HTMLModel",
          "model_module_version": "1.5.0",
          "state": {
            "_dom_classes": [],
            "_model_module": "@jupyter-widgets/controls",
            "_model_module_version": "1.5.0",
            "_model_name": "HTMLModel",
            "_view_count": null,
            "_view_module": "@jupyter-widgets/controls",
            "_view_module_version": "1.5.0",
            "_view_name": "HTMLView",
            "description": "",
            "description_tooltip": null,
            "layout": "IPY_MODEL_f4443949930f4db9976723ede1e052b7",
            "placeholder": "​",
            "style": "IPY_MODEL_0388fe6a77724d34b4d0aa9af7ec5a14",
            "value": "tokenizer.json: 100%"
          }
        },
        "d165c0a96c9b4ee2a2d115d8827d38a3": {
          "model_module": "@jupyter-widgets/controls",
          "model_name": "FloatProgressModel",
          "model_module_version": "1.5.0",
          "state": {
            "_dom_classes": [],
            "_model_module": "@jupyter-widgets/controls",
            "_model_module_version": "1.5.0",
            "_model_name": "FloatProgressModel",
            "_view_count": null,
            "_view_module": "@jupyter-widgets/controls",
            "_view_module_version": "1.5.0",
            "_view_name": "ProgressView",
            "bar_style": "success",
            "description": "",
            "description_tooltip": null,
            "layout": "IPY_MODEL_43d3769d98ff417da5ef6307e034a83d",
            "max": 2203239,
            "min": 0,
            "orientation": "horizontal",
            "style": "IPY_MODEL_5887a89566c24b4fa076c1011e7fa923",
            "value": 2203239
          }
        },
        "0dbb3a7c0a8240ccbc95e3294b3bfa51": {
          "model_module": "@jupyter-widgets/controls",
          "model_name": "HTMLModel",
          "model_module_version": "1.5.0",
          "state": {
            "_dom_classes": [],
            "_model_module": "@jupyter-widgets/controls",
            "_model_module_version": "1.5.0",
            "_model_name": "HTMLModel",
            "_view_count": null,
            "_view_module": "@jupyter-widgets/controls",
            "_view_module_version": "1.5.0",
            "_view_name": "HTMLView",
            "description": "",
            "description_tooltip": null,
            "layout": "IPY_MODEL_fb7c2f9896b14207a6bf3ab547bd8bdd",
            "placeholder": "​",
            "style": "IPY_MODEL_ee72987de1914056afc2ebe152cd908b",
            "value": " 2.20M/2.20M [00:00&lt;00:00, 20.9MB/s]"
          }
        },
        "d350c9a9840447878a0535a3822e0b8a": {
          "model_module": "@jupyter-widgets/base",
          "model_name": "LayoutModel",
          "model_module_version": "1.2.0",
          "state": {
            "_model_module": "@jupyter-widgets/base",
            "_model_module_version": "1.2.0",
            "_model_name": "LayoutModel",
            "_view_count": null,
            "_view_module": "@jupyter-widgets/base",
            "_view_module_version": "1.2.0",
            "_view_name": "LayoutView",
            "align_content": null,
            "align_items": null,
            "align_self": null,
            "border": null,
            "bottom": null,
            "display": null,
            "flex": null,
            "flex_flow": null,
            "grid_area": null,
            "grid_auto_columns": null,
            "grid_auto_flow": null,
            "grid_auto_rows": null,
            "grid_column": null,
            "grid_gap": null,
            "grid_row": null,
            "grid_template_areas": null,
            "grid_template_columns": null,
            "grid_template_rows": null,
            "height": null,
            "justify_content": null,
            "justify_items": null,
            "left": null,
            "margin": null,
            "max_height": null,
            "max_width": null,
            "min_height": null,
            "min_width": null,
            "object_fit": null,
            "object_position": null,
            "order": null,
            "overflow": null,
            "overflow_x": null,
            "overflow_y": null,
            "padding": null,
            "right": null,
            "top": null,
            "visibility": null,
            "width": null
          }
        },
        "f4443949930f4db9976723ede1e052b7": {
          "model_module": "@jupyter-widgets/base",
          "model_name": "LayoutModel",
          "model_module_version": "1.2.0",
          "state": {
            "_model_module": "@jupyter-widgets/base",
            "_model_module_version": "1.2.0",
            "_model_name": "LayoutModel",
            "_view_count": null,
            "_view_module": "@jupyter-widgets/base",
            "_view_module_version": "1.2.0",
            "_view_name": "LayoutView",
            "align_content": null,
            "align_items": null,
            "align_self": null,
            "border": null,
            "bottom": null,
            "display": null,
            "flex": null,
            "flex_flow": null,
            "grid_area": null,
            "grid_auto_columns": null,
            "grid_auto_flow": null,
            "grid_auto_rows": null,
            "grid_column": null,
            "grid_gap": null,
            "grid_row": null,
            "grid_template_areas": null,
            "grid_template_columns": null,
            "grid_template_rows": null,
            "height": null,
            "justify_content": null,
            "justify_items": null,
            "left": null,
            "margin": null,
            "max_height": null,
            "max_width": null,
            "min_height": null,
            "min_width": null,
            "object_fit": null,
            "object_position": null,
            "order": null,
            "overflow": null,
            "overflow_x": null,
            "overflow_y": null,
            "padding": null,
            "right": null,
            "top": null,
            "visibility": null,
            "width": null
          }
        },
        "0388fe6a77724d34b4d0aa9af7ec5a14": {
          "model_module": "@jupyter-widgets/controls",
          "model_name": "DescriptionStyleModel",
          "model_module_version": "1.5.0",
          "state": {
            "_model_module": "@jupyter-widgets/controls",
            "_model_module_version": "1.5.0",
            "_model_name": "DescriptionStyleModel",
            "_view_count": null,
            "_view_module": "@jupyter-widgets/base",
            "_view_module_version": "1.2.0",
            "_view_name": "StyleView",
            "description_width": ""
          }
        },
        "43d3769d98ff417da5ef6307e034a83d": {
          "model_module": "@jupyter-widgets/base",
          "model_name": "LayoutModel",
          "model_module_version": "1.2.0",
          "state": {
            "_model_module": "@jupyter-widgets/base",
            "_model_module_version": "1.2.0",
            "_model_name": "LayoutModel",
            "_view_count": null,
            "_view_module": "@jupyter-widgets/base",
            "_view_module_version": "1.2.0",
            "_view_name": "LayoutView",
            "align_content": null,
            "align_items": null,
            "align_self": null,
            "border": null,
            "bottom": null,
            "display": null,
            "flex": null,
            "flex_flow": null,
            "grid_area": null,
            "grid_auto_columns": null,
            "grid_auto_flow": null,
            "grid_auto_rows": null,
            "grid_column": null,
            "grid_gap": null,
            "grid_row": null,
            "grid_template_areas": null,
            "grid_template_columns": null,
            "grid_template_rows": null,
            "height": null,
            "justify_content": null,
            "justify_items": null,
            "left": null,
            "margin": null,
            "max_height": null,
            "max_width": null,
            "min_height": null,
            "min_width": null,
            "object_fit": null,
            "object_position": null,
            "order": null,
            "overflow": null,
            "overflow_x": null,
            "overflow_y": null,
            "padding": null,
            "right": null,
            "top": null,
            "visibility": null,
            "width": null
          }
        },
        "5887a89566c24b4fa076c1011e7fa923": {
          "model_module": "@jupyter-widgets/controls",
          "model_name": "ProgressStyleModel",
          "model_module_version": "1.5.0",
          "state": {
            "_model_module": "@jupyter-widgets/controls",
            "_model_module_version": "1.5.0",
            "_model_name": "ProgressStyleModel",
            "_view_count": null,
            "_view_module": "@jupyter-widgets/base",
            "_view_module_version": "1.2.0",
            "_view_name": "StyleView",
            "bar_color": null,
            "description_width": ""
          }
        },
        "fb7c2f9896b14207a6bf3ab547bd8bdd": {
          "model_module": "@jupyter-widgets/base",
          "model_name": "LayoutModel",
          "model_module_version": "1.2.0",
          "state": {
            "_model_module": "@jupyter-widgets/base",
            "_model_module_version": "1.2.0",
            "_model_name": "LayoutModel",
            "_view_count": null,
            "_view_module": "@jupyter-widgets/base",
            "_view_module_version": "1.2.0",
            "_view_name": "LayoutView",
            "align_content": null,
            "align_items": null,
            "align_self": null,
            "border": null,
            "bottom": null,
            "display": null,
            "flex": null,
            "flex_flow": null,
            "grid_area": null,
            "grid_auto_columns": null,
            "grid_auto_flow": null,
            "grid_auto_rows": null,
            "grid_column": null,
            "grid_gap": null,
            "grid_row": null,
            "grid_template_areas": null,
            "grid_template_columns": null,
            "grid_template_rows": null,
            "height": null,
            "justify_content": null,
            "justify_items": null,
            "left": null,
            "margin": null,
            "max_height": null,
            "max_width": null,
            "min_height": null,
            "min_width": null,
            "object_fit": null,
            "object_position": null,
            "order": null,
            "overflow": null,
            "overflow_x": null,
            "overflow_y": null,
            "padding": null,
            "right": null,
            "top": null,
            "visibility": null,
            "width": null
          }
        },
        "ee72987de1914056afc2ebe152cd908b": {
          "model_module": "@jupyter-widgets/controls",
          "model_name": "DescriptionStyleModel",
          "model_module_version": "1.5.0",
          "state": {
            "_model_module": "@jupyter-widgets/controls",
            "_model_module_version": "1.5.0",
            "_model_name": "DescriptionStyleModel",
            "_view_count": null,
            "_view_module": "@jupyter-widgets/base",
            "_view_module_version": "1.2.0",
            "_view_name": "StyleView",
            "description_width": ""
          }
        },
        "497cbdc0a2c54b03a3290f72663e8ba4": {
          "model_module": "@jupyter-widgets/controls",
          "model_name": "HBoxModel",
          "model_module_version": "1.5.0",
          "state": {
            "_dom_classes": [],
            "_model_module": "@jupyter-widgets/controls",
            "_model_module_version": "1.5.0",
            "_model_name": "HBoxModel",
            "_view_count": null,
            "_view_module": "@jupyter-widgets/controls",
            "_view_module_version": "1.5.0",
            "_view_name": "HBoxView",
            "box_style": "",
            "children": [
              "IPY_MODEL_9792d53cef774fb4aca3fab32f218f1f",
              "IPY_MODEL_992160e08fe644ea92a10aa6ffaffc8e",
              "IPY_MODEL_d3a1e70f46dc4c5c81ec7470c9ec4a85"
            ],
            "layout": "IPY_MODEL_31fad2c7ada84971968a78d2e8096c22"
          }
        },
        "9792d53cef774fb4aca3fab32f218f1f": {
          "model_module": "@jupyter-widgets/controls",
          "model_name": "HTMLModel",
          "model_module_version": "1.5.0",
          "state": {
            "_dom_classes": [],
            "_model_module": "@jupyter-widgets/controls",
            "_model_module_version": "1.5.0",
            "_model_name": "HTMLModel",
            "_view_count": null,
            "_view_module": "@jupyter-widgets/controls",
            "_view_module_version": "1.5.0",
            "_view_name": "HTMLView",
            "description": "",
            "description_tooltip": null,
            "layout": "IPY_MODEL_e12d2c5299c642b2b94aa73163d6cc4c",
            "placeholder": "​",
            "style": "IPY_MODEL_da1f264747424d9bb20cdbc4335b735d",
            "value": "config.json: 100%"
          }
        },
        "992160e08fe644ea92a10aa6ffaffc8e": {
          "model_module": "@jupyter-widgets/controls",
          "model_name": "FloatProgressModel",
          "model_module_version": "1.5.0",
          "state": {
            "_dom_classes": [],
            "_model_module": "@jupyter-widgets/controls",
            "_model_module_version": "1.5.0",
            "_model_name": "FloatProgressModel",
            "_view_count": null,
            "_view_module": "@jupyter-widgets/controls",
            "_view_module_version": "1.5.0",
            "_view_name": "ProgressView",
            "bar_style": "success",
            "description": "",
            "description_tooltip": null,
            "layout": "IPY_MODEL_b77422c9aa314c90852a34d026d7c0fe",
            "max": 2796,
            "min": 0,
            "orientation": "horizontal",
            "style": "IPY_MODEL_31aefe761d43496887fa649413e0b46f",
            "value": 2796
          }
        },
        "d3a1e70f46dc4c5c81ec7470c9ec4a85": {
          "model_module": "@jupyter-widgets/controls",
          "model_name": "HTMLModel",
          "model_module_version": "1.5.0",
          "state": {
            "_dom_classes": [],
            "_model_module": "@jupyter-widgets/controls",
            "_model_module_version": "1.5.0",
            "_model_name": "HTMLModel",
            "_view_count": null,
            "_view_module": "@jupyter-widgets/controls",
            "_view_module_version": "1.5.0",
            "_view_name": "HTMLView",
            "description": "",
            "description_tooltip": null,
            "layout": "IPY_MODEL_7f94c156ce22463db08540a2b138bc41",
            "placeholder": "​",
            "style": "IPY_MODEL_a6f3271bca4447ab936f9809cff88d21",
            "value": " 2.80k/2.80k [00:00&lt;00:00, 42.8kB/s]"
          }
        },
        "31fad2c7ada84971968a78d2e8096c22": {
          "model_module": "@jupyter-widgets/base",
          "model_name": "LayoutModel",
          "model_module_version": "1.2.0",
          "state": {
            "_model_module": "@jupyter-widgets/base",
            "_model_module_version": "1.2.0",
            "_model_name": "LayoutModel",
            "_view_count": null,
            "_view_module": "@jupyter-widgets/base",
            "_view_module_version": "1.2.0",
            "_view_name": "LayoutView",
            "align_content": null,
            "align_items": null,
            "align_self": null,
            "border": null,
            "bottom": null,
            "display": null,
            "flex": null,
            "flex_flow": null,
            "grid_area": null,
            "grid_auto_columns": null,
            "grid_auto_flow": null,
            "grid_auto_rows": null,
            "grid_column": null,
            "grid_gap": null,
            "grid_row": null,
            "grid_template_areas": null,
            "grid_template_columns": null,
            "grid_template_rows": null,
            "height": null,
            "justify_content": null,
            "justify_items": null,
            "left": null,
            "margin": null,
            "max_height": null,
            "max_width": null,
            "min_height": null,
            "min_width": null,
            "object_fit": null,
            "object_position": null,
            "order": null,
            "overflow": null,
            "overflow_x": null,
            "overflow_y": null,
            "padding": null,
            "right": null,
            "top": null,
            "visibility": null,
            "width": null
          }
        },
        "e12d2c5299c642b2b94aa73163d6cc4c": {
          "model_module": "@jupyter-widgets/base",
          "model_name": "LayoutModel",
          "model_module_version": "1.2.0",
          "state": {
            "_model_module": "@jupyter-widgets/base",
            "_model_module_version": "1.2.0",
            "_model_name": "LayoutModel",
            "_view_count": null,
            "_view_module": "@jupyter-widgets/base",
            "_view_module_version": "1.2.0",
            "_view_name": "LayoutView",
            "align_content": null,
            "align_items": null,
            "align_self": null,
            "border": null,
            "bottom": null,
            "display": null,
            "flex": null,
            "flex_flow": null,
            "grid_area": null,
            "grid_auto_columns": null,
            "grid_auto_flow": null,
            "grid_auto_rows": null,
            "grid_column": null,
            "grid_gap": null,
            "grid_row": null,
            "grid_template_areas": null,
            "grid_template_columns": null,
            "grid_template_rows": null,
            "height": null,
            "justify_content": null,
            "justify_items": null,
            "left": null,
            "margin": null,
            "max_height": null,
            "max_width": null,
            "min_height": null,
            "min_width": null,
            "object_fit": null,
            "object_position": null,
            "order": null,
            "overflow": null,
            "overflow_x": null,
            "overflow_y": null,
            "padding": null,
            "right": null,
            "top": null,
            "visibility": null,
            "width": null
          }
        },
        "da1f264747424d9bb20cdbc4335b735d": {
          "model_module": "@jupyter-widgets/controls",
          "model_name": "DescriptionStyleModel",
          "model_module_version": "1.5.0",
          "state": {
            "_model_module": "@jupyter-widgets/controls",
            "_model_module_version": "1.5.0",
            "_model_name": "DescriptionStyleModel",
            "_view_count": null,
            "_view_module": "@jupyter-widgets/base",
            "_view_module_version": "1.2.0",
            "_view_name": "StyleView",
            "description_width": ""
          }
        },
        "b77422c9aa314c90852a34d026d7c0fe": {
          "model_module": "@jupyter-widgets/base",
          "model_name": "LayoutModel",
          "model_module_version": "1.2.0",
          "state": {
            "_model_module": "@jupyter-widgets/base",
            "_model_module_version": "1.2.0",
            "_model_name": "LayoutModel",
            "_view_count": null,
            "_view_module": "@jupyter-widgets/base",
            "_view_module_version": "1.2.0",
            "_view_name": "LayoutView",
            "align_content": null,
            "align_items": null,
            "align_self": null,
            "border": null,
            "bottom": null,
            "display": null,
            "flex": null,
            "flex_flow": null,
            "grid_area": null,
            "grid_auto_columns": null,
            "grid_auto_flow": null,
            "grid_auto_rows": null,
            "grid_column": null,
            "grid_gap": null,
            "grid_row": null,
            "grid_template_areas": null,
            "grid_template_columns": null,
            "grid_template_rows": null,
            "height": null,
            "justify_content": null,
            "justify_items": null,
            "left": null,
            "margin": null,
            "max_height": null,
            "max_width": null,
            "min_height": null,
            "min_width": null,
            "object_fit": null,
            "object_position": null,
            "order": null,
            "overflow": null,
            "overflow_x": null,
            "overflow_y": null,
            "padding": null,
            "right": null,
            "top": null,
            "visibility": null,
            "width": null
          }
        },
        "31aefe761d43496887fa649413e0b46f": {
          "model_module": "@jupyter-widgets/controls",
          "model_name": "ProgressStyleModel",
          "model_module_version": "1.5.0",
          "state": {
            "_model_module": "@jupyter-widgets/controls",
            "_model_module_version": "1.5.0",
            "_model_name": "ProgressStyleModel",
            "_view_count": null,
            "_view_module": "@jupyter-widgets/base",
            "_view_module_version": "1.2.0",
            "_view_name": "StyleView",
            "bar_color": null,
            "description_width": ""
          }
        },
        "7f94c156ce22463db08540a2b138bc41": {
          "model_module": "@jupyter-widgets/base",
          "model_name": "LayoutModel",
          "model_module_version": "1.2.0",
          "state": {
            "_model_module": "@jupyter-widgets/base",
            "_model_module_version": "1.2.0",
            "_model_name": "LayoutModel",
            "_view_count": null,
            "_view_module": "@jupyter-widgets/base",
            "_view_module_version": "1.2.0",
            "_view_name": "LayoutView",
            "align_content": null,
            "align_items": null,
            "align_self": null,
            "border": null,
            "bottom": null,
            "display": null,
            "flex": null,
            "flex_flow": null,
            "grid_area": null,
            "grid_auto_columns": null,
            "grid_auto_flow": null,
            "grid_auto_rows": null,
            "grid_column": null,
            "grid_gap": null,
            "grid_row": null,
            "grid_template_areas": null,
            "grid_template_columns": null,
            "grid_template_rows": null,
            "height": null,
            "justify_content": null,
            "justify_items": null,
            "left": null,
            "margin": null,
            "max_height": null,
            "max_width": null,
            "min_height": null,
            "min_width": null,
            "object_fit": null,
            "object_position": null,
            "order": null,
            "overflow": null,
            "overflow_x": null,
            "overflow_y": null,
            "padding": null,
            "right": null,
            "top": null,
            "visibility": null,
            "width": null
          }
        },
        "a6f3271bca4447ab936f9809cff88d21": {
          "model_module": "@jupyter-widgets/controls",
          "model_name": "DescriptionStyleModel",
          "model_module_version": "1.5.0",
          "state": {
            "_model_module": "@jupyter-widgets/controls",
            "_model_module_version": "1.5.0",
            "_model_name": "DescriptionStyleModel",
            "_view_count": null,
            "_view_module": "@jupyter-widgets/base",
            "_view_module_version": "1.2.0",
            "_view_name": "StyleView",
            "description_width": ""
          }
        },
        "2dab287891214f428b6f2c4871fc32bf": {
          "model_module": "@jupyter-widgets/controls",
          "model_name": "HBoxModel",
          "model_module_version": "1.5.0",
          "state": {
            "_dom_classes": [],
            "_model_module": "@jupyter-widgets/controls",
            "_model_module_version": "1.5.0",
            "_model_name": "HBoxModel",
            "_view_count": null,
            "_view_module": "@jupyter-widgets/controls",
            "_view_module_version": "1.5.0",
            "_view_name": "HBoxView",
            "box_style": "",
            "children": [
              "IPY_MODEL_df90799e672d404dbe86d29e147b97ae",
              "IPY_MODEL_ffd98ff498d64b6ca6b637bb5019e1f9",
              "IPY_MODEL_f9233e99dfe24766a813644d8632a520"
            ],
            "layout": "IPY_MODEL_57b8c93692f8425aa407ea3f678ab404"
          }
        },
        "df90799e672d404dbe86d29e147b97ae": {
          "model_module": "@jupyter-widgets/controls",
          "model_name": "HTMLModel",
          "model_module_version": "1.5.0",
          "state": {
            "_dom_classes": [],
            "_model_module": "@jupyter-widgets/controls",
            "_model_module_version": "1.5.0",
            "_model_name": "HTMLModel",
            "_view_count": null,
            "_view_module": "@jupyter-widgets/controls",
            "_view_module_version": "1.5.0",
            "_view_name": "HTMLView",
            "description": "",
            "description_tooltip": null,
            "layout": "IPY_MODEL_89a3ceb3d14943f18d8af48fd35f54fc",
            "placeholder": "​",
            "style": "IPY_MODEL_a5759ada43dd488eba77d88aabd5d93c",
            "value": "vocabulary.txt: 100%"
          }
        },
        "ffd98ff498d64b6ca6b637bb5019e1f9": {
          "model_module": "@jupyter-widgets/controls",
          "model_name": "FloatProgressModel",
          "model_module_version": "1.5.0",
          "state": {
            "_dom_classes": [],
            "_model_module": "@jupyter-widgets/controls",
            "_model_module_version": "1.5.0",
            "_model_name": "FloatProgressModel",
            "_view_count": null,
            "_view_module": "@jupyter-widgets/controls",
            "_view_module_version": "1.5.0",
            "_view_name": "ProgressView",
            "bar_style": "success",
            "description": "",
            "description_tooltip": null,
            "layout": "IPY_MODEL_ec58477012b44231965c646221d3489a",
            "max": 459861,
            "min": 0,
            "orientation": "horizontal",
            "style": "IPY_MODEL_eb1e2f26d30a43ba9828a40cb7e9544c",
            "value": 459861
          }
        },
        "f9233e99dfe24766a813644d8632a520": {
          "model_module": "@jupyter-widgets/controls",
          "model_name": "HTMLModel",
          "model_module_version": "1.5.0",
          "state": {
            "_dom_classes": [],
            "_model_module": "@jupyter-widgets/controls",
            "_model_module_version": "1.5.0",
            "_model_name": "HTMLModel",
            "_view_count": null,
            "_view_module": "@jupyter-widgets/controls",
            "_view_module_version": "1.5.0",
            "_view_name": "HTMLView",
            "description": "",
            "description_tooltip": null,
            "layout": "IPY_MODEL_3523495bd9c84a029838b3a963fa3c52",
            "placeholder": "​",
            "style": "IPY_MODEL_bbbaa492cfb44bae85ab55f0a3cc6a7d",
            "value": " 460k/460k [00:00&lt;00:00, 3.80MB/s]"
          }
        },
        "57b8c93692f8425aa407ea3f678ab404": {
          "model_module": "@jupyter-widgets/base",
          "model_name": "LayoutModel",
          "model_module_version": "1.2.0",
          "state": {
            "_model_module": "@jupyter-widgets/base",
            "_model_module_version": "1.2.0",
            "_model_name": "LayoutModel",
            "_view_count": null,
            "_view_module": "@jupyter-widgets/base",
            "_view_module_version": "1.2.0",
            "_view_name": "LayoutView",
            "align_content": null,
            "align_items": null,
            "align_self": null,
            "border": null,
            "bottom": null,
            "display": null,
            "flex": null,
            "flex_flow": null,
            "grid_area": null,
            "grid_auto_columns": null,
            "grid_auto_flow": null,
            "grid_auto_rows": null,
            "grid_column": null,
            "grid_gap": null,
            "grid_row": null,
            "grid_template_areas": null,
            "grid_template_columns": null,
            "grid_template_rows": null,
            "height": null,
            "justify_content": null,
            "justify_items": null,
            "left": null,
            "margin": null,
            "max_height": null,
            "max_width": null,
            "min_height": null,
            "min_width": null,
            "object_fit": null,
            "object_position": null,
            "order": null,
            "overflow": null,
            "overflow_x": null,
            "overflow_y": null,
            "padding": null,
            "right": null,
            "top": null,
            "visibility": null,
            "width": null
          }
        },
        "89a3ceb3d14943f18d8af48fd35f54fc": {
          "model_module": "@jupyter-widgets/base",
          "model_name": "LayoutModel",
          "model_module_version": "1.2.0",
          "state": {
            "_model_module": "@jupyter-widgets/base",
            "_model_module_version": "1.2.0",
            "_model_name": "LayoutModel",
            "_view_count": null,
            "_view_module": "@jupyter-widgets/base",
            "_view_module_version": "1.2.0",
            "_view_name": "LayoutView",
            "align_content": null,
            "align_items": null,
            "align_self": null,
            "border": null,
            "bottom": null,
            "display": null,
            "flex": null,
            "flex_flow": null,
            "grid_area": null,
            "grid_auto_columns": null,
            "grid_auto_flow": null,
            "grid_auto_rows": null,
            "grid_column": null,
            "grid_gap": null,
            "grid_row": null,
            "grid_template_areas": null,
            "grid_template_columns": null,
            "grid_template_rows": null,
            "height": null,
            "justify_content": null,
            "justify_items": null,
            "left": null,
            "margin": null,
            "max_height": null,
            "max_width": null,
            "min_height": null,
            "min_width": null,
            "object_fit": null,
            "object_position": null,
            "order": null,
            "overflow": null,
            "overflow_x": null,
            "overflow_y": null,
            "padding": null,
            "right": null,
            "top": null,
            "visibility": null,
            "width": null
          }
        },
        "a5759ada43dd488eba77d88aabd5d93c": {
          "model_module": "@jupyter-widgets/controls",
          "model_name": "DescriptionStyleModel",
          "model_module_version": "1.5.0",
          "state": {
            "_model_module": "@jupyter-widgets/controls",
            "_model_module_version": "1.5.0",
            "_model_name": "DescriptionStyleModel",
            "_view_count": null,
            "_view_module": "@jupyter-widgets/base",
            "_view_module_version": "1.2.0",
            "_view_name": "StyleView",
            "description_width": ""
          }
        },
        "ec58477012b44231965c646221d3489a": {
          "model_module": "@jupyter-widgets/base",
          "model_name": "LayoutModel",
          "model_module_version": "1.2.0",
          "state": {
            "_model_module": "@jupyter-widgets/base",
            "_model_module_version": "1.2.0",
            "_model_name": "LayoutModel",
            "_view_count": null,
            "_view_module": "@jupyter-widgets/base",
            "_view_module_version": "1.2.0",
            "_view_name": "LayoutView",
            "align_content": null,
            "align_items": null,
            "align_self": null,
            "border": null,
            "bottom": null,
            "display": null,
            "flex": null,
            "flex_flow": null,
            "grid_area": null,
            "grid_auto_columns": null,
            "grid_auto_flow": null,
            "grid_auto_rows": null,
            "grid_column": null,
            "grid_gap": null,
            "grid_row": null,
            "grid_template_areas": null,
            "grid_template_columns": null,
            "grid_template_rows": null,
            "height": null,
            "justify_content": null,
            "justify_items": null,
            "left": null,
            "margin": null,
            "max_height": null,
            "max_width": null,
            "min_height": null,
            "min_width": null,
            "object_fit": null,
            "object_position": null,
            "order": null,
            "overflow": null,
            "overflow_x": null,
            "overflow_y": null,
            "padding": null,
            "right": null,
            "top": null,
            "visibility": null,
            "width": null
          }
        },
        "eb1e2f26d30a43ba9828a40cb7e9544c": {
          "model_module": "@jupyter-widgets/controls",
          "model_name": "ProgressStyleModel",
          "model_module_version": "1.5.0",
          "state": {
            "_model_module": "@jupyter-widgets/controls",
            "_model_module_version": "1.5.0",
            "_model_name": "ProgressStyleModel",
            "_view_count": null,
            "_view_module": "@jupyter-widgets/base",
            "_view_module_version": "1.2.0",
            "_view_name": "StyleView",
            "bar_color": null,
            "description_width": ""
          }
        },
        "3523495bd9c84a029838b3a963fa3c52": {
          "model_module": "@jupyter-widgets/base",
          "model_name": "LayoutModel",
          "model_module_version": "1.2.0",
          "state": {
            "_model_module": "@jupyter-widgets/base",
            "_model_module_version": "1.2.0",
            "_model_name": "LayoutModel",
            "_view_count": null,
            "_view_module": "@jupyter-widgets/base",
            "_view_module_version": "1.2.0",
            "_view_name": "LayoutView",
            "align_content": null,
            "align_items": null,
            "align_self": null,
            "border": null,
            "bottom": null,
            "display": null,
            "flex": null,
            "flex_flow": null,
            "grid_area": null,
            "grid_auto_columns": null,
            "grid_auto_flow": null,
            "grid_auto_rows": null,
            "grid_column": null,
            "grid_gap": null,
            "grid_row": null,
            "grid_template_areas": null,
            "grid_template_columns": null,
            "grid_template_rows": null,
            "height": null,
            "justify_content": null,
            "justify_items": null,
            "left": null,
            "margin": null,
            "max_height": null,
            "max_width": null,
            "min_height": null,
            "min_width": null,
            "object_fit": null,
            "object_position": null,
            "order": null,
            "overflow": null,
            "overflow_x": null,
            "overflow_y": null,
            "padding": null,
            "right": null,
            "top": null,
            "visibility": null,
            "width": null
          }
        },
        "bbbaa492cfb44bae85ab55f0a3cc6a7d": {
          "model_module": "@jupyter-widgets/controls",
          "model_name": "DescriptionStyleModel",
          "model_module_version": "1.5.0",
          "state": {
            "_model_module": "@jupyter-widgets/controls",
            "_model_module_version": "1.5.0",
            "_model_name": "DescriptionStyleModel",
            "_view_count": null,
            "_view_module": "@jupyter-widgets/base",
            "_view_module_version": "1.2.0",
            "_view_name": "StyleView",
            "description_width": ""
          }
        },
        "d0aa5bd4f7014ed0be92cbbd12745d6e": {
          "model_module": "@jupyter-widgets/controls",
          "model_name": "HBoxModel",
          "model_module_version": "1.5.0",
          "state": {
            "_dom_classes": [],
            "_model_module": "@jupyter-widgets/controls",
            "_model_module_version": "1.5.0",
            "_model_name": "HBoxModel",
            "_view_count": null,
            "_view_module": "@jupyter-widgets/controls",
            "_view_module_version": "1.5.0",
            "_view_name": "HBoxView",
            "box_style": "",
            "children": [
              "IPY_MODEL_8b6415bf1a3d45a19865d141b82ac9bc",
              "IPY_MODEL_a14606e4c89b42299711dc8c998245f7",
              "IPY_MODEL_541a58ca88be4245a192d3d878ccf33a"
            ],
            "layout": "IPY_MODEL_7b0a65aff53d4f1abcaa93ed0b78d7a9"
          }
        },
        "8b6415bf1a3d45a19865d141b82ac9bc": {
          "model_module": "@jupyter-widgets/controls",
          "model_name": "HTMLModel",
          "model_module_version": "1.5.0",
          "state": {
            "_dom_classes": [],
            "_model_module": "@jupyter-widgets/controls",
            "_model_module_version": "1.5.0",
            "_model_name": "HTMLModel",
            "_view_count": null,
            "_view_module": "@jupyter-widgets/controls",
            "_view_module_version": "1.5.0",
            "_view_name": "HTMLView",
            "description": "",
            "description_tooltip": null,
            "layout": "IPY_MODEL_3263de225bd7499fb00cec79b12f6666",
            "placeholder": "​",
            "style": "IPY_MODEL_34b99ae0ffbd452d8ee47dca17e7656c",
            "value": "model.bin: 100%"
          }
        },
        "a14606e4c89b42299711dc8c998245f7": {
          "model_module": "@jupyter-widgets/controls",
          "model_name": "FloatProgressModel",
          "model_module_version": "1.5.0",
          "state": {
            "_dom_classes": [],
            "_model_module": "@jupyter-widgets/controls",
            "_model_module_version": "1.5.0",
            "_model_name": "FloatProgressModel",
            "_view_count": null,
            "_view_module": "@jupyter-widgets/controls",
            "_view_module_version": "1.5.0",
            "_view_name": "ProgressView",
            "bar_style": "success",
            "description": "",
            "description_tooltip": null,
            "layout": "IPY_MODEL_075ad1abd7e745a8988d9ec54a3c7c18",
            "max": 3086912962,
            "min": 0,
            "orientation": "horizontal",
            "style": "IPY_MODEL_3b88bde43b5f445d8a9dde7cebb4c5a3",
            "value": 3086912962
          }
        },
        "541a58ca88be4245a192d3d878ccf33a": {
          "model_module": "@jupyter-widgets/controls",
          "model_name": "HTMLModel",
          "model_module_version": "1.5.0",
          "state": {
            "_dom_classes": [],
            "_model_module": "@jupyter-widgets/controls",
            "_model_module_version": "1.5.0",
            "_model_name": "HTMLModel",
            "_view_count": null,
            "_view_module": "@jupyter-widgets/controls",
            "_view_module_version": "1.5.0",
            "_view_name": "HTMLView",
            "description": "",
            "description_tooltip": null,
            "layout": "IPY_MODEL_1fcfdff4e1b44c1a9be180c3ca4fe036",
            "placeholder": "​",
            "style": "IPY_MODEL_3bbed65984f84b4dac6d1ffc4fb0508e",
            "value": " 3.09G/3.09G [00:15&lt;00:00, 254MB/s]"
          }
        },
        "7b0a65aff53d4f1abcaa93ed0b78d7a9": {
          "model_module": "@jupyter-widgets/base",
          "model_name": "LayoutModel",
          "model_module_version": "1.2.0",
          "state": {
            "_model_module": "@jupyter-widgets/base",
            "_model_module_version": "1.2.0",
            "_model_name": "LayoutModel",
            "_view_count": null,
            "_view_module": "@jupyter-widgets/base",
            "_view_module_version": "1.2.0",
            "_view_name": "LayoutView",
            "align_content": null,
            "align_items": null,
            "align_self": null,
            "border": null,
            "bottom": null,
            "display": null,
            "flex": null,
            "flex_flow": null,
            "grid_area": null,
            "grid_auto_columns": null,
            "grid_auto_flow": null,
            "grid_auto_rows": null,
            "grid_column": null,
            "grid_gap": null,
            "grid_row": null,
            "grid_template_areas": null,
            "grid_template_columns": null,
            "grid_template_rows": null,
            "height": null,
            "justify_content": null,
            "justify_items": null,
            "left": null,
            "margin": null,
            "max_height": null,
            "max_width": null,
            "min_height": null,
            "min_width": null,
            "object_fit": null,
            "object_position": null,
            "order": null,
            "overflow": null,
            "overflow_x": null,
            "overflow_y": null,
            "padding": null,
            "right": null,
            "top": null,
            "visibility": null,
            "width": null
          }
        },
        "3263de225bd7499fb00cec79b12f6666": {
          "model_module": "@jupyter-widgets/base",
          "model_name": "LayoutModel",
          "model_module_version": "1.2.0",
          "state": {
            "_model_module": "@jupyter-widgets/base",
            "_model_module_version": "1.2.0",
            "_model_name": "LayoutModel",
            "_view_count": null,
            "_view_module": "@jupyter-widgets/base",
            "_view_module_version": "1.2.0",
            "_view_name": "LayoutView",
            "align_content": null,
            "align_items": null,
            "align_self": null,
            "border": null,
            "bottom": null,
            "display": null,
            "flex": null,
            "flex_flow": null,
            "grid_area": null,
            "grid_auto_columns": null,
            "grid_auto_flow": null,
            "grid_auto_rows": null,
            "grid_column": null,
            "grid_gap": null,
            "grid_row": null,
            "grid_template_areas": null,
            "grid_template_columns": null,
            "grid_template_rows": null,
            "height": null,
            "justify_content": null,
            "justify_items": null,
            "left": null,
            "margin": null,
            "max_height": null,
            "max_width": null,
            "min_height": null,
            "min_width": null,
            "object_fit": null,
            "object_position": null,
            "order": null,
            "overflow": null,
            "overflow_x": null,
            "overflow_y": null,
            "padding": null,
            "right": null,
            "top": null,
            "visibility": null,
            "width": null
          }
        },
        "34b99ae0ffbd452d8ee47dca17e7656c": {
          "model_module": "@jupyter-widgets/controls",
          "model_name": "DescriptionStyleModel",
          "model_module_version": "1.5.0",
          "state": {
            "_model_module": "@jupyter-widgets/controls",
            "_model_module_version": "1.5.0",
            "_model_name": "DescriptionStyleModel",
            "_view_count": null,
            "_view_module": "@jupyter-widgets/base",
            "_view_module_version": "1.2.0",
            "_view_name": "StyleView",
            "description_width": ""
          }
        },
        "075ad1abd7e745a8988d9ec54a3c7c18": {
          "model_module": "@jupyter-widgets/base",
          "model_name": "LayoutModel",
          "model_module_version": "1.2.0",
          "state": {
            "_model_module": "@jupyter-widgets/base",
            "_model_module_version": "1.2.0",
            "_model_name": "LayoutModel",
            "_view_count": null,
            "_view_module": "@jupyter-widgets/base",
            "_view_module_version": "1.2.0",
            "_view_name": "LayoutView",
            "align_content": null,
            "align_items": null,
            "align_self": null,
            "border": null,
            "bottom": null,
            "display": null,
            "flex": null,
            "flex_flow": null,
            "grid_area": null,
            "grid_auto_columns": null,
            "grid_auto_flow": null,
            "grid_auto_rows": null,
            "grid_column": null,
            "grid_gap": null,
            "grid_row": null,
            "grid_template_areas": null,
            "grid_template_columns": null,
            "grid_template_rows": null,
            "height": null,
            "justify_content": null,
            "justify_items": null,
            "left": null,
            "margin": null,
            "max_height": null,
            "max_width": null,
            "min_height": null,
            "min_width": null,
            "object_fit": null,
            "object_position": null,
            "order": null,
            "overflow": null,
            "overflow_x": null,
            "overflow_y": null,
            "padding": null,
            "right": null,
            "top": null,
            "visibility": null,
            "width": null
          }
        },
        "3b88bde43b5f445d8a9dde7cebb4c5a3": {
          "model_module": "@jupyter-widgets/controls",
          "model_name": "ProgressStyleModel",
          "model_module_version": "1.5.0",
          "state": {
            "_model_module": "@jupyter-widgets/controls",
            "_model_module_version": "1.5.0",
            "_model_name": "ProgressStyleModel",
            "_view_count": null,
            "_view_module": "@jupyter-widgets/base",
            "_view_module_version": "1.2.0",
            "_view_name": "StyleView",
            "bar_color": null,
            "description_width": ""
          }
        },
        "1fcfdff4e1b44c1a9be180c3ca4fe036": {
          "model_module": "@jupyter-widgets/base",
          "model_name": "LayoutModel",
          "model_module_version": "1.2.0",
          "state": {
            "_model_module": "@jupyter-widgets/base",
            "_model_module_version": "1.2.0",
            "_model_name": "LayoutModel",
            "_view_count": null,
            "_view_module": "@jupyter-widgets/base",
            "_view_module_version": "1.2.0",
            "_view_name": "LayoutView",
            "align_content": null,
            "align_items": null,
            "align_self": null,
            "border": null,
            "bottom": null,
            "display": null,
            "flex": null,
            "flex_flow": null,
            "grid_area": null,
            "grid_auto_columns": null,
            "grid_auto_flow": null,
            "grid_auto_rows": null,
            "grid_column": null,
            "grid_gap": null,
            "grid_row": null,
            "grid_template_areas": null,
            "grid_template_columns": null,
            "grid_template_rows": null,
            "height": null,
            "justify_content": null,
            "justify_items": null,
            "left": null,
            "margin": null,
            "max_height": null,
            "max_width": null,
            "min_height": null,
            "min_width": null,
            "object_fit": null,
            "object_position": null,
            "order": null,
            "overflow": null,
            "overflow_x": null,
            "overflow_y": null,
            "padding": null,
            "right": null,
            "top": null,
            "visibility": null,
            "width": null
          }
        },
        "3bbed65984f84b4dac6d1ffc4fb0508e": {
          "model_module": "@jupyter-widgets/controls",
          "model_name": "DescriptionStyleModel",
          "model_module_version": "1.5.0",
          "state": {
            "_model_module": "@jupyter-widgets/controls",
            "_model_module_version": "1.5.0",
            "_model_name": "DescriptionStyleModel",
            "_view_count": null,
            "_view_module": "@jupyter-widgets/base",
            "_view_module_version": "1.2.0",
            "_view_name": "StyleView",
            "description_width": ""
          }
        }
      }
    },
    "accelerator": "GPU"
  },
  "cells": [
    {
      "cell_type": "code",
      "execution_count": null,
      "metadata": {
        "colab": {
          "base_uri": "https://localhost:8080/"
        },
        "id": "IDuFOzjNn1Lf",
        "outputId": "6400603d-6f48-44dd-a384-a896428aa4a2"
      },
      "outputs": [
        {
          "output_type": "stream",
          "name": "stdout",
          "text": [
            "Collecting faster-whisper\n",
            "  Downloading faster-whisper-0.10.0.tar.gz (1.5 MB)\n",
            "\u001b[2K     \u001b[90m━━━━━━━━━━━━━━━━━━━━━━━━━━━━━━━━━━━━━━━━\u001b[0m \u001b[32m1.5/1.5 MB\u001b[0m \u001b[31m19.8 MB/s\u001b[0m eta \u001b[36m0:00:00\u001b[0m\n",
            "\u001b[?25h  Preparing metadata (setup.py) ... \u001b[?25l\u001b[?25hdone\n",
            "Collecting av==10.* (from faster-whisper)\n",
            "  Downloading av-10.0.0-cp310-cp310-manylinux_2_17_x86_64.manylinux2014_x86_64.whl (31.0 MB)\n",
            "\u001b[2K     \u001b[90m━━━━━━━━━━━━━━━━━━━━━━━━━━━━━━━━━━━━━━━━\u001b[0m \u001b[32m31.0/31.0 MB\u001b[0m \u001b[31m55.3 MB/s\u001b[0m eta \u001b[36m0:00:00\u001b[0m\n",
            "\u001b[?25hCollecting ctranslate2<4,>=3.22 (from faster-whisper)\n",
            "  Downloading ctranslate2-3.22.0-cp310-cp310-manylinux_2_17_x86_64.manylinux2014_x86_64.whl (36.8 MB)\n",
            "\u001b[2K     \u001b[90m━━━━━━━━━━━━━━━━━━━━━━━━━━━━━━━━━━━━━━━━\u001b[0m \u001b[32m36.8/36.8 MB\u001b[0m \u001b[31m14.8 MB/s\u001b[0m eta \u001b[36m0:00:00\u001b[0m\n",
            "\u001b[?25hRequirement already satisfied: huggingface_hub>=0.13 in /usr/local/lib/python3.10/dist-packages (from faster-whisper) (0.19.4)\n",
            "Requirement already satisfied: tokenizers<0.16,>=0.13 in /usr/local/lib/python3.10/dist-packages (from faster-whisper) (0.15.0)\n",
            "Collecting onnxruntime<2,>=1.14 (from faster-whisper)\n",
            "  Downloading onnxruntime-1.16.3-cp310-cp310-manylinux_2_17_x86_64.manylinux2014_x86_64.whl (6.4 MB)\n",
            "\u001b[2K     \u001b[90m━━━━━━━━━━━━━━━━━━━━━━━━━━━━━━━━━━━━━━━━\u001b[0m \u001b[32m6.4/6.4 MB\u001b[0m \u001b[31m107.8 MB/s\u001b[0m eta \u001b[36m0:00:00\u001b[0m\n",
            "\u001b[?25hRequirement already satisfied: setuptools in /usr/local/lib/python3.10/dist-packages (from ctranslate2<4,>=3.22->faster-whisper) (67.7.2)\n",
            "Requirement already satisfied: numpy in /usr/local/lib/python3.10/dist-packages (from ctranslate2<4,>=3.22->faster-whisper) (1.23.5)\n",
            "Requirement already satisfied: pyyaml<7,>=5.3 in /usr/local/lib/python3.10/dist-packages (from ctranslate2<4,>=3.22->faster-whisper) (6.0.1)\n",
            "Requirement already satisfied: filelock in /usr/local/lib/python3.10/dist-packages (from huggingface_hub>=0.13->faster-whisper) (3.13.1)\n",
            "Requirement already satisfied: fsspec>=2023.5.0 in /usr/local/lib/python3.10/dist-packages (from huggingface_hub>=0.13->faster-whisper) (2023.6.0)\n",
            "Requirement already satisfied: requests in /usr/local/lib/python3.10/dist-packages (from huggingface_hub>=0.13->faster-whisper) (2.31.0)\n",
            "Requirement already satisfied: tqdm>=4.42.1 in /usr/local/lib/python3.10/dist-packages (from huggingface_hub>=0.13->faster-whisper) (4.66.1)\n",
            "Requirement already satisfied: typing-extensions>=3.7.4.3 in /usr/local/lib/python3.10/dist-packages (from huggingface_hub>=0.13->faster-whisper) (4.5.0)\n",
            "Requirement already satisfied: packaging>=20.9 in /usr/local/lib/python3.10/dist-packages (from huggingface_hub>=0.13->faster-whisper) (23.2)\n",
            "Collecting coloredlogs (from onnxruntime<2,>=1.14->faster-whisper)\n",
            "  Downloading coloredlogs-15.0.1-py2.py3-none-any.whl (46 kB)\n",
            "\u001b[2K     \u001b[90m━━━━━━━━━━━━━━━━━━━━━━━━━━━━━━━━━━━━━━━━\u001b[0m \u001b[32m46.0/46.0 kB\u001b[0m \u001b[31m5.9 MB/s\u001b[0m eta \u001b[36m0:00:00\u001b[0m\n",
            "\u001b[?25hRequirement already satisfied: flatbuffers in /usr/local/lib/python3.10/dist-packages (from onnxruntime<2,>=1.14->faster-whisper) (23.5.26)\n",
            "Requirement already satisfied: protobuf in /usr/local/lib/python3.10/dist-packages (from onnxruntime<2,>=1.14->faster-whisper) (3.20.3)\n",
            "Requirement already satisfied: sympy in /usr/local/lib/python3.10/dist-packages (from onnxruntime<2,>=1.14->faster-whisper) (1.12)\n",
            "Collecting humanfriendly>=9.1 (from coloredlogs->onnxruntime<2,>=1.14->faster-whisper)\n",
            "  Downloading humanfriendly-10.0-py2.py3-none-any.whl (86 kB)\n",
            "\u001b[2K     \u001b[90m━━━━━━━━━━━━━━━━━━━━━━━━━━━━━━━━━━━━━━━━\u001b[0m \u001b[32m86.8/86.8 kB\u001b[0m \u001b[31m14.2 MB/s\u001b[0m eta \u001b[36m0:00:00\u001b[0m\n",
            "\u001b[?25hRequirement already satisfied: charset-normalizer<4,>=2 in /usr/local/lib/python3.10/dist-packages (from requests->huggingface_hub>=0.13->faster-whisper) (3.3.2)\n",
            "Requirement already satisfied: idna<4,>=2.5 in /usr/local/lib/python3.10/dist-packages (from requests->huggingface_hub>=0.13->faster-whisper) (3.4)\n",
            "Requirement already satisfied: urllib3<3,>=1.21.1 in /usr/local/lib/python3.10/dist-packages (from requests->huggingface_hub>=0.13->faster-whisper) (2.0.7)\n",
            "Requirement already satisfied: certifi>=2017.4.17 in /usr/local/lib/python3.10/dist-packages (from requests->huggingface_hub>=0.13->faster-whisper) (2023.7.22)\n",
            "Requirement already satisfied: mpmath>=0.19 in /usr/local/lib/python3.10/dist-packages (from sympy->onnxruntime<2,>=1.14->faster-whisper) (1.3.0)\n",
            "Building wheels for collected packages: faster-whisper\n",
            "  Building wheel for faster-whisper (setup.py) ... \u001b[?25l\u001b[?25hdone\n",
            "  Created wheel for faster-whisper: filename=faster_whisper-0.10.0-py3-none-any.whl size=1539727 sha256=f8784eae9a6a4cda169c951c82cdf09b0c5f3215adecfc697876c7a78f22149e\n",
            "  Stored in directory: /root/.cache/pip/wheels/b3/4e/9a/bd36d2645cb73f909a3a65a2e317fec5c6a79c8121ab9eb42f\n",
            "Successfully built faster-whisper\n",
            "Installing collected packages: av, humanfriendly, ctranslate2, coloredlogs, onnxruntime, faster-whisper\n",
            "Successfully installed av-10.0.0 coloredlogs-15.0.1 ctranslate2-3.22.0 faster-whisper-0.10.0 humanfriendly-10.0 onnxruntime-1.16.3\n"
          ]
        }
      ],
      "source": [
        "!pip install faster-whisper"
      ]
    },
    {
      "cell_type": "code",
      "source": [
        "from google.colab import drive\n",
        "drive.mount('/content/drive')"
      ],
      "metadata": {
        "colab": {
          "base_uri": "https://localhost:8080/"
        },
        "id": "_cINCjo9H4Yq",
        "outputId": "a968cc51-abbd-4699-d1ca-ab0d32b2c92f"
      },
      "execution_count": null,
      "outputs": [
        {
          "output_type": "stream",
          "name": "stdout",
          "text": [
            "Mounted at /content/drive\n"
          ]
        }
      ]
    },
    {
      "cell_type": "code",
      "source": [
        "import nltk\n",
        "from nltk.corpus import stopwords\n",
        "\n",
        "nltk.download('stopwords')\n",
        "nltk.download('cmudict')"
      ],
      "metadata": {
        "colab": {
          "base_uri": "https://localhost:8080/"
        },
        "id": "NUEsSkdbrv14",
        "outputId": "7fdc89c0-1ae6-4844-8144-6a216bf99b20"
      },
      "execution_count": null,
      "outputs": [
        {
          "output_type": "stream",
          "name": "stderr",
          "text": [
            "[nltk_data] Downloading package stopwords to /root/nltk_data...\n",
            "[nltk_data]   Package stopwords is already up-to-date!\n",
            "[nltk_data] Downloading package cmudict to /root/nltk_data...\n",
            "[nltk_data]   Package cmudict is already up-to-date!\n"
          ]
        },
        {
          "output_type": "execute_result",
          "data": {
            "text/plain": [
              "True"
            ]
          },
          "metadata": {},
          "execution_count": 4
        }
      ]
    },
    {
      "cell_type": "code",
      "source": [
        "from nltk.stem import PorterStemmer\n",
        "from nltk.tokenize import sent_tokenize, word_tokenize #idk\n",
        "\n",
        "from collections import Counter # a list counter into a dict (hash)\n",
        "\n",
        "import regex as re\n",
        "\n",
        "import numpy as np"
      ],
      "metadata": {
        "id": "rQYCvUGAg_zj"
      },
      "execution_count": null,
      "outputs": []
    },
    {
      "cell_type": "code",
      "source": [
        "from nltk.corpus import cmudict\n",
        "d = cmudict.dict()"
      ],
      "metadata": {
        "id": "rXHmc_A_r579"
      },
      "execution_count": null,
      "outputs": []
    },
    {
      "cell_type": "code",
      "source": [
        "from faster_whisper import WhisperModel"
      ],
      "metadata": {
        "id": "nQpdAv1Fr306"
      },
      "execution_count": null,
      "outputs": []
    },
    {
      "cell_type": "code",
      "source": [
        "import librosa\n",
        "import numpy as np\n",
        "import glob\n",
        "import os\n",
        "import regex as re\n",
        "import json\n",
        "import time"
      ],
      "metadata": {
        "id": "yFX-9Hu4sxEu"
      },
      "execution_count": null,
      "outputs": []
    },
    {
      "cell_type": "code",
      "source": [
        "!wget http://archive.ubuntu.com/ubuntu/pool/main/o/openssl/libssl1.1_1.1.0g-2ubuntu4_amd64.deb\n",
        "!sudo dpkg -i libssl1.1_1.1.0g-2ubuntu4_amd64.deb"
      ],
      "metadata": {
        "colab": {
          "base_uri": "https://localhost:8080/"
        },
        "id": "XbRsnZ9r442X",
        "outputId": "1b852ce9-badc-44c5-fda6-86085e1a6859"
      },
      "execution_count": null,
      "outputs": [
        {
          "output_type": "stream",
          "name": "stdout",
          "text": [
            "--2023-11-30 05:21:20--  http://archive.ubuntu.com/ubuntu/pool/main/o/openssl/libssl1.1_1.1.0g-2ubuntu4_amd64.deb\n",
            "Resolving archive.ubuntu.com (archive.ubuntu.com)... 91.189.91.81, 91.189.91.83, 91.189.91.82, ...\n",
            "Connecting to archive.ubuntu.com (archive.ubuntu.com)|91.189.91.81|:80... connected.\n",
            "HTTP request sent, awaiting response... 200 OK\n",
            "Length: 1128092 (1.1M) [application/vnd.debian.binary-package]\n",
            "Saving to: ‘libssl1.1_1.1.0g-2ubuntu4_amd64.deb’\n",
            "\n",
            "libssl1.1_1.1.0g-2u 100%[===================>]   1.08M  4.94MB/s    in 0.2s    \n",
            "\n",
            "2023-11-30 05:21:20 (4.94 MB/s) - ‘libssl1.1_1.1.0g-2ubuntu4_amd64.deb’ saved [1128092/1128092]\n",
            "\n",
            "Selecting previously unselected package libssl1.1:amd64.\n",
            "(Reading database ... 120882 files and directories currently installed.)\n",
            "Preparing to unpack libssl1.1_1.1.0g-2ubuntu4_amd64.deb ...\n",
            "Unpacking libssl1.1:amd64 (1.1.0g-2ubuntu4) ...\n",
            "Setting up libssl1.1:amd64 (1.1.0g-2ubuntu4) ...\n",
            "debconf: unable to initialize frontend: Dialog\n",
            "debconf: (No usable dialog-like program is installed, so the dialog based frontend cannot be used. at /usr/share/perl5/Debconf/FrontEnd/Dialog.pm line 78.)\n",
            "debconf: falling back to frontend: Readline\n",
            "debconf: unable to initialize frontend: Readline\n",
            "debconf: (This frontend requires a controlling tty.)\n",
            "debconf: falling back to frontend: Teletype\n",
            "Processing triggers for libc-bin (2.35-0ubuntu3.4) ...\n",
            "/sbin/ldconfig.real: /usr/local/lib/libtbbmalloc.so.2 is not a symbolic link\n",
            "\n",
            "/sbin/ldconfig.real: /usr/local/lib/libtbbbind.so.3 is not a symbolic link\n",
            "\n",
            "/sbin/ldconfig.real: /usr/local/lib/libtbbmalloc_proxy.so.2 is not a symbolic link\n",
            "\n",
            "/sbin/ldconfig.real: /usr/local/lib/libtbbbind_2_0.so.3 is not a symbolic link\n",
            "\n",
            "/sbin/ldconfig.real: /usr/local/lib/libtbbbind_2_5.so.3 is not a symbolic link\n",
            "\n",
            "/sbin/ldconfig.real: /usr/local/lib/libtbb.so.12 is not a symbolic link\n",
            "\n"
          ]
        }
      ]
    },
    {
      "cell_type": "code",
      "source": [
        "!pip install azure-cognitiveservices-speech"
      ],
      "metadata": {
        "colab": {
          "base_uri": "https://localhost:8080/"
        },
        "id": "5lzniFrFSnld",
        "outputId": "8baad641-a32e-4bbd-8ce8-d4c99a9dac6e"
      },
      "execution_count": null,
      "outputs": [
        {
          "output_type": "stream",
          "name": "stdout",
          "text": [
            "Collecting azure-cognitiveservices-speech\n",
            "  Downloading azure_cognitiveservices_speech-1.33.0-py3-none-manylinux1_x86_64.whl (3.2 MB)\n",
            "\u001b[2K     \u001b[90m━━━━━━━━━━━━━━━━━━━━━━━━━━━━━━━━━━━━━━━━\u001b[0m \u001b[32m3.2/3.2 MB\u001b[0m \u001b[31m13.4 MB/s\u001b[0m eta \u001b[36m0:00:00\u001b[0m\n",
            "\u001b[?25hInstalling collected packages: azure-cognitiveservices-speech\n",
            "Successfully installed azure-cognitiveservices-speech-1.33.0\n"
          ]
        }
      ]
    },
    {
      "cell_type": "code",
      "source": [
        "!pip install pydub"
      ],
      "metadata": {
        "colab": {
          "base_uri": "https://localhost:8080/"
        },
        "id": "oDjswIEgjUk-",
        "outputId": "ff862e8c-6f13-42b4-8c7d-3c6a372f2855"
      },
      "execution_count": null,
      "outputs": [
        {
          "output_type": "stream",
          "name": "stdout",
          "text": [
            "Collecting pydub\n",
            "  Downloading pydub-0.25.1-py2.py3-none-any.whl (32 kB)\n",
            "Installing collected packages: pydub\n",
            "Successfully installed pydub-0.25.1\n"
          ]
        }
      ]
    },
    {
      "cell_type": "code",
      "source": [
        "import azure.cognitiveservices.speech as speechsdk\n",
        "from pydub import AudioSegment"
      ],
      "metadata": {
        "id": "6_nVZqjbSkBC"
      },
      "execution_count": null,
      "outputs": []
    },
    {
      "cell_type": "code",
      "source": [
        "speech_key, service_region = \"<your_azure_key>\", \"<your_azure_region>\""
      ],
      "metadata": {
        "id": "wftQY2IqSy0Z"
      },
      "execution_count": null,
      "outputs": []
    },
    {
      "cell_type": "code",
      "source": [
        "# Run on GPU with FP16\n",
        "model = WhisperModel(\"large-v2\", device=\"cuda\", compute_type=\"float16\")"
      ],
      "metadata": {
        "id": "LUM4D-hdoctf",
        "colab": {
          "base_uri": "https://localhost:8080/",
          "height": 145,
          "referenced_widgets": [
            "9d0c1ab6f80441128b1fefddef5249d9",
            "d3a880e0ae084e558c179dfb3690b6ed",
            "d165c0a96c9b4ee2a2d115d8827d38a3",
            "0dbb3a7c0a8240ccbc95e3294b3bfa51",
            "d350c9a9840447878a0535a3822e0b8a",
            "f4443949930f4db9976723ede1e052b7",
            "0388fe6a77724d34b4d0aa9af7ec5a14",
            "43d3769d98ff417da5ef6307e034a83d",
            "5887a89566c24b4fa076c1011e7fa923",
            "fb7c2f9896b14207a6bf3ab547bd8bdd",
            "ee72987de1914056afc2ebe152cd908b",
            "497cbdc0a2c54b03a3290f72663e8ba4",
            "9792d53cef774fb4aca3fab32f218f1f",
            "992160e08fe644ea92a10aa6ffaffc8e",
            "d3a1e70f46dc4c5c81ec7470c9ec4a85",
            "31fad2c7ada84971968a78d2e8096c22",
            "e12d2c5299c642b2b94aa73163d6cc4c",
            "da1f264747424d9bb20cdbc4335b735d",
            "b77422c9aa314c90852a34d026d7c0fe",
            "31aefe761d43496887fa649413e0b46f",
            "7f94c156ce22463db08540a2b138bc41",
            "a6f3271bca4447ab936f9809cff88d21",
            "2dab287891214f428b6f2c4871fc32bf",
            "df90799e672d404dbe86d29e147b97ae",
            "ffd98ff498d64b6ca6b637bb5019e1f9",
            "f9233e99dfe24766a813644d8632a520",
            "57b8c93692f8425aa407ea3f678ab404",
            "89a3ceb3d14943f18d8af48fd35f54fc",
            "a5759ada43dd488eba77d88aabd5d93c",
            "ec58477012b44231965c646221d3489a",
            "eb1e2f26d30a43ba9828a40cb7e9544c",
            "3523495bd9c84a029838b3a963fa3c52",
            "bbbaa492cfb44bae85ab55f0a3cc6a7d",
            "d0aa5bd4f7014ed0be92cbbd12745d6e",
            "8b6415bf1a3d45a19865d141b82ac9bc",
            "a14606e4c89b42299711dc8c998245f7",
            "541a58ca88be4245a192d3d878ccf33a",
            "7b0a65aff53d4f1abcaa93ed0b78d7a9",
            "3263de225bd7499fb00cec79b12f6666",
            "34b99ae0ffbd452d8ee47dca17e7656c",
            "075ad1abd7e745a8988d9ec54a3c7c18",
            "3b88bde43b5f445d8a9dde7cebb4c5a3",
            "1fcfdff4e1b44c1a9be180c3ca4fe036",
            "3bbed65984f84b4dac6d1ffc4fb0508e"
          ]
        },
        "outputId": "ec9dff8b-7db3-411b-e39b-5823391a04eb"
      },
      "execution_count": null,
      "outputs": [
        {
          "output_type": "display_data",
          "data": {
            "text/plain": [
              "tokenizer.json:   0%|          | 0.00/2.20M [00:00<?, ?B/s]"
            ],
            "application/vnd.jupyter.widget-view+json": {
              "version_major": 2,
              "version_minor": 0,
              "model_id": "9d0c1ab6f80441128b1fefddef5249d9"
            }
          },
          "metadata": {}
        },
        {
          "output_type": "display_data",
          "data": {
            "text/plain": [
              "config.json:   0%|          | 0.00/2.80k [00:00<?, ?B/s]"
            ],
            "application/vnd.jupyter.widget-view+json": {
              "version_major": 2,
              "version_minor": 0,
              "model_id": "497cbdc0a2c54b03a3290f72663e8ba4"
            }
          },
          "metadata": {}
        },
        {
          "output_type": "display_data",
          "data": {
            "text/plain": [
              "vocabulary.txt:   0%|          | 0.00/460k [00:00<?, ?B/s]"
            ],
            "application/vnd.jupyter.widget-view+json": {
              "version_major": 2,
              "version_minor": 0,
              "model_id": "2dab287891214f428b6f2c4871fc32bf"
            }
          },
          "metadata": {}
        },
        {
          "output_type": "display_data",
          "data": {
            "text/plain": [
              "model.bin:   0%|          | 0.00/3.09G [00:00<?, ?B/s]"
            ],
            "application/vnd.jupyter.widget-view+json": {
              "version_major": 2,
              "version_minor": 0,
              "model_id": "d0aa5bd4f7014ed0be92cbbd12745d6e"
            }
          },
          "metadata": {}
        }
      ]
    },
    {
      "cell_type": "code",
      "source": [
        "def syllables_aux(word: str) -> int:\n",
        "    #referred from stackoverflow.com/questions/14541303/count-the-number-of-syllables-in-a-word\n",
        "    count = 0\n",
        "    vowels = 'aeiouy'\n",
        "    word = word.lower()\n",
        "    if(len(word)>0):\n",
        "        if word[0] in vowels:\n",
        "            count +=1\n",
        "        for index in range(1,len(word)):\n",
        "            if word[index] in vowels and word[index-1] not in vowels:\n",
        "                count +=1\n",
        "        if word.endswith('e'):\n",
        "            count -= 1\n",
        "        if word.endswith('le'):\n",
        "            count += 1\n",
        "        if count == 0:\n",
        "            count += 1\n",
        "    return count"
      ],
      "metadata": {
        "id": "S5PcUhXwrgfO"
      },
      "execution_count": null,
      "outputs": []
    },
    {
      "cell_type": "code",
      "source": [
        "def count_word_syllables(word: str):\n",
        "    try:\n",
        "        # return the pronunciation with the minimum number of syllables\n",
        "        return min([len(list(y for y in x if y[-1].isdigit())) for x in d[word.lower()]])\n",
        "    except KeyError:\n",
        "        return syllables_aux(word)"
      ],
      "metadata": {
        "id": "7ruNkJVjqmyU"
      },
      "execution_count": null,
      "outputs": []
    },
    {
      "cell_type": "code",
      "source": [
        "def get_audio_duration(file_path: str):\n",
        "   audio_data, sample_rate = librosa.load(file_path)\n",
        "   duration = librosa.get_duration(y=audio_data, sr=sample_rate)\n",
        "   return duration"
      ],
      "metadata": {
        "id": "azc3fLY8szmz"
      },
      "execution_count": null,
      "outputs": []
    },
    {
      "cell_type": "code",
      "source": [
        "def clean_word(word: str) -> str:\n",
        "    lower = word.lower()\n",
        "    new_str = \"\"\n",
        "    for c in lower:\n",
        "        if c.isalpha():\n",
        "            new_str += c\n",
        "    return new_str"
      ],
      "metadata": {
        "id": "WjyBOwY9ilGY"
      },
      "execution_count": null,
      "outputs": []
    },
    {
      "cell_type": "code",
      "source": [
        "def is_filler_word(word: str) -> str:\n",
        "    return re.fullmatch(r\"u+m+|e+m+|e+r+|e+h+|u+h+\", word) is not None"
      ],
      "metadata": {
        "id": "-b1JwCwKBu3R"
      },
      "execution_count": null,
      "outputs": []
    },
    {
      "cell_type": "code",
      "source": [
        "def pronunciation_assessment_continuous_from_file(file_name: str, reference_text: str, use_recognition_once: bool):\n",
        "    \"\"\"Performs continuous pronunciation assessment asynchronously with input from an audio file.\n",
        "        See more information at https://aka.ms/csspeech/pa\"\"\"\n",
        "\n",
        "    # Create wav file from mp3\n",
        "    sound = AudioSegment.from_mp3(file_name)\n",
        "    wav_file_name = file_name[:-3] + \"wav\"\n",
        "    sound.export(wav_file_name, format=\"wav\")\n",
        "\n",
        "    speech_config = speechsdk.SpeechConfig(subscription=speech_key, region=service_region)\n",
        "    audio_config = speechsdk.audio.AudioConfig(filename=wav_file_name)\n",
        "\n",
        "    pronunciation_config = speechsdk.PronunciationAssessmentConfig(reference_text=reference_text, enable_miscue=True)\n",
        "    # pronunciation_config.nbest_phoneme_count = 2\n",
        "\n",
        "    # Creates a speech recognizer using a file as audio input.\n",
        "    language = 'en-US'\n",
        "    speech_recognizer = speechsdk.SpeechRecognizer(speech_config=speech_config, language=language, audio_config=audio_config)\n",
        "\n",
        "    # apply pronunciation assessment config to speech recognizer\n",
        "    pronunciation_config.apply_to(speech_recognizer)\n",
        "\n",
        "    done = False\n",
        "    assessments = []\n",
        "\n",
        "    def stop_cb(evt: speechsdk.SessionEventArgs):\n",
        "        \"\"\"callback that signals to stop continuous recognition upon receiving an event `evt`\"\"\"\n",
        "        # print('CLOSING on {}'.format(evt))\n",
        "        nonlocal done\n",
        "        done = True\n",
        "\n",
        "    def recognized(evt: speechsdk.SpeechRecognitionEventArgs):\n",
        "        nonlocal assessments\n",
        "        pronunciation_assessment_result_json = evt.result.properties.get(\n",
        "            speechsdk.PropertyId.SpeechServiceResponse_JsonResult)\n",
        "        assessments.append(pronunciation_assessment_result_json)\n",
        "\n",
        "    # Connect callbacks to the events fired by the speech recognizer\n",
        "    speech_recognizer.recognized.connect(recognized)\n",
        "    speech_recognizer.session_stopped.connect(stop_cb)\n",
        "    speech_recognizer.canceled.connect(stop_cb)\n",
        "\n",
        "    # Start continuous pronunciation assessment\n",
        "    if use_recognition_once:\n",
        "        speech_recognizer.recognize_once()\n",
        "    else:\n",
        "        speech_recognizer.start_continuous_recognition()\n",
        "    while not done:\n",
        "        time.sleep(.5)\n",
        "    return assessments"
      ],
      "metadata": {
        "id": "PzqqBPubTmjL"
      },
      "execution_count": null,
      "outputs": []
    },
    {
      "cell_type": "code",
      "source": [
        "def get_errors_from_assessment(result: str) -> int:\n",
        "    n_errors = 0\n",
        "    for obj in result:\n",
        "        data = json.loads(obj)\n",
        "        best1 = data[\"NBest\"][0]\n",
        "        for word in best1[\"Words\"]:\n",
        "            error_type = word[\"PronunciationAssessment\"][\"ErrorType\"]\n",
        "            if error_type != \"None\":\n",
        "                print(error_type)\n",
        "                n_errors += 1\n",
        "    return n_errors"
      ],
      "metadata": {
        "id": "k9LFawf-UsTw"
      },
      "execution_count": null,
      "outputs": []
    },
    {
      "cell_type": "code",
      "source": [
        "def mfcc_feature_extraction(file_name):\n",
        "    X , sample_rate = librosa.load(file_name, sr=None) #Can also load file using librosa\n",
        "    if X.ndim > 1:\n",
        "        X = X[:,0]\n",
        "    X = X.T\n",
        "\n",
        "    mfccs = np.mean(librosa.feature.mfcc(y=X, sr=sample_rate, n_mfcc=20).T, axis=0) #Returns N_mel coefs\n",
        "    rmse = np.mean(librosa.feature.rms(y=X).T, axis=0) #RMS Energy for each Frame (Stanford's). Returns 1 value\n",
        "    spectral_flux = np.mean(librosa.onset.onset_strength(y=X, sr=sample_rate).T, axis=0) #Spectral Flux (Stanford's). Returns 1 Value\n",
        "    zcr = np.mean(librosa.feature.zero_crossing_rate(y=X).T, axis=0) #Returns 1 value\n",
        "\n",
        "    ##Return computed audio features\n",
        "    return mfccs, rmse, spectral_flux, zcr"
      ],
      "metadata": {
        "id": "WlUyXkPBsFhu"
      },
      "execution_count": null,
      "outputs": []
    },
    {
      "cell_type": "code",
      "source": [
        "def features_yu(audio_file: str, debug: bool = False) -> np.array:\n",
        "    \"\"\"\n",
        "    (1) articulation rate = number of syllables, including disfluencies, divided by to-\n",
        "    tal duration of speech apart from all (silent and filled) pauses longer than\n",
        "    0.25 seconds;\n",
        "    (2) speech rate = as for articulation rate, but including all pauses in the total\n",
        "    speech duration;\n",
        "    (3) effective speech rate = as for speech rate, but excluding disfluencies from the\n",
        "    syllable count;\n",
        "    (4) number of silent pauses above 0.25 seconds in duration;\n",
        "    (5) mean length of silent pauses longer than 0. 25 seconds;\n",
        "    (6) number of filled pauses (uh, er, mm, etc.);\n",
        "    (7) mean length of all filled pauses;\n",
        "    (8) number of pauses = sum of (4) and (6);\n",
        "    (9) mean length of pauses = mean of (5) and (7), weighted by their respective\n",
        "    frequencies (items 4 and 6);\n",
        "    (10) number of other disfluencies (repetitions, restarts, false starts, corrections);\n",
        "    (11) mean length of fluent runs = mean number of syllables produced between\n",
        "    silent pauses longer than 0.25 seconds;\n",
        "    (12) phonation/time ratio, calculated on the basis of items 4 and 6, as a percentage\n",
        "    of overall speech time = (total duration of speech without pauses, divided by\n",
        "    total duration of speech including pauses) × 100\n",
        "    \"\"\"\n",
        "    try:\n",
        "        results, _ = model.transcribe(audio_file,\n",
        "                                language=\"en\", word_timestamps=True, beam_size=5)\n",
        "        audio_duration = get_audio_duration(audio_file)\n",
        "        silent_pauses = []\n",
        "        filled_pauses = []\n",
        "        duration_of_speech_excluding_pauses = 0\n",
        "        fluent_runs_syllables = []\n",
        "        last_segment = None\n",
        "        final_transcription = \"\"\n",
        "        for segment in results:\n",
        "            if debug: print(\"New segment\")\n",
        "            final_transcription += segment.text + \" \"\n",
        "            if last_segment is not None:\n",
        "                silent_pause = segment.words[0].start - last_segment.words[-1].end\n",
        "                if silent_pause > 0.25:\n",
        "                    silent_pauses.append(silent_pause)\n",
        "            for i in range(len(segment.words)):\n",
        "                word = segment.words[i]\n",
        "                if debug: print(\"[%.2fs -> %.2fs] %s\" % (word.start, word.end, word.word))\n",
        "                # Compute silent pauses\n",
        "                if i <= len(segment.words) - 2:\n",
        "                    next = segment.words[i+1]\n",
        "                    silent_pause = next.start - word.end\n",
        "                    if silent_pause > 0.25:\n",
        "                        silent_pauses.append(silent_pause)\n",
        "                clean = clean_word(word.word)\n",
        "                # Compute filled pauses\n",
        "                if is_filler_word(clean):\n",
        "                    filled_pauses.append(word.end - word.start)\n",
        "                else:\n",
        "                    fluent_runs_syllables.append(count_word_syllables(clean))\n",
        "                    duration_of_speech_excluding_pauses += word.end - word.start\n",
        "            last_segment = segment\n",
        "        if debug:\n",
        "            print(\"Silent pauses:\", silent_pauses)\n",
        "            print(\"Filled pauses:\", filled_pauses)\n",
        "            print(\"Fluent runs (syllables):\", fluent_runs_syllables)\n",
        "            print(\"Starting assessment with transcription:\", final_transcription)\n",
        "        assessment = pronunciation_assessment_continuous_from_file(audio_file,\n",
        "                                                                reference_text=final_transcription, use_recognition_once=True)\n",
        "        if debug: print(\"Finished assessment:\", assessment)\n",
        "        articulation_rate = ((sum(fluent_runs_syllables) + len(filled_pauses)) / duration_of_speech_excluding_pauses) if duration_of_speech_excluding_pauses > 0 else 0\n",
        "        speech_rate = ((sum(fluent_runs_syllables) + len(filled_pauses)) / (duration_of_speech_excluding_pauses + sum(filled_pauses) + sum(silent_pauses))) if (duration_of_speech_excluding_pauses + sum(filled_pauses) + sum(silent_pauses)) > 0 else 0\n",
        "        effective_speech_rate = (sum(fluent_runs_syllables) / duration_of_speech_excluding_pauses) if duration_of_speech_excluding_pauses > 0 else 0\n",
        "        number_of_silent_pauses = len(silent_pauses)\n",
        "        mean_length_of_silent_pauses = (sum(silent_pauses) / number_of_silent_pauses) if number_of_silent_pauses > 0 else 0\n",
        "        number_of_filled_pauses = len(filled_pauses)\n",
        "        mean_length_of_filled_pauses = (sum(filled_pauses) / number_of_filled_pauses) if number_of_filled_pauses > 0 else 0\n",
        "        number_of_pauses = number_of_silent_pauses + number_of_filled_pauses\n",
        "        mean_length_of_pauses = ((mean_length_of_silent_pauses * number_of_silent_pauses + mean_length_of_filled_pauses * number_of_filled_pauses) / number_of_pauses) if number_of_pauses > 0 else 0\n",
        "        number_of_other_disfluencies = get_errors_from_assessment(assessment)\n",
        "        mean_length_of_fluent_runs = (sum(fluent_runs_syllables) / len(fluent_runs_syllables)) if len(fluent_runs_syllables) > 0 else 0\n",
        "        phonation_ratio = (duration_of_speech_excluding_pauses / (duration_of_speech_excluding_pauses + sum(filled_pauses) + sum(silent_pauses))) if (duration_of_speech_excluding_pauses + sum(filled_pauses) + sum(silent_pauses)) > 0 else 0\n",
        "        return np.array([\n",
        "            articulation_rate,\n",
        "            speech_rate,\n",
        "            effective_speech_rate,\n",
        "            number_of_silent_pauses,\n",
        "            mean_length_of_silent_pauses,\n",
        "            number_of_filled_pauses,\n",
        "            mean_length_of_filled_pauses,\n",
        "            number_of_pauses,\n",
        "            mean_length_of_pauses,\n",
        "            number_of_other_disfluencies,\n",
        "            mean_length_of_fluent_runs,\n",
        "            phonation_ratio\n",
        "        ])\n",
        "    except Exception as e:\n",
        "        print(e)\n",
        "        return np.zeros(12)"
      ],
      "metadata": {
        "id": "HlKiJC3sExE6"
      },
      "execution_count": null,
      "outputs": []
    },
    {
      "cell_type": "code",
      "source": [
        "def features_prosodic(audio_file: str, debug: bool = False) -> np.array:\n",
        "    \"\"\"\n",
        "    (1) Average number of filled-pauses per sec. (AvgFP)\n",
        "    (2) Average duration of a filled-pause       (DurFP) (Equals to 7th Yu's feature)\n",
        "    (3) Average distance between filled-pauses   (DistFP)\n",
        "    (4) Length of the longest filled pause       (MaxFP)\n",
        "    (5) Fraction of silence                      (FracSIL)\n",
        "    (6) Average duration of contiguous silence   (DurSIL) (Equals to 5th Yu's feature)\n",
        "    (7) Average duration of contiguous speech    (DurSP)\n",
        "    (8) Average distance between silences        (DistSIL)\n",
        "    \"\"\"\n",
        "    results, _ = model.transcribe(audio_file,\n",
        "                              language=\"en\", word_timestamps=True, beam_size=5)\n",
        "    audio_duration = get_audio_duration(audio_file)\n",
        "    silent_pauses = []\n",
        "    filled_pauses = []\n",
        "    duration_of_speech_excluding_pauses = 0\n",
        "    fluent_runs_syllables = []\n",
        "    last_segment = None\n",
        "    final_transcription = \"\"\n",
        "    for segment in results:\n",
        "        if debug: print(\"New segment\")\n",
        "        final_transcription += segment.text + \" \"\n",
        "        if last_segment is not None:\n",
        "            silent_pause = segment.words[0].start - last_segment.words[-1].end\n",
        "            if silent_pause > 0.25:\n",
        "                silent_pauses.append(silent_pause)\n",
        "        for i in range(len(segment.words)):\n",
        "            word = segment.words[i]\n",
        "            if debug: print(\"[%.2fs -> %.2fs] %s\" % (word.start, word.end, word.word))\n",
        "            # Compute silent pauses\n",
        "            if i <= len(segment.words) - 2:\n",
        "                next = segment.words[i+1]\n",
        "                silent_pause = next.start - word.end\n",
        "                if silent_pause > 0.25:\n",
        "                    silent_pauses.append(silent_pause)\n",
        "            clean = clean_word(word.word)\n",
        "            # Compute filled pauses\n",
        "            if is_filler_word(clean):\n",
        "                filled_pauses.append(word.end - word.start)\n",
        "            else:\n",
        "                fluent_runs_syllables.append(count_word_syllables(clean))\n",
        "                duration_of_speech_excluding_pauses += word.end - word.start\n",
        "        last_segment = segment\n",
        "    if debug:\n",
        "        print(\"Silent pauses:\", silent_pauses)\n",
        "        print(\"Filled pauses:\", filled_pauses)\n",
        "        print(\"Fluent runs (syllables):\", fluent_runs_syllables)\n",
        "\n",
        "\n",
        "    def get_distances_between_frames(frames) -> list:\n",
        "      if len(frames) < 2: return []\n",
        "      distances = []\n",
        "      for i in range(1, len(frames)):\n",
        "        dist = abs(frames[i-1] - frames[i])\n",
        "        distances.append(dist)\n",
        "      return distances\n",
        "\n",
        "    # Primary features\n",
        "    number_of_filled_pauses = len(filled_pauses)\n",
        "    number_of_silent_pauses = len(silent_pauses)\n",
        "\n",
        "    # Prosodic Features\n",
        "    # 1) Average number of filled-pauses per sec. (AvgFP)\n",
        "    mean_number_of_filled_pauses_per_sec = number_of_filled_pauses / audio_duration\n",
        "\n",
        "    # 2) Average duration of a filled-pause       (DurFP) (Equals to 7th Yu's feature)\n",
        "    mean_length_of_filled_pauses = sum(filled_pauses) / number_of_filled_pauses if number_of_filled_pauses else 0\n",
        "\n",
        "    # 3) Average distance between filled-pauses   (DistFP)\n",
        "    distances_between_fp = get_distances_between_frames(filled_pauses)\n",
        "    mean_distance_between_fp = sum(distances_between_fp)/len(distances_between_fp) if len(filled_pauses) >= 2 else 0\n",
        "\n",
        "    # 4) Length of the longest filled pause       (MaxFP)\n",
        "    length_longest_fp = max(filled_pauses) if len(filled_pauses) > 0 else 0\n",
        "\n",
        "    # 5) Fraction of silence                      (FracSIL)\n",
        "    fraction_of_silence = sum(silent_pauses) / audio_duration\n",
        "\n",
        "    # 6) Average duration of contiguous silence   (DurSIL) (Equals to 5th Yu's feature)\n",
        "    mean_length_of_silent_pauses = sum(silent_pauses) / number_of_silent_pauses if number_of_silent_pauses else 0\n",
        "\n",
        "    # 7) Average duration of contiguous speech    (DurSP)\n",
        "    mean_duration_of_contiguous_speech = duration_of_speech_excluding_pauses / len(fluent_runs_syllables) if len(fluent_runs_syllables) != 0 else 0\n",
        "\n",
        "    # 8) Average distance between silences        (DistSIL)\n",
        "    distances_between_silences = get_distances_between_frames(silent_pauses)\n",
        "    mean_distance_between_silences = sum(distances_between_silences)/len(distances_between_silences) if len(silent_pauses) >= 2 else 0\n",
        "\n",
        "\n",
        "    return np.array([\n",
        "        mean_number_of_filled_pauses_per_sec,\n",
        "        mean_length_of_filled_pauses,\n",
        "        mean_distance_between_fp,\n",
        "        length_longest_fp,\n",
        "        fraction_of_silence,\n",
        "        mean_length_of_silent_pauses,\n",
        "        mean_duration_of_contiguous_speech,\n",
        "        mean_distance_between_silences\n",
        "    ])"
      ],
      "metadata": {
        "id": "R8piHYT_WBQS"
      },
      "execution_count": null,
      "outputs": []
    },
    {
      "cell_type": "markdown",
      "source": [
        "Lexical Features"
      ],
      "metadata": {
        "id": "DWHcInAPhDz-"
      }
    },
    {
      "cell_type": "code",
      "source": [
        "ps = PorterStemmer()"
      ],
      "metadata": {
        "id": "jeZrnbhohC3L"
      },
      "execution_count": null,
      "outputs": []
    },
    {
      "cell_type": "code",
      "source": [
        "stop_words = set(stopwords.words('english'))\n",
        "discourse_markers_no_proccessed = set({'and','also','moreover','too','furthermore','additionally','such','because','so',\n",
        "                     'therefore','thus','consequently','hence','similarly','likewise','like','equally','first','second','third',\n",
        "                     'next','meanwhile','after','then','subsequently','especially','significantly','indeed','notably','but',\n",
        "                     'however','although','unless','except','apart','if','whereas','instead','alternatively','otherwise','unlike','conversely'})\n",
        "discourse_markers = set({})\n",
        "for connector in discourse_markers_no_proccessed:\n",
        "  connector = ps.stem(connector)\n",
        "  if connector not in stop_words:\n",
        "    discourse_markers.add(connector)\n",
        "\n",
        "discourse_markers"
      ],
      "metadata": {
        "colab": {
          "base_uri": "https://localhost:8080/"
        },
        "id": "i-oSVfRjhJI0",
        "outputId": "fd1b5141-590d-44dd-edb7-668fb1f489ef"
      },
      "execution_count": null,
      "outputs": [
        {
          "output_type": "execute_result",
          "data": {
            "text/plain": [
              "{'addit',\n",
              " 'also',\n",
              " 'altern',\n",
              " 'although',\n",
              " 'apart',\n",
              " 'becaus',\n",
              " 'consequ',\n",
              " 'convers',\n",
              " 'equal',\n",
              " 'especi',\n",
              " 'except',\n",
              " 'first',\n",
              " 'furthermor',\n",
              " 'henc',\n",
              " 'howev',\n",
              " 'inde',\n",
              " 'instead',\n",
              " 'like',\n",
              " 'likewis',\n",
              " 'meanwhil',\n",
              " 'moreov',\n",
              " 'next',\n",
              " 'notabl',\n",
              " 'otherwis',\n",
              " 'second',\n",
              " 'significantli',\n",
              " 'similarli',\n",
              " 'subsequ',\n",
              " 'therefor',\n",
              " 'third',\n",
              " 'thu',\n",
              " 'unless',\n",
              " 'unlik',\n",
              " 'wherea'}"
            ]
          },
          "metadata": {},
          "execution_count": 43
        }
      ]
    },
    {
      "cell_type": "code",
      "source": [
        "def is_filler_word(word: str) -> str:\n",
        "    return re.fullmatch(r\"u+m+|e+m+|e+r+|e+h+|u+h+\", word) is not None"
      ],
      "metadata": {
        "id": "EzDVmYMQhXCs"
      },
      "execution_count": null,
      "outputs": []
    },
    {
      "cell_type": "code",
      "source": [
        "def lexical_features(audio_file: str, debug: bool = False) -> np.array:\n",
        "  \"\"\"\n",
        "  (1) Count of most frequent words                : FreqW\n",
        "  (2) Total words                                 : TW\n",
        "  (3) Total unique words                          : TUW\n",
        "  (4) Count of filled-pauses                      : CFP\n",
        "  (5) Count of dictionary words                   : Cwrd\n",
        "  (6) Total repeated 'similar' trigrams           : RepTri\n",
        "  (7) No. of closely occurring unigrams           : ClUni\n",
        "  (8) No. of closely occurring similar trigrams   : ClTri\n",
        "  \"\"\"\n",
        "  results, _ = model.transcribe(audio_file, language=\"en\", word_timestamps=True, beam_size=5, initial_prompt = \"Transcribe me all kind of filled pauses such as um, em, er, erm, eh, uh, uhm, hm, mm.\")\n",
        "  words_stemmed: list(str) = []\n",
        "  for segment in results:\n",
        "    for word in segment.words:\n",
        "        element: str = fromWordtoString(word.word)\n",
        "        if element not in stop_words:\n",
        "          words_stemmed.append(ps.stem(element))\n",
        "        # print(\"[%.2fs -> %.2fs] %s\" % (word.start, word.end, word.word))\n",
        "  dictFreqW = {}\n",
        "  for word in words_stemmed:\n",
        "    if word in discourse_markers:\n",
        "      if word not in dictFreqW:\n",
        "        dictFreqW[word] = 1\n",
        "      else:\n",
        "        dictFreqW[word] += 1\n",
        "  # captures the speaker’s favourite discourse marker\n",
        "  FreqW = 0\n",
        "  for key in dictFreqW:\n",
        "    FreqW = max(FreqW, dictFreqW[key])\n",
        "  # is the count of total words in the transcript\n",
        "  TW = len(words_stemmed)\n",
        "  # is a good indicator of the speaker’s vocabulary\n",
        "  TUW = 0\n",
        "  dictTUW = dict(Counter(words_stemmed))\n",
        "  TUW = len(dictTUW)\n",
        "  # which counts the total number of filled pauses in the transcript\n",
        "  CFP = 0\n",
        "  for word in words_stemmed:\n",
        "    if is_filler_word(word):\n",
        "      CFP += 1\n",
        "  # is the difference of (2) and (4)\n",
        "  Cwrd = TW - CFP\n",
        "  # two trigrams are called ’similar’ if they differ by at most a single word deletion, insertion of substitution\n",
        "  RepTri = 0\n",
        "  sz = len(words_stemmed)\n",
        "  already_visited = []\n",
        "  for i in range(sz):\n",
        "      PIECE = 0\n",
        "      for j in range(i+1,sz):\n",
        "\n",
        "          if words_stemmed[i] not in already_visited and (words_stemmed[i] == words_stemmed[j]):\n",
        "              listA = []\n",
        "              listB = []\n",
        "              for k in range(4):\n",
        "                  if i+k < sz:\n",
        "                      listA.append(words_stemmed[i+k])\n",
        "                  if j+k < sz:\n",
        "                      listB.append(words_stemmed[j+k])\n",
        "\n",
        "\n",
        "              if(len(listA) <= 2 or (len(listB) <= 2)):\n",
        "                  continue\n",
        "              cont = 0\n",
        "\n",
        "              s_iter = 0\n",
        "              for m in range(0,len(listA)):\n",
        "                  for s in range(s_iter,len(listB)):\n",
        "                      if (listA[m] == listB[s]):\n",
        "                          cont += 1\n",
        "                          s_iter += 1\n",
        "\n",
        "              if(cont >= 3):\n",
        "                  PIECE += 1\n",
        "                  if debug: print(\"Check \", end=\" \")\n",
        "\n",
        "\n",
        "              if debug: print(listA, listB)\n",
        "      already_visited.append(words_stemmed[i])\n",
        "      if(PIECE): RepTri += PIECE + 1\n",
        "  # captures the number of instances of one-word repetition disfluencies with at the most one-word-long edit phrases while feature\n",
        "  ClUni = 0\n",
        "  # Assuring its at most one-word long\n",
        "  dictSet = set()\n",
        "  for i in range(len(words_stemmed)-1):\n",
        "    if (words_stemmed[i] == words_stemmed[i+1]):\n",
        "      ClUni += 1\n",
        "      dictSet.add(words_stemmed[i])\n",
        "\n",
        "  ClUni += len(dictSet)\n",
        "  # captures the number of repetition disfluencies where the reparandum is three-word long and the edit-phrase is at the most two-word long\n",
        "  # Currently is difficult to analyze how to detect reparandum\n",
        "  ClTri = 0\n",
        "  if debug:\n",
        "    print(f\"Count of most frequent words (FreqW): {FreqW}\")\n",
        "    print(f\"Total words (TW): {TW}\")\n",
        "    print(f\"Total unique words (TUW): {TUW}\")\n",
        "    print(f\"Count of filled-pauses (CFP): {CFP}\")\n",
        "    print(f\"Count of dictionary words (Cwrd): {Cwrd}\")\n",
        "    print(f\"Total repeated 'similar' trigrams (RepTri): {RepTri}\")\n",
        "    print(f\"No. of closely occurring unigrams (ClUni): {ClUni}\")\n",
        "    print(f\"No. of closely occurring similar trigrams (ClTri): {ClTri}\")\n",
        "    print(words_stemmed)\n",
        "    print(results)\n",
        "  return np.array([\n",
        "      FreqW,\n",
        "      TW,\n",
        "      TUW,\n",
        "      CFP,\n",
        "      Cwrd,\n",
        "      RepTri,\n",
        "      ClUni\n",
        "      # ClTri\n",
        "  ])\n"
      ],
      "metadata": {
        "id": "n20pw9Vmhbnc"
      },
      "execution_count": null,
      "outputs": []
    },
    {
      "cell_type": "code",
      "source": [
        "def fromWordtoString(word: str) -> str:\n",
        "  ans = \"\"\n",
        "  pattern = r'[aA-zZ|\\']'\n",
        "\n",
        "  for letter in word:\n",
        "    if re.match(pattern,letter):\n",
        "      ans = ans + letter\n",
        "\n",
        "  return ans.lower()"
      ],
      "metadata": {
        "id": "Sd3nmY0ohfIL"
      },
      "execution_count": null,
      "outputs": []
    },
    {
      "cell_type": "markdown",
      "source": [
        "# Extract all features and save to file"
      ],
      "metadata": {
        "id": "JX7yiuJwMmyy"
      }
    },
    {
      "cell_type": "code",
      "source": [
        "PATH = \"<path_to_dataset>\""
      ],
      "metadata": {
        "id": "lOwp2v6nO7pT"
      },
      "execution_count": null,
      "outputs": []
    },
    {
      "cell_type": "code",
      "source": [
        "audio_subdirectories = os.listdir(PATH)\n",
        "audio_subdirectories.sort()\n",
        "print('Audio Subdirs: ', audio_subdirectories)"
      ],
      "metadata": {
        "id": "-NECkH1XNj9e"
      },
      "execution_count": null,
      "outputs": []
    },
    {
      "cell_type": "code",
      "source": [
        "def parse_audio_files_mfcc(parent_dir, sub_dirs, file_ext='*.mp3'): # Audio Format\n",
        "    n_mfccs = 20 # This variable is tunneable with each run\n",
        "    number_of_features = 3 + n_mfccs\n",
        "    #number_of_features = 154 + n_mfccs # 154 are the total values returned by rest of computed features\n",
        "    features, labels = np.empty((0,number_of_features)), np.empty(0)\n",
        "    filenames = np.empty(0, dtype=object)\n",
        "    ##Extract features for each audio file\n",
        "    for label, sub_dir in enumerate(sub_dirs): ##The enumerate() function adds a counter to an iterable.\n",
        "        for file_name in glob.glob(os.path.join(parent_dir, sub_dir, file_ext)): ##parent is data, sub_dirs are the classes\n",
        "            print(\"Actual File Name: \", file_name)\n",
        "            try:\n",
        "                mfccs, rmse, spectral_flux, zcr = feature_extraction(file_name)\n",
        "            except Exception as e:\n",
        "                print(\"[Error] there was an error in feature extraction. %s\" % (e))\n",
        "                continue\n",
        "            extracted_features = np.hstack([mfccs, rmse, spectral_flux, zcr])\n",
        "            features = np.vstack([features, extracted_features]) #Stack arrays in sequence vertically (row wise).\n",
        "            labels = np.append(labels, label)\n",
        "            filenames = np.append(filenames, file_name)\n",
        "        print(\"Extracted features from %s, done\" % (sub_dir))\n",
        "    return np.array(features), np.array(labels, dtype = int), filenames ## arrays with features and"
      ],
      "metadata": {
        "id": "VSX6ftqZ3ZGH"
      },
      "execution_count": null,
      "outputs": []
    },
    {
      "cell_type": "code",
      "source": [
        "def parse_audio_files_yu(parent_dir, sub_dirs, file_ext='*'): # Audio Format\n",
        "    features = np.empty((0, N_FEATURES_YU))\n",
        "    labels = np.empty(0, dtype=int)\n",
        "    filenames = np.empty(0, dtype=object)\n",
        "    for label, sub_dir in enumerate(sub_dirs):\n",
        "        for file_name in glob.glob(os.path.join(parent_dir, sub_dir, file_ext)):\n",
        "            print(\"Actual File Name: \", file_name)\n",
        "            try:\n",
        "                extracted_features = features_yu(file_name)\n",
        "            except Exception as e:\n",
        "                print(\"[Error] there was an error in feature extraction. %s\" % (e))\n",
        "                continue\n",
        "            print(\"Features: \", extracted_features)\n",
        "            features = np.vstack([features, extracted_features])\n",
        "            labels = np.append(labels, label)\n",
        "            filenames = np.append(filenames, file_name)\n",
        "        print(\"Extracted features from %s, done\" % (sub_dir))\n",
        "    return features, labels, filenames"
      ],
      "metadata": {
        "id": "J9BJQxE1Mp3P"
      },
      "execution_count": null,
      "outputs": []
    },
    {
      "cell_type": "code",
      "source": [
        "def parse_audio_files_lexical_prosodic(parent_dir, sub_dirs, file_ext='*.mp3'): # Audio Format\n",
        "    features = np.empty((0, 8+7))\n",
        "    labels = np.empty(0, dtype=int)\n",
        "    filenames = np.empty(0, dtype=object)\n",
        "    for label, sub_dir in enumerate(sub_dirs):\n",
        "        i = 0\n",
        "        for file_name in glob.glob(os.path.join(parent_dir, sub_dir, file_ext)):\n",
        "            if i % 100 == 0:\n",
        "              print(\"Actual File Name: \", file_name)\n",
        "            try:\n",
        "                extracted_prosodic_features = features_prosodic(file_name, 0)\n",
        "                extracted_lexical_features = lexical_features(file_name, 0)\n",
        "                extracted_features = np.concatenate([extracted_prosodic_features, extracted_lexical_features])\n",
        "            except Exception as e:\n",
        "                print(\"[Error] there was an error in feature extraction. %s\" % (e))\n",
        "                continue\n",
        "            if i % 100 == 0:\n",
        "              print(\"Features: \", extracted_features)\n",
        "            i += 1\n",
        "            features = np.vstack([features, extracted_features])\n",
        "            labels = np.append(labels, label)\n",
        "            filenames = np.append(filenames, file_name)\n",
        "        print(\"Extracted features from %s, done\" % (sub_dir))\n",
        "    return features, labels, filenames"
      ],
      "metadata": {
        "id": "WS874YMhWkW8"
      },
      "execution_count": null,
      "outputs": []
    },
    {
      "cell_type": "code",
      "source": [
        "features, labels, filenames = parse_audio_files_mfcc(PATH, audio_subdirectories) #(parent dir,sub dirs)\n",
        "np.save('mfcc-features.npy', features)\n",
        "np.save('mfcc-labels.npy', labels)\n",
        "np.save('mfcc-filenames.npy', filenames)"
      ],
      "metadata": {
        "id": "7dMu1oPw3iNf"
      },
      "execution_count": null,
      "outputs": []
    },
    {
      "cell_type": "code",
      "source": [
        "features, labels, filenames = parse_audio_files_yu(PATH, audio_subdirectories) #(parent dir,sub dirs)\n",
        "np.save('yu-features.npy', features)\n",
        "np.save('yu-labels.npy', labels)\n",
        "np.save('yu-filenames.npy', filenames)"
      ],
      "metadata": {
        "id": "KxlXV0UfOIlc"
      },
      "execution_count": null,
      "outputs": []
    },
    {
      "cell_type": "code",
      "source": [
        "features, labels, filenames = parse_audio_files_lexical_prosodic(PATH, audio_subdirectories) #(parent dir,sub dirs)\n",
        "np.save('lexical-prosodic-features.npy', features)\n",
        "np.save('lexical-prosodic-labels.npy', labels)\n",
        "np.save('lexical-prosodic-filenames.npy', filenames)"
      ],
      "metadata": {
        "id": "Tv5VUy5D3Gtm"
      },
      "execution_count": null,
      "outputs": []
    }
  ]
}