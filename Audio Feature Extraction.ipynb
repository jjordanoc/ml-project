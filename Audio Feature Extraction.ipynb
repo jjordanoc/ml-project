{
 "cells": [
  {
   "cell_type": "markdown",
   "source": [
    "# Setup"
   ],
   "metadata": {
    "collapsed": false
   }
  },
  {
   "cell_type": "code",
   "execution_count": 1,
   "outputs": [],
   "source": [
    "class_labels = ['Low', 'Intermediate', 'High']"
   ],
   "metadata": {
    "collapsed": false,
    "ExecuteTime": {
     "end_time": "2023-11-29T04:05:10.220018300Z",
     "start_time": "2023-11-29T04:05:10.177200300Z"
    }
   }
  },
  {
   "cell_type": "code",
   "execution_count": 26,
   "outputs": [],
   "source": [
    "import os\n",
    "import glob\n",
    "import librosa\n",
    "import matplotlib.pyplot as plt\n",
    "import numpy as np\n",
    "from sklearn.svm import SVC\n",
    "from sklearn.model_selection import train_test_split\n",
    "from sklearn.metrics import ConfusionMatrixDisplay, confusion_matrix\n",
    "import numpy as np\n",
    "from tensorflow.keras.models import Sequential\n",
    "from tensorflow.keras.layers import Dense, Dropout, Activation\n",
    "from tensorflow.keras.utils import to_categorical\n",
    "from sklearn.model_selection import train_test_split\n",
    "from typing import Tuple"
   ],
   "metadata": {
    "collapsed": false,
    "ExecuteTime": {
     "end_time": "2023-11-29T04:42:42.966998600Z",
     "start_time": "2023-11-29T04:42:42.963999300Z"
    }
   }
  },
  {
   "cell_type": "code",
   "execution_count": 35,
   "outputs": [],
   "source": [
    "def load_features(feature_type: str, original: bool = True, return_file_indices: bool = False):\n",
    "    features, labels = np.load(f\"{feature_type}-features.npy\"), np.load(f\"{feature_type}-labels.npy\").ravel()\n",
    "    if not original:\n",
    "        filenames = np.load(f\"{feature_type}-filenames.npy\", allow_pickle=True).tolist()\n",
    "        clean_filenames = []\n",
    "        for f in filenames:\n",
    "            new_f = f.split(\"/\")[-1]\n",
    "            clean_filenames.append(new_f)\n",
    "        filenames = clean_filenames\n",
    "        files_to_extract = [\n",
    "            \"Luis Suarez interview in English after being awarded November player of the month segment 1 - Woman.mp3\"]\n",
    "        for num in [2, 3, 4, 5, 9, 14, 18, 19, 23, 26, 29]:\n",
    "            files_to_extract.append(\n",
    "                f\"Luis Suarez interview in English after being awarded November player of the month segment {num} - W.mp3\")\n",
    "        files_to_return = files_to_extract\n",
    "        indices_adv_to_basic = []\n",
    "        for extract in files_to_extract:\n",
    "            indices_adv_to_basic.append(filenames.index(extract))\n",
    "        files_to_extract = [\n",
    "            \"Musira  Rwandan athlete inability to fluently articulate himself in English segment 2 - Musira.mp3\"]\n",
    "        for num in [3, 4, 5, 6, 8, 9, 10, 11, 12, 13, 14]:\n",
    "            files_to_extract.append(\n",
    "                f\"Musira  Rwandan athlete inability to fluently articulate himself in English segment {num} - M.mp3\")\n",
    "        indices_basic_to_intermediate = []\n",
    "        for extract in files_to_extract:\n",
    "            indices_basic_to_intermediate.append(filenames.index(extract))\n",
    "        files_to_extract = [\n",
    "            \"Elderly Chinese street cleaner speaks fluent English segment 1 - Guy.mp3\"]\n",
    "        for num in [2, 3, 4, 13, 14, 15, 16, 17, 33, 34, 41, 42, 43, 44, 63, 75]:\n",
    "            files_to_extract.append(\n",
    "                f\"Elderly Chinese street cleaner speaks fluent English segment {num} - G.mp3\")\n",
    "        indices_intermediate_to_advanced = []\n",
    "        for extract in files_to_extract:\n",
    "            indices_intermediate_to_advanced.append(filenames.index(extract))\n",
    "        for ind1 in indices_adv_to_basic:\n",
    "            labels[ind1] = 0\n",
    "        for ind2 in indices_intermediate_to_advanced:\n",
    "            labels[ind2] = 2\n",
    "        for ind3 in indices_basic_to_intermediate:\n",
    "            labels[ind3] = 1\n",
    "        if return_file_indices:\n",
    "            return features, labels, files_to_return, indices_adv_to_basic\n",
    "    return features, labels"
   ],
   "metadata": {
    "collapsed": false,
    "ExecuteTime": {
     "end_time": "2023-11-29T04:47:04.341500900Z",
     "start_time": "2023-11-29T04:47:04.327244700Z"
    }
   }
  },
  {
   "cell_type": "markdown",
   "source": [
    "# Experiment 1"
   ],
   "metadata": {
    "collapsed": false
   }
  },
  {
   "cell_type": "markdown",
   "source": [
    "Hypothesis 1: Since the classifier isn’t learning to classify english fluency levels, but rather acting as a speaker recognition algorithm, if we label an advanced speaker’s audio fragments as “Basic”, or an intermediate speaker’s audio as “Advanced” and so forth, the classifier’s performance shouldn’t be affected.\n",
    "Create a new dataset by moving 12 audio fragments from “Basic” to “Intermediate”, 17 from “Intermediate” to “Advanced”, and 12 from “Advanced” to “Basic”.\n",
    "Train the model with the highest accuracy from [1] (SVM) with the original dataset, maintaining as many unchanged parameters as possible.\n",
    "Find accuracy and confusion matrix to use as reference.\n",
    "Train the model with the highest accuracy from [1] (SVM) with the modified dataset, maintaining as many unchanged parameters as possible.\n",
    "Find accuracy and confusion matrix.\n",
    "Compare the results.\n"
   ],
   "metadata": {
    "collapsed": false
   }
  },
  {
   "cell_type": "code",
   "execution_count": 4,
   "outputs": [],
   "source": [
    "def experiment_1(feature_type: str, model_type: str, original: bool = True):\n",
    "    X, y = load_features(feature_type, original)\n",
    "\n",
    "    # Fix random seed number\n",
    "    np.random.seed(7)\n",
    "\n",
    "    # Load the data\n",
    "    X_train, X_test, y_train, y_test = train_test_split(X, y, test_size=0.3, random_state=30)\n",
    "\n",
    "    if model_type == \"SVM\":\n",
    "        # SVM classifier\n",
    "        svm_clf = SVC(C=200, gamma=0.0001, kernel='rbf', decision_function_shape=\"ovr\")\n",
    "\n",
    "        # Fit model\n",
    "        svm_clf.fit(X_train, y_train)\n",
    "\n",
    "        # Predictions\n",
    "        y_predict = svm_clf.predict(X_test)\n",
    "        # Accuracy Result\n",
    "        acc = svm_clf.score(X_test, y_test)\n",
    "        # Accuracy Result\n",
    "        print(\"Test accuracy = %0.4f\" % acc)\n",
    "\n",
    "        cm = confusion_matrix(y_test, y_predict)\n",
    "        cm_display = ConfusionMatrixDisplay(confusion_matrix=cm, display_labels=class_labels)\n",
    "        cm_display.plot(cmap=\"inferno\")\n",
    "    else:\n",
    "        number_of_features = len(X[1])  #This is variable with each run\n",
    "        number_of_classes = 3\n",
    "        # Neural Network Architecture\n",
    "        model = Sequential()  # Define Sequential model\n",
    "\n",
    "        # Using relu on the first two layers and softmax on the output layer\n",
    "\n",
    "        # 1st Layer\n",
    "        #N neurons, Number_Fatures-dimensional vectors\n",
    "        model.add(Dense(128, input_dim=number_of_features, activation='relu'))  #32, 64, 128, 256, 512, 1024\n",
    "        model.add(Dropout(0.5))\n",
    "\n",
    "        # 2nd Layer\n",
    "        model.add(Dense(128, activation='relu'))\n",
    "        model.add(Dropout(0.5))\n",
    "\n",
    "        # 3rd Layer. Output 3 neurons corresponding the number of classes\n",
    "        # The sigmoid function is used for the two-class logistic regression,\n",
    "        # whereas the softmax function is used for the multiclass logistic regression\n",
    "        model.add(Dense(number_of_classes, activation='softmax'))\n",
    "\n",
    "        # Model Compilation. Loss for multi-class classification problem\n",
    "        # sgd = SGD(lr=0.01, decay=1e-6, momentum=0.9, nesterov=True)\n",
    "        # rmsprop = 'rmsprop'\n",
    "        adam = 'adam'\n",
    "        model.compile(loss='categorical_crossentropy',\n",
    "                      optimizer=adam,  #rmsprop better than sgd\n",
    "                      metrics=['accuracy'])\n",
    "\n",
    "        # Convert labels to categorical one-hot encoding\n",
    "        y_train = to_categorical(y_train - 1, num_classes=number_of_classes)  # Convert class vector into binary Matrix\n",
    "        y_test = to_categorical(y_test - 1, num_classes=number_of_classes)\n",
    "\n",
    "        # Train and test\n",
    "        history = model.fit(X_train, y_train, epochs=100, batch_size=64)  #batch 32, 64, 128, 256, 512\n",
    "\n",
    "        plt.plot(history.history['loss'])\n",
    "        plt.title('model loss')\n",
    "        plt.ylabel('loss')\n",
    "        plt.xlabel('epoch')\n",
    "        plt.legend(['train'], loc='upper left')\n",
    "        plt.show()\n",
    "\n",
    "        score, acc = model.evaluate(X_test, y_test, batch_size=64)\n",
    "        print('Test accuracy = ', acc)\n",
    "\n",
    "        Y_pred = model.predict(X_test)\n",
    "        y_predict_non_category = [np.argmax(t) for t in Y_pred]\n",
    "        y_test_non_category = [np.argmax(t) for t in y_test]\n",
    "        cm = confusion_matrix(y_test_non_category, y_predict_non_category)\n",
    "        cm_display = ConfusionMatrixDisplay(confusion_matrix=cm, display_labels=class_labels)\n",
    "        cm_display.plot(cmap=\"inferno\")"
   ],
   "metadata": {
    "collapsed": false,
    "ExecuteTime": {
     "end_time": "2023-11-29T04:05:52.443400200Z",
     "start_time": "2023-11-29T04:05:52.378732700Z"
    }
   }
  },
  {
   "cell_type": "markdown",
   "source": [
    "## Original dataset/MFCC/SVM"
   ],
   "metadata": {
    "collapsed": false
   }
  },
  {
   "cell_type": "code",
   "execution_count": 122,
   "outputs": [
    {
     "name": "stdout",
     "output_type": "stream",
     "text": [
      "Test accuracy = 0.9369\n"
     ]
    },
    {
     "data": {
      "text/plain": "<Figure size 432x288 with 2 Axes>",
      "image/png": "[encoded data removed]"
     },
     "metadata": {},
     "output_type": "display_data"
    }
   ],
   "source": [
    "experiment_1(feature_type=\"mfcc\", model_type=\"SVM\", original=True)"
   ],
   "metadata": {
    "collapsed": false,
    "ExecuteTime": {
     "end_time": "2023-11-29T01:43:34.574437900Z",
     "start_time": "2023-11-29T01:43:33.093800500Z"
    }
   }
  },
  {
   "cell_type": "markdown",
   "source": [
    "## Original dataset/MFCC/MLP"
   ],
   "metadata": {
    "collapsed": false
   }
  },
  {
   "cell_type": "code",
   "execution_count": 123,
   "outputs": [
    {
     "name": "stdout",
     "output_type": "stream",
     "text": [
      "Epoch 1/100\n",
      "16/16 [==============================] - 4s 23ms/step - loss: 44.1910 - accuracy: 0.3675\n",
      "Epoch 2/100\n",
      "16/16 [==============================] - 0s 12ms/step - loss: 33.1836 - accuracy: 0.3343\n",
      "Epoch 3/100\n",
      "16/16 [==============================] - 0s 10ms/step - loss: 21.2752 - accuracy: 0.3936\n",
      "Epoch 4/100\n",
      "16/16 [==============================] - 0s 9ms/step - loss: 14.8312 - accuracy: 0.3956\n",
      "Epoch 5/100\n",
      "16/16 [==============================] - 0s 9ms/step - loss: 10.7102 - accuracy: 0.4157\n",
      "Epoch 6/100\n",
      "16/16 [==============================] - 0s 12ms/step - loss: 8.7675 - accuracy: 0.4076\n",
      "Epoch 7/100\n",
      "16/16 [==============================] - 0s 10ms/step - loss: 6.3418 - accuracy: 0.4468\n",
      "Epoch 8/100\n",
      "16/16 [==============================] - 0s 9ms/step - loss: 5.1115 - accuracy: 0.4147\n",
      "Epoch 9/100\n",
      "16/16 [==============================] - 0s 9ms/step - loss: 4.4621 - accuracy: 0.4327\n",
      "Epoch 10/100\n",
      "16/16 [==============================] - 0s 8ms/step - loss: 3.6002 - accuracy: 0.4518\n",
      "Epoch 11/100\n",
      "16/16 [==============================] - 0s 9ms/step - loss: 2.7707 - accuracy: 0.4829\n",
      "Epoch 12/100\n",
      "16/16 [==============================] - 0s 9ms/step - loss: 2.7474 - accuracy: 0.4578\n",
      "Epoch 13/100\n",
      "16/16 [==============================] - 0s 10ms/step - loss: 2.0360 - accuracy: 0.4829\n",
      "Epoch 14/100\n",
      "16/16 [==============================] - 0s 13ms/step - loss: 1.9036 - accuracy: 0.4669\n",
      "Epoch 15/100\n",
      "16/16 [==============================] - 0s 9ms/step - loss: 1.7316 - accuracy: 0.4980\n",
      "Epoch 16/100\n",
      "16/16 [==============================] - 0s 8ms/step - loss: 1.5743 - accuracy: 0.4950\n",
      "Epoch 17/100\n",
      "16/16 [==============================] - 0s 7ms/step - loss: 1.4072 - accuracy: 0.5120\n",
      "Epoch 18/100\n",
      "16/16 [==============================] - 0s 8ms/step - loss: 1.3465 - accuracy: 0.4930\n",
      "Epoch 19/100\n",
      "16/16 [==============================] - 0s 8ms/step - loss: 1.2491 - accuracy: 0.4940\n",
      "Epoch 20/100\n",
      "16/16 [==============================] - 0s 8ms/step - loss: 1.2272 - accuracy: 0.5120\n",
      "Epoch 21/100\n",
      "16/16 [==============================] - 0s 8ms/step - loss: 1.2717 - accuracy: 0.5120\n",
      "Epoch 22/100\n",
      "16/16 [==============================] - 0s 8ms/step - loss: 1.2562 - accuracy: 0.4940\n",
      "Epoch 23/100\n",
      "16/16 [==============================] - 0s 11ms/step - loss: 1.1064 - accuracy: 0.5161\n",
      "Epoch 24/100\n",
      "16/16 [==============================] - 0s 8ms/step - loss: 1.1870 - accuracy: 0.5040\n",
      "Epoch 25/100\n",
      "16/16 [==============================] - 0s 8ms/step - loss: 1.1217 - accuracy: 0.4950\n",
      "Epoch 26/100\n",
      "16/16 [==============================] - 0s 8ms/step - loss: 1.0307 - accuracy: 0.5371\n",
      "Epoch 27/100\n",
      "16/16 [==============================] - 0s 8ms/step - loss: 1.0522 - accuracy: 0.5442\n",
      "Epoch 28/100\n",
      "16/16 [==============================] - 0s 9ms/step - loss: 1.0676 - accuracy: 0.5502\n",
      "Epoch 29/100\n",
      "16/16 [==============================] - 0s 8ms/step - loss: 0.9820 - accuracy: 0.5371\n",
      "Epoch 30/100\n",
      "16/16 [==============================] - 0s 8ms/step - loss: 0.9615 - accuracy: 0.5542\n",
      "Epoch 31/100\n",
      "16/16 [==============================] - 0s 10ms/step - loss: 0.9678 - accuracy: 0.5683\n",
      "Epoch 32/100\n",
      "16/16 [==============================] - 0s 10ms/step - loss: 0.9569 - accuracy: 0.5512\n",
      "Epoch 33/100\n",
      "16/16 [==============================] - 0s 8ms/step - loss: 0.9380 - accuracy: 0.5783\n",
      "Epoch 34/100\n",
      "16/16 [==============================] - 0s 8ms/step - loss: 0.9433 - accuracy: 0.5592\n",
      "Epoch 35/100\n",
      "16/16 [==============================] - 0s 8ms/step - loss: 0.9143 - accuracy: 0.5863\n",
      "Epoch 36/100\n",
      "16/16 [==============================] - 0s 8ms/step - loss: 0.8712 - accuracy: 0.5924\n",
      "Epoch 37/100\n",
      "16/16 [==============================] - 0s 8ms/step - loss: 0.8822 - accuracy: 0.5713\n",
      "Epoch 38/100\n",
      "16/16 [==============================] - 0s 8ms/step - loss: 0.8524 - accuracy: 0.5763\n",
      "Epoch 39/100\n",
      "16/16 [==============================] - 0s 7ms/step - loss: 0.8796 - accuracy: 0.5944\n",
      "Epoch 40/100\n",
      "16/16 [==============================] - 0s 11ms/step - loss: 0.8638 - accuracy: 0.5934\n",
      "Epoch 41/100\n",
      "16/16 [==============================] - 0s 7ms/step - loss: 0.8388 - accuracy: 0.6145\n",
      "Epoch 42/100\n",
      "16/16 [==============================] - 0s 8ms/step - loss: 0.8083 - accuracy: 0.6245\n",
      "Epoch 43/100\n",
      "16/16 [==============================] - 0s 8ms/step - loss: 0.8471 - accuracy: 0.6175\n",
      "Epoch 44/100\n",
      "16/16 [==============================] - 0s 7ms/step - loss: 0.8037 - accuracy: 0.6225\n",
      "Epoch 45/100\n",
      "16/16 [==============================] - 0s 8ms/step - loss: 0.8282 - accuracy: 0.6034\n",
      "Epoch 46/100\n",
      "16/16 [==============================] - 0s 8ms/step - loss: 0.8255 - accuracy: 0.6285\n",
      "Epoch 47/100\n",
      "16/16 [==============================] - 0s 8ms/step - loss: 0.8168 - accuracy: 0.6396\n",
      "Epoch 48/100\n",
      "16/16 [==============================] - 0s 9ms/step - loss: 0.7757 - accuracy: 0.6456\n",
      "Epoch 49/100\n",
      "16/16 [==============================] - 0s 11ms/step - loss: 0.8108 - accuracy: 0.6245\n",
      "Epoch 50/100\n",
      "16/16 [==============================] - 0s 8ms/step - loss: 0.7887 - accuracy: 0.6155\n",
      "Epoch 51/100\n",
      "16/16 [==============================] - 0s 8ms/step - loss: 0.7498 - accuracy: 0.6707\n",
      "Epoch 52/100\n",
      "16/16 [==============================] - 0s 8ms/step - loss: 0.7664 - accuracy: 0.6576\n",
      "Epoch 53/100\n",
      "16/16 [==============================] - 0s 8ms/step - loss: 0.7629 - accuracy: 0.6536\n",
      "Epoch 54/100\n",
      "16/16 [==============================] - 0s 8ms/step - loss: 0.7004 - accuracy: 0.6867\n",
      "Epoch 55/100\n",
      "16/16 [==============================] - 0s 7ms/step - loss: 0.7297 - accuracy: 0.6777\n",
      "Epoch 56/100\n",
      "16/16 [==============================] - 0s 8ms/step - loss: 0.7445 - accuracy: 0.6717\n",
      "Epoch 57/100\n",
      "16/16 [==============================] - 0s 10ms/step - loss: 0.7155 - accuracy: 0.6506\n",
      "Epoch 58/100\n",
      "16/16 [==============================] - 0s 11ms/step - loss: 0.6990 - accuracy: 0.6787\n",
      "Epoch 59/100\n",
      "16/16 [==============================] - 0s 8ms/step - loss: 0.7039 - accuracy: 0.6827\n",
      "Epoch 60/100\n",
      "16/16 [==============================] - 0s 8ms/step - loss: 0.7013 - accuracy: 0.6867\n",
      "Epoch 61/100\n",
      "16/16 [==============================] - 0s 8ms/step - loss: 0.6895 - accuracy: 0.7038\n",
      "Epoch 62/100\n",
      "16/16 [==============================] - 0s 8ms/step - loss: 0.6926 - accuracy: 0.6867\n",
      "Epoch 63/100\n",
      "16/16 [==============================] - 0s 8ms/step - loss: 0.6637 - accuracy: 0.6878\n",
      "Epoch 64/100\n",
      "16/16 [==============================] - 0s 7ms/step - loss: 0.6953 - accuracy: 0.6948\n",
      "Epoch 65/100\n",
      "16/16 [==============================] - 0s 7ms/step - loss: 0.6985 - accuracy: 0.6988\n",
      "Epoch 66/100\n",
      "16/16 [==============================] - 0s 8ms/step - loss: 0.6898 - accuracy: 0.7048\n",
      "Epoch 67/100\n",
      "16/16 [==============================] - 0s 9ms/step - loss: 0.6680 - accuracy: 0.6998\n",
      "Epoch 68/100\n",
      "16/16 [==============================] - 0s 8ms/step - loss: 0.6629 - accuracy: 0.7048\n",
      "Epoch 69/100\n",
      "16/16 [==============================] - 0s 7ms/step - loss: 0.6334 - accuracy: 0.7269\n",
      "Epoch 70/100\n",
      "16/16 [==============================] - 0s 7ms/step - loss: 0.6118 - accuracy: 0.7189\n",
      "Epoch 71/100\n",
      "16/16 [==============================] - 0s 7ms/step - loss: 0.6105 - accuracy: 0.7259\n",
      "Epoch 72/100\n",
      "16/16 [==============================] - 0s 8ms/step - loss: 0.6550 - accuracy: 0.7108\n",
      "Epoch 73/100\n",
      "16/16 [==============================] - 0s 8ms/step - loss: 0.6242 - accuracy: 0.7329\n",
      "Epoch 74/100\n",
      "16/16 [==============================] - 0s 9ms/step - loss: 0.6191 - accuracy: 0.7199\n",
      "Epoch 75/100\n",
      "16/16 [==============================] - 0s 9ms/step - loss: 0.5927 - accuracy: 0.7239\n",
      "Epoch 76/100\n",
      "16/16 [==============================] - 0s 9ms/step - loss: 0.5742 - accuracy: 0.7359\n",
      "Epoch 77/100\n",
      "16/16 [==============================] - 0s 7ms/step - loss: 0.5677 - accuracy: 0.7520\n",
      "Epoch 78/100\n",
      "16/16 [==============================] - 0s 7ms/step - loss: 0.6344 - accuracy: 0.7219\n",
      "Epoch 79/100\n",
      "16/16 [==============================] - 0s 7ms/step - loss: 0.5852 - accuracy: 0.7420\n",
      "Epoch 80/100\n",
      "16/16 [==============================] - 0s 8ms/step - loss: 0.5988 - accuracy: 0.7450\n",
      "Epoch 81/100\n",
      "16/16 [==============================] - 0s 7ms/step - loss: 0.5463 - accuracy: 0.7620\n",
      "Epoch 82/100\n",
      "16/16 [==============================] - 0s 7ms/step - loss: 0.5887 - accuracy: 0.7510\n",
      "Epoch 83/100\n",
      "16/16 [==============================] - 0s 7ms/step - loss: 0.5949 - accuracy: 0.7229\n",
      "Epoch 84/100\n",
      "16/16 [==============================] - 0s 7ms/step - loss: 0.5800 - accuracy: 0.7701\n",
      "Epoch 85/100\n",
      "16/16 [==============================] - 0s 9ms/step - loss: 0.5551 - accuracy: 0.7600\n",
      "Epoch 86/100\n",
      "16/16 [==============================] - 0s 8ms/step - loss: 0.5482 - accuracy: 0.7460\n",
      "Epoch 87/100\n",
      "16/16 [==============================] - 0s 7ms/step - loss: 0.5316 - accuracy: 0.7530\n",
      "Epoch 88/100\n",
      "16/16 [==============================] - 0s 7ms/step - loss: 0.5508 - accuracy: 0.7550\n",
      "Epoch 89/100\n",
      "16/16 [==============================] - 0s 8ms/step - loss: 0.5323 - accuracy: 0.7631\n",
      "Epoch 90/100\n",
      "16/16 [==============================] - 0s 8ms/step - loss: 0.5249 - accuracy: 0.7691\n",
      "Epoch 91/100\n",
      "16/16 [==============================] - 0s 8ms/step - loss: 0.5457 - accuracy: 0.7550\n",
      "Epoch 92/100\n",
      "16/16 [==============================] - 0s 7ms/step - loss: 0.5375 - accuracy: 0.7600\n",
      "Epoch 93/100\n",
      "16/16 [==============================] - 0s 8ms/step - loss: 0.4939 - accuracy: 0.7791\n",
      "Epoch 94/100\n",
      "16/16 [==============================] - 0s 10ms/step - loss: 0.5241 - accuracy: 0.7620\n",
      "Epoch 95/100\n",
      "16/16 [==============================] - 0s 10ms/step - loss: 0.4742 - accuracy: 0.7912\n",
      "Epoch 96/100\n",
      "16/16 [==============================] - 0s 8ms/step - loss: 0.4665 - accuracy: 0.7962\n",
      "Epoch 97/100\n",
      "16/16 [==============================] - 0s 8ms/step - loss: 0.4924 - accuracy: 0.7892\n",
      "Epoch 98/100\n",
      "16/16 [==============================] - 0s 9ms/step - loss: 0.5197 - accuracy: 0.7751\n",
      "Epoch 99/100\n",
      "16/16 [==============================] - 0s 9ms/step - loss: 0.4782 - accuracy: 0.7861\n",
      "Epoch 100/100\n",
      "16/16 [==============================] - 0s 9ms/step - loss: 0.4733 - accuracy: 0.7962\n"
     ]
    },
    {
     "data": {
      "text/plain": "<Figure size 432x288 with 1 Axes>",
      "image/png": "[encoded data removed]"
     },
     "metadata": {},
     "output_type": "display_data"
    },
    {
     "name": "stdout",
     "output_type": "stream",
     "text": [
      "7/7 [==============================] - 1s 10ms/step - loss: 0.3652 - accuracy: 0.8808\n",
      "Test accuracy =  0.8808411359786987\n",
      "14/14 [==============================] - 0s 6ms/step\n"
     ]
    },
    {
     "data": {
      "text/plain": "<Figure size 432x288 with 2 Axes>",
      "image/png": "[encoded data removed]"
     },
     "metadata": {},
     "output_type": "display_data"
    }
   ],
   "source": [
    "experiment_1(feature_type=\"mfcc\", model_type=\"MLP\", original=True)"
   ],
   "metadata": {
    "collapsed": false,
    "ExecuteTime": {
     "end_time": "2023-11-29T01:44:26.860105Z",
     "start_time": "2023-11-29T01:44:05.240919200Z"
    }
   }
  },
  {
   "cell_type": "markdown",
   "source": [
    "## Original dataset/Yu embeddings/SVM"
   ],
   "metadata": {
    "collapsed": false
   }
  },
  {
   "cell_type": "code",
   "execution_count": 125,
   "outputs": [
    {
     "name": "stdout",
     "output_type": "stream",
     "text": [
      "Test accuracy = 0.5421\n"
     ]
    },
    {
     "data": {
      "text/plain": "<Figure size 432x288 with 2 Axes>",
      "image/png": "[encoded data removed]"
     },
     "metadata": {},
     "output_type": "display_data"
    }
   ],
   "source": [
    "experiment_1(feature_type=\"yu\", model_type=\"SVM\", original=True)"
   ],
   "metadata": {
    "collapsed": false,
    "ExecuteTime": {
     "end_time": "2023-11-29T01:45:40.734319200Z",
     "start_time": "2023-11-29T01:45:40.421493400Z"
    }
   }
  },
  {
   "cell_type": "markdown",
   "source": [
    "## Original dataset/Yu embeddings/MLP"
   ],
   "metadata": {
    "collapsed": false
   }
  },
  {
   "cell_type": "code",
   "execution_count": 126,
   "outputs": [
    {
     "name": "stdout",
     "output_type": "stream",
     "text": [
      "Epoch 1/100\n",
      "16/16 [==============================] - 3s 9ms/step - loss: 1.3362 - accuracy: 0.3263\n",
      "Epoch 2/100\n",
      "16/16 [==============================] - 0s 9ms/step - loss: 1.0923 - accuracy: 0.4468\n",
      "Epoch 3/100\n",
      "16/16 [==============================] - 0s 11ms/step - loss: 1.0743 - accuracy: 0.4378\n",
      "Epoch 4/100\n",
      "16/16 [==============================] - 0s 8ms/step - loss: 1.0145 - accuracy: 0.4970\n",
      "Epoch 5/100\n",
      "16/16 [==============================] - 0s 9ms/step - loss: 0.9939 - accuracy: 0.4859\n",
      "Epoch 6/100\n",
      "16/16 [==============================] - 0s 8ms/step - loss: 0.9707 - accuracy: 0.5311\n",
      "Epoch 7/100\n",
      "16/16 [==============================] - 0s 9ms/step - loss: 0.9733 - accuracy: 0.5171\n",
      "Epoch 8/100\n",
      "16/16 [==============================] - 0s 8ms/step - loss: 0.9634 - accuracy: 0.5231\n",
      "Epoch 9/100\n",
      "16/16 [==============================] - 0s 8ms/step - loss: 0.9524 - accuracy: 0.5261\n",
      "Epoch 10/100\n",
      "16/16 [==============================] - 0s 8ms/step - loss: 0.9353 - accuracy: 0.5090\n",
      "Epoch 11/100\n",
      "16/16 [==============================] - 0s 9ms/step - loss: 0.9327 - accuracy: 0.5331\n",
      "Epoch 12/100\n",
      "16/16 [==============================] - 0s 9ms/step - loss: 0.9380 - accuracy: 0.5432\n",
      "Epoch 13/100\n",
      "16/16 [==============================] - 0s 8ms/step - loss: 0.9308 - accuracy: 0.5562\n",
      "Epoch 14/100\n",
      "16/16 [==============================] - 0s 7ms/step - loss: 0.8951 - accuracy: 0.5612\n",
      "Epoch 15/100\n",
      "16/16 [==============================] - 0s 8ms/step - loss: 0.9010 - accuracy: 0.5703\n",
      "Epoch 16/100\n",
      "16/16 [==============================] - 0s 8ms/step - loss: 0.8973 - accuracy: 0.5552\n",
      "Epoch 17/100\n",
      "16/16 [==============================] - 0s 8ms/step - loss: 0.9065 - accuracy: 0.5552\n",
      "Epoch 18/100\n",
      "16/16 [==============================] - 0s 8ms/step - loss: 0.8970 - accuracy: 0.5532\n",
      "Epoch 19/100\n",
      "16/16 [==============================] - 0s 8ms/step - loss: 0.8817 - accuracy: 0.5803\n",
      "Epoch 20/100\n",
      "16/16 [==============================] - 0s 9ms/step - loss: 0.8771 - accuracy: 0.5773\n",
      "Epoch 21/100\n",
      "16/16 [==============================] - 0s 10ms/step - loss: 0.9002 - accuracy: 0.5622\n",
      "Epoch 22/100\n",
      "16/16 [==============================] - 0s 8ms/step - loss: 0.8631 - accuracy: 0.5914\n",
      "Epoch 23/100\n",
      "16/16 [==============================] - 0s 9ms/step - loss: 0.8880 - accuracy: 0.5703\n",
      "Epoch 24/100\n",
      "16/16 [==============================] - 0s 8ms/step - loss: 0.8819 - accuracy: 0.5562\n",
      "Epoch 25/100\n",
      "16/16 [==============================] - 0s 8ms/step - loss: 0.8932 - accuracy: 0.5552\n",
      "Epoch 26/100\n",
      "16/16 [==============================] - 0s 8ms/step - loss: 0.8827 - accuracy: 0.5612\n",
      "Epoch 27/100\n",
      "16/16 [==============================] - 0s 8ms/step - loss: 0.8696 - accuracy: 0.5904\n",
      "Epoch 28/100\n",
      "16/16 [==============================] - 0s 8ms/step - loss: 0.8621 - accuracy: 0.5964\n",
      "Epoch 29/100\n",
      "16/16 [==============================] - 0s 10ms/step - loss: 0.8739 - accuracy: 0.5753\n",
      "Epoch 30/100\n",
      "16/16 [==============================] - 0s 8ms/step - loss: 0.8504 - accuracy: 0.6074\n",
      "Epoch 31/100\n",
      "16/16 [==============================] - 0s 7ms/step - loss: 0.8814 - accuracy: 0.5894\n",
      "Epoch 32/100\n",
      "16/16 [==============================] - 0s 8ms/step - loss: 0.8694 - accuracy: 0.5853\n",
      "Epoch 33/100\n",
      "16/16 [==============================] - 0s 7ms/step - loss: 0.8745 - accuracy: 0.5833\n",
      "Epoch 34/100\n",
      "16/16 [==============================] - 0s 7ms/step - loss: 0.8705 - accuracy: 0.5974\n",
      "Epoch 35/100\n",
      "16/16 [==============================] - 0s 7ms/step - loss: 0.8728 - accuracy: 0.5863\n",
      "Epoch 36/100\n",
      "16/16 [==============================] - 0s 8ms/step - loss: 0.8714 - accuracy: 0.5823\n",
      "Epoch 37/100\n",
      "16/16 [==============================] - 0s 9ms/step - loss: 0.8642 - accuracy: 0.5954\n",
      "Epoch 38/100\n",
      "16/16 [==============================] - 0s 9ms/step - loss: 0.8661 - accuracy: 0.5914\n",
      "Epoch 39/100\n",
      "16/16 [==============================] - 0s 10ms/step - loss: 0.8608 - accuracy: 0.5904\n",
      "Epoch 40/100\n",
      "16/16 [==============================] - 0s 8ms/step - loss: 0.8757 - accuracy: 0.5763\n",
      "Epoch 41/100\n",
      "16/16 [==============================] - 0s 8ms/step - loss: 0.8635 - accuracy: 0.6175\n",
      "Epoch 42/100\n",
      "16/16 [==============================] - 0s 8ms/step - loss: 0.8616 - accuracy: 0.6064\n",
      "Epoch 43/100\n",
      "16/16 [==============================] - 0s 9ms/step - loss: 0.8475 - accuracy: 0.5994\n",
      "Epoch 44/100\n",
      "16/16 [==============================] - 0s 8ms/step - loss: 0.8718 - accuracy: 0.5783\n",
      "Epoch 45/100\n",
      "16/16 [==============================] - 0s 7ms/step - loss: 0.8632 - accuracy: 0.5894\n",
      "Epoch 46/100\n",
      "16/16 [==============================] - 0s 8ms/step - loss: 0.8574 - accuracy: 0.6044\n",
      "Epoch 47/100\n",
      "16/16 [==============================] - 0s 8ms/step - loss: 0.8710 - accuracy: 0.5884\n",
      "Epoch 48/100\n",
      "16/16 [==============================] - 0s 9ms/step - loss: 0.8669 - accuracy: 0.5863\n",
      "Epoch 49/100\n",
      "16/16 [==============================] - 0s 7ms/step - loss: 0.8598 - accuracy: 0.5894\n",
      "Epoch 50/100\n",
      "16/16 [==============================] - 0s 8ms/step - loss: 0.8704 - accuracy: 0.5853\n",
      "Epoch 51/100\n",
      "16/16 [==============================] - 0s 7ms/step - loss: 0.8560 - accuracy: 0.5924\n",
      "Epoch 52/100\n",
      "16/16 [==============================] - 0s 7ms/step - loss: 0.8522 - accuracy: 0.5964\n",
      "Epoch 53/100\n",
      "16/16 [==============================] - 0s 7ms/step - loss: 0.8606 - accuracy: 0.5934\n",
      "Epoch 54/100\n",
      "16/16 [==============================] - 0s 7ms/step - loss: 0.8556 - accuracy: 0.5663\n",
      "Epoch 55/100\n",
      "16/16 [==============================] - 0s 7ms/step - loss: 0.8451 - accuracy: 0.6104\n",
      "Epoch 56/100\n",
      "16/16 [==============================] - 0s 7ms/step - loss: 0.8580 - accuracy: 0.5934\n",
      "Epoch 57/100\n",
      "16/16 [==============================] - 0s 11ms/step - loss: 0.8540 - accuracy: 0.5974\n",
      "Epoch 58/100\n",
      "16/16 [==============================] - 0s 9ms/step - loss: 0.8498 - accuracy: 0.6024\n",
      "Epoch 59/100\n",
      "16/16 [==============================] - 0s 7ms/step - loss: 0.8449 - accuracy: 0.6014\n",
      "Epoch 60/100\n",
      "16/16 [==============================] - 0s 8ms/step - loss: 0.8561 - accuracy: 0.5753\n",
      "Epoch 61/100\n",
      "16/16 [==============================] - 0s 8ms/step - loss: 0.8465 - accuracy: 0.5994\n",
      "Epoch 62/100\n",
      "16/16 [==============================] - 0s 8ms/step - loss: 0.8387 - accuracy: 0.6004\n",
      "Epoch 63/100\n",
      "16/16 [==============================] - 0s 9ms/step - loss: 0.8473 - accuracy: 0.6014\n",
      "Epoch 64/100\n",
      "16/16 [==============================] - 0s 9ms/step - loss: 0.8513 - accuracy: 0.5633\n",
      "Epoch 65/100\n",
      "16/16 [==============================] - 0s 10ms/step - loss: 0.8476 - accuracy: 0.6185\n",
      "Epoch 66/100\n",
      "16/16 [==============================] - 0s 8ms/step - loss: 0.8424 - accuracy: 0.5994\n",
      "Epoch 67/100\n",
      "16/16 [==============================] - 0s 7ms/step - loss: 0.8452 - accuracy: 0.5994\n",
      "Epoch 68/100\n",
      "16/16 [==============================] - 0s 8ms/step - loss: 0.8474 - accuracy: 0.6054\n",
      "Epoch 69/100\n",
      "16/16 [==============================] - 0s 10ms/step - loss: 0.8522 - accuracy: 0.6024\n",
      "Epoch 70/100\n",
      "16/16 [==============================] - 0s 11ms/step - loss: 0.8467 - accuracy: 0.5873\n",
      "Epoch 71/100\n",
      "16/16 [==============================] - 0s 9ms/step - loss: 0.8425 - accuracy: 0.5904\n",
      "Epoch 72/100\n",
      "16/16 [==============================] - 0s 9ms/step - loss: 0.8309 - accuracy: 0.5994\n",
      "Epoch 73/100\n",
      "16/16 [==============================] - 0s 11ms/step - loss: 0.8407 - accuracy: 0.5974\n",
      "Epoch 74/100\n",
      "16/16 [==============================] - 0s 9ms/step - loss: 0.8581 - accuracy: 0.5954\n",
      "Epoch 75/100\n",
      "16/16 [==============================] - 0s 8ms/step - loss: 0.8304 - accuracy: 0.6084\n",
      "Epoch 76/100\n",
      "16/16 [==============================] - 0s 9ms/step - loss: 0.8373 - accuracy: 0.6165\n",
      "Epoch 77/100\n",
      "16/16 [==============================] - 0s 8ms/step - loss: 0.8423 - accuracy: 0.5974\n",
      "Epoch 78/100\n",
      "16/16 [==============================] - 0s 8ms/step - loss: 0.8390 - accuracy: 0.5934\n",
      "Epoch 79/100\n",
      "16/16 [==============================] - 0s 8ms/step - loss: 0.8422 - accuracy: 0.5974\n",
      "Epoch 80/100\n",
      "16/16 [==============================] - 0s 8ms/step - loss: 0.8222 - accuracy: 0.6275\n",
      "Epoch 81/100\n",
      "16/16 [==============================] - 0s 7ms/step - loss: 0.8338 - accuracy: 0.6215\n",
      "Epoch 82/100\n",
      "16/16 [==============================] - 0s 9ms/step - loss: 0.8318 - accuracy: 0.6285\n",
      "Epoch 83/100\n",
      "16/16 [==============================] - 0s 8ms/step - loss: 0.8339 - accuracy: 0.6014\n",
      "Epoch 84/100\n",
      "16/16 [==============================] - 0s 7ms/step - loss: 0.8373 - accuracy: 0.5984\n",
      "Epoch 85/100\n",
      "16/16 [==============================] - 0s 7ms/step - loss: 0.8258 - accuracy: 0.5924\n",
      "Epoch 86/100\n",
      "16/16 [==============================] - 0s 7ms/step - loss: 0.8428 - accuracy: 0.6024\n",
      "Epoch 87/100\n",
      "16/16 [==============================] - 0s 8ms/step - loss: 0.8356 - accuracy: 0.6135\n",
      "Epoch 88/100\n",
      "16/16 [==============================] - 0s 8ms/step - loss: 0.8431 - accuracy: 0.5994\n",
      "Epoch 89/100\n",
      "16/16 [==============================] - 0s 8ms/step - loss: 0.8387 - accuracy: 0.5853\n",
      "Epoch 90/100\n",
      "16/16 [==============================] - 0s 8ms/step - loss: 0.8339 - accuracy: 0.6094\n",
      "Epoch 91/100\n",
      "16/16 [==============================] - 0s 11ms/step - loss: 0.8274 - accuracy: 0.6104\n",
      "Epoch 92/100\n",
      "16/16 [==============================] - 0s 8ms/step - loss: 0.8218 - accuracy: 0.6145\n",
      "Epoch 93/100\n",
      "16/16 [==============================] - 0s 8ms/step - loss: 0.8337 - accuracy: 0.6175\n",
      "Epoch 94/100\n",
      "16/16 [==============================] - 0s 8ms/step - loss: 0.8192 - accuracy: 0.5974\n",
      "Epoch 95/100\n",
      "16/16 [==============================] - 0s 7ms/step - loss: 0.8263 - accuracy: 0.6084\n",
      "Epoch 96/100\n",
      "16/16 [==============================] - 0s 7ms/step - loss: 0.8240 - accuracy: 0.6084\n",
      "Epoch 97/100\n",
      "16/16 [==============================] - 0s 7ms/step - loss: 0.8297 - accuracy: 0.6155\n",
      "Epoch 98/100\n",
      "16/16 [==============================] - 0s 7ms/step - loss: 0.8371 - accuracy: 0.6014\n",
      "Epoch 99/100\n",
      "16/16 [==============================] - 0s 8ms/step - loss: 0.8413 - accuracy: 0.5914\n",
      "Epoch 100/100\n",
      "16/16 [==============================] - 0s 9ms/step - loss: 0.8309 - accuracy: 0.5984\n"
     ]
    },
    {
     "data": {
      "text/plain": "<Figure size 432x288 with 1 Axes>",
      "image/png": "[encoded data removed]"
     },
     "metadata": {},
     "output_type": "display_data"
    },
    {
     "name": "stdout",
     "output_type": "stream",
     "text": [
      "7/7 [==============================] - 0s 7ms/step - loss: 0.9950 - accuracy: 0.5678\n",
      "Test accuracy =  0.5677570104598999\n",
      "14/14 [==============================] - 0s 3ms/step\n"
     ]
    },
    {
     "data": {
      "text/plain": "<Figure size 432x288 with 2 Axes>",
      "image/png": "[encoded data removed]"
     },
     "metadata": {},
     "output_type": "display_data"
    }
   ],
   "source": [
    "experiment_1(feature_type=\"yu\", model_type=\"MLP\", original=True)"
   ],
   "metadata": {
    "collapsed": false,
    "ExecuteTime": {
     "end_time": "2023-11-29T01:46:18.413097400Z",
     "start_time": "2023-11-29T01:46:00.895263Z"
    }
   }
  },
  {
   "cell_type": "markdown",
   "source": [
    "## Modified dataset/MFCC/SVM"
   ],
   "metadata": {
    "collapsed": false
   }
  },
  {
   "cell_type": "code",
   "execution_count": 150,
   "outputs": [
    {
     "name": "stdout",
     "output_type": "stream",
     "text": [
      "[1167, 1171, 1175, 1176, 1177, 1178, 1168, 1169, 1170, 1172, 1173, 1174]\n",
      "[431, 432, 433, 434, 435, 436, 437, 426, 427, 428, 429, 430]\n",
      "[931, 937, 938, 941, 932, 933, 934, 935, 936, 939, 940, 942, 943, 944, 945, 946, 947]\n",
      "2\n",
      "2\n",
      "2\n",
      "2\n",
      "2\n",
      "2\n",
      "2\n",
      "2\n",
      "2\n",
      "2\n",
      "2\n",
      "2\n",
      "1\n",
      "1\n",
      "1\n",
      "1\n",
      "1\n",
      "1\n",
      "1\n",
      "1\n",
      "1\n",
      "1\n",
      "1\n",
      "1\n",
      "1\n",
      "1\n",
      "1\n",
      "1\n",
      "1\n",
      "0\n",
      "0\n",
      "0\n",
      "0\n",
      "0\n",
      "0\n",
      "0\n",
      "0\n",
      "0\n",
      "0\n",
      "0\n",
      "0\n",
      "Test accuracy = 0.9252\n"
     ]
    },
    {
     "data": {
      "text/plain": "<Figure size 432x288 with 2 Axes>",
      "image/png": "[encoded data removed]"
     },
     "metadata": {},
     "output_type": "display_data"
    }
   ],
   "source": [
    "experiment_1(feature_type=\"mfcc\", model_type=\"SVM\", original=False)"
   ],
   "metadata": {
    "collapsed": false,
    "ExecuteTime": {
     "end_time": "2023-11-29T02:10:04.503016500Z",
     "start_time": "2023-11-29T02:10:04.182565100Z"
    }
   }
  },
  {
   "cell_type": "markdown",
   "source": [
    "## Modified dataset/MFCC/MLP"
   ],
   "metadata": {
    "collapsed": false
   }
  },
  {
   "cell_type": "code",
   "execution_count": 144,
   "outputs": [
    {
     "name": "stdout",
     "output_type": "stream",
     "text": [
      "[1167, 1171, 1175, 1176, 1177, 1178, 1168, 1169, 1170, 1172, 1173, 1174]\n",
      "[431, 432, 433, 434, 435, 436, 437, 426, 427, 428, 429, 430]\n",
      "[931, 937, 938, 941, 932, 933, 934, 935, 936, 939, 940, 942, 943, 944, 945, 946, 947]\n",
      "Epoch 1/100\n",
      "16/16 [==============================] - 4s 21ms/step - loss: 55.0890 - accuracy: 0.2912\n",
      "Epoch 2/100\n",
      "16/16 [==============================] - 0s 11ms/step - loss: 31.6037 - accuracy: 0.3373\n",
      "Epoch 3/100\n",
      "16/16 [==============================] - 0s 9ms/step - loss: 20.1533 - accuracy: 0.3755\n",
      "Epoch 4/100\n",
      "16/16 [==============================] - 0s 10ms/step - loss: 15.5684 - accuracy: 0.3484\n",
      "Epoch 5/100\n",
      "16/16 [==============================] - 0s 9ms/step - loss: 10.3412 - accuracy: 0.3996\n",
      "Epoch 6/100\n",
      "16/16 [==============================] - 0s 15ms/step - loss: 8.1807 - accuracy: 0.3936\n",
      "Epoch 7/100\n",
      "16/16 [==============================] - 0s 18ms/step - loss: 6.1050 - accuracy: 0.4247\n",
      "Epoch 8/100\n",
      "16/16 [==============================] - 0s 20ms/step - loss: 5.4771 - accuracy: 0.4036\n",
      "Epoch 9/100\n",
      "16/16 [==============================] - 0s 11ms/step - loss: 3.9177 - accuracy: 0.4106\n",
      "Epoch 10/100\n",
      "16/16 [==============================] - 0s 17ms/step - loss: 3.1366 - accuracy: 0.4438\n",
      "Epoch 11/100\n",
      "16/16 [==============================] - 0s 11ms/step - loss: 2.8337 - accuracy: 0.4629\n",
      "Epoch 12/100\n",
      "16/16 [==============================] - 0s 9ms/step - loss: 2.5598 - accuracy: 0.4448\n",
      "Epoch 13/100\n",
      "16/16 [==============================] - 0s 20ms/step - loss: 2.3108 - accuracy: 0.3936\n",
      "Epoch 14/100\n",
      "16/16 [==============================] - 0s 20ms/step - loss: 1.8865 - accuracy: 0.4157\n",
      "Epoch 15/100\n",
      "16/16 [==============================] - 0s 10ms/step - loss: 1.8453 - accuracy: 0.4277\n",
      "Epoch 16/100\n",
      "16/16 [==============================] - 0s 11ms/step - loss: 1.6413 - accuracy: 0.4448\n",
      "Epoch 17/100\n",
      "16/16 [==============================] - 0s 13ms/step - loss: 1.5782 - accuracy: 0.4227\n",
      "Epoch 18/100\n",
      "16/16 [==============================] - 0s 14ms/step - loss: 1.3660 - accuracy: 0.4578\n",
      "Epoch 19/100\n",
      "16/16 [==============================] - 0s 9ms/step - loss: 1.3926 - accuracy: 0.4458\n",
      "Epoch 20/100\n",
      "16/16 [==============================] - 0s 10ms/step - loss: 1.2658 - accuracy: 0.4247\n",
      "Epoch 21/100\n",
      "16/16 [==============================] - 0s 12ms/step - loss: 1.2837 - accuracy: 0.4378\n",
      "Epoch 22/100\n",
      "16/16 [==============================] - 0s 9ms/step - loss: 1.3234 - accuracy: 0.4187\n",
      "Epoch 23/100\n",
      "16/16 [==============================] - 0s 8ms/step - loss: 1.2418 - accuracy: 0.4588\n",
      "Epoch 24/100\n",
      "16/16 [==============================] - 0s 12ms/step - loss: 1.2162 - accuracy: 0.4749\n",
      "Epoch 25/100\n",
      "16/16 [==============================] - 0s 9ms/step - loss: 1.1517 - accuracy: 0.4518\n",
      "Epoch 26/100\n",
      "16/16 [==============================] - 0s 8ms/step - loss: 1.1713 - accuracy: 0.4659\n",
      "Epoch 27/100\n",
      "16/16 [==============================] - 0s 8ms/step - loss: 1.1846 - accuracy: 0.4448\n",
      "Epoch 28/100\n",
      "16/16 [==============================] - 0s 11ms/step - loss: 1.1101 - accuracy: 0.4839\n",
      "Epoch 29/100\n",
      "16/16 [==============================] - 0s 8ms/step - loss: 1.1455 - accuracy: 0.4649\n",
      "Epoch 30/100\n",
      "16/16 [==============================] - 0s 8ms/step - loss: 1.1132 - accuracy: 0.4900\n",
      "Epoch 31/100\n",
      "16/16 [==============================] - 0s 10ms/step - loss: 1.1000 - accuracy: 0.4739\n",
      "Epoch 32/100\n",
      "16/16 [==============================] - 0s 13ms/step - loss: 1.1191 - accuracy: 0.4819\n",
      "Epoch 33/100\n",
      "16/16 [==============================] - 0s 9ms/step - loss: 1.0478 - accuracy: 0.5030\n",
      "Epoch 34/100\n",
      "16/16 [==============================] - 0s 8ms/step - loss: 1.0451 - accuracy: 0.4789\n",
      "Epoch 35/100\n",
      "16/16 [==============================] - 0s 9ms/step - loss: 1.0301 - accuracy: 0.5030\n",
      "Epoch 36/100\n",
      "16/16 [==============================] - 0s 8ms/step - loss: 1.0184 - accuracy: 0.5151\n",
      "Epoch 37/100\n",
      "16/16 [==============================] - 0s 9ms/step - loss: 1.0312 - accuracy: 0.5010\n",
      "Epoch 38/100\n",
      "16/16 [==============================] - 0s 9ms/step - loss: 1.0089 - accuracy: 0.5291\n",
      "Epoch 39/100\n",
      "16/16 [==============================] - 0s 8ms/step - loss: 1.0196 - accuracy: 0.5331\n",
      "Epoch 40/100\n",
      "16/16 [==============================] - 0s 11ms/step - loss: 0.9793 - accuracy: 0.5432\n",
      "Epoch 41/100\n",
      "16/16 [==============================] - 0s 9ms/step - loss: 0.9693 - accuracy: 0.5301\n",
      "Epoch 42/100\n",
      "16/16 [==============================] - 0s 8ms/step - loss: 0.9518 - accuracy: 0.5331\n",
      "Epoch 43/100\n",
      "16/16 [==============================] - 0s 8ms/step - loss: 0.9723 - accuracy: 0.5452\n",
      "Epoch 44/100\n",
      "16/16 [==============================] - 0s 8ms/step - loss: 0.9521 - accuracy: 0.5522\n",
      "Epoch 45/100\n",
      "16/16 [==============================] - 0s 8ms/step - loss: 0.9141 - accuracy: 0.5442\n",
      "Epoch 46/100\n",
      "16/16 [==============================] - 0s 8ms/step - loss: 0.8995 - accuracy: 0.5592\n",
      "Epoch 47/100\n",
      "16/16 [==============================] - 0s 7ms/step - loss: 0.9817 - accuracy: 0.5392\n",
      "Epoch 48/100\n",
      "16/16 [==============================] - 0s 7ms/step - loss: 0.9380 - accuracy: 0.5321\n",
      "Epoch 49/100\n",
      "16/16 [==============================] - 0s 10ms/step - loss: 0.9268 - accuracy: 0.5452\n",
      "Epoch 50/100\n",
      "16/16 [==============================] - 0s 9ms/step - loss: 0.8953 - accuracy: 0.5392\n",
      "Epoch 51/100\n",
      "16/16 [==============================] - 0s 8ms/step - loss: 0.9129 - accuracy: 0.5602\n",
      "Epoch 52/100\n",
      "16/16 [==============================] - 0s 8ms/step - loss: 0.9023 - accuracy: 0.5582\n",
      "Epoch 53/100\n",
      "16/16 [==============================] - 0s 8ms/step - loss: 0.8954 - accuracy: 0.5542\n",
      "Epoch 54/100\n",
      "16/16 [==============================] - 0s 7ms/step - loss: 0.8995 - accuracy: 0.5612\n",
      "Epoch 55/100\n",
      "16/16 [==============================] - 0s 8ms/step - loss: 0.8538 - accuracy: 0.5803\n",
      "Epoch 56/100\n",
      "16/16 [==============================] - 0s 8ms/step - loss: 0.8643 - accuracy: 0.5783\n",
      "Epoch 57/100\n",
      "16/16 [==============================] - 0s 8ms/step - loss: 0.8492 - accuracy: 0.5803\n",
      "Epoch 58/100\n",
      "16/16 [==============================] - 0s 10ms/step - loss: 0.8589 - accuracy: 0.5653\n",
      "Epoch 59/100\n",
      "16/16 [==============================] - 0s 7ms/step - loss: 0.8631 - accuracy: 0.5612\n",
      "Epoch 60/100\n",
      "16/16 [==============================] - 0s 8ms/step - loss: 0.8389 - accuracy: 0.5803\n",
      "Epoch 61/100\n",
      "16/16 [==============================] - 0s 8ms/step - loss: 0.8357 - accuracy: 0.5944\n",
      "Epoch 62/100\n",
      "16/16 [==============================] - 0s 9ms/step - loss: 0.8439 - accuracy: 0.5964\n",
      "Epoch 63/100\n",
      "16/16 [==============================] - 0s 8ms/step - loss: 0.8264 - accuracy: 0.6044\n",
      "Epoch 64/100\n",
      "16/16 [==============================] - 0s 8ms/step - loss: 0.8281 - accuracy: 0.5964\n",
      "Epoch 65/100\n",
      "16/16 [==============================] - 0s 7ms/step - loss: 0.8319 - accuracy: 0.6074\n",
      "Epoch 66/100\n",
      "16/16 [==============================] - 0s 10ms/step - loss: 0.8098 - accuracy: 0.6124\n",
      "Epoch 67/100\n",
      "16/16 [==============================] - 0s 10ms/step - loss: 0.8452 - accuracy: 0.6024\n",
      "Epoch 68/100\n",
      "16/16 [==============================] - 0s 8ms/step - loss: 0.8428 - accuracy: 0.5853\n",
      "Epoch 69/100\n",
      "16/16 [==============================] - 0s 8ms/step - loss: 0.7977 - accuracy: 0.6285\n",
      "Epoch 70/100\n",
      "16/16 [==============================] - 0s 8ms/step - loss: 0.7938 - accuracy: 0.6034\n",
      "Epoch 71/100\n",
      "16/16 [==============================] - 0s 8ms/step - loss: 0.7890 - accuracy: 0.6114\n",
      "Epoch 72/100\n",
      "16/16 [==============================] - 0s 7ms/step - loss: 0.7882 - accuracy: 0.6044\n",
      "Epoch 73/100\n",
      "16/16 [==============================] - 0s 7ms/step - loss: 0.7797 - accuracy: 0.6265\n",
      "Epoch 74/100\n",
      "16/16 [==============================] - 0s 7ms/step - loss: 0.7762 - accuracy: 0.6536\n",
      "Epoch 75/100\n",
      "16/16 [==============================] - 0s 8ms/step - loss: 0.7686 - accuracy: 0.6365\n",
      "Epoch 76/100\n",
      "16/16 [==============================] - 0s 9ms/step - loss: 0.7976 - accuracy: 0.6225\n",
      "Epoch 77/100\n",
      "16/16 [==============================] - 0s 7ms/step - loss: 0.7723 - accuracy: 0.6195\n",
      "Epoch 78/100\n",
      "16/16 [==============================] - 0s 7ms/step - loss: 0.7645 - accuracy: 0.6576\n",
      "Epoch 79/100\n",
      "16/16 [==============================] - 0s 7ms/step - loss: 0.7606 - accuracy: 0.6416\n",
      "Epoch 80/100\n",
      "16/16 [==============================] - 0s 7ms/step - loss: 0.7664 - accuracy: 0.6215\n",
      "Epoch 81/100\n",
      "16/16 [==============================] - 0s 7ms/step - loss: 0.7448 - accuracy: 0.6335\n",
      "Epoch 82/100\n",
      "16/16 [==============================] - 0s 7ms/step - loss: 0.7615 - accuracy: 0.6536\n",
      "Epoch 83/100\n",
      "16/16 [==============================] - 0s 7ms/step - loss: 0.7147 - accuracy: 0.6596\n",
      "Epoch 84/100\n",
      "16/16 [==============================] - 0s 8ms/step - loss: 0.7409 - accuracy: 0.6576\n",
      "Epoch 85/100\n",
      "16/16 [==============================] - 0s 11ms/step - loss: 0.7391 - accuracy: 0.6496\n",
      "Epoch 86/100\n",
      "16/16 [==============================] - 0s 9ms/step - loss: 0.7368 - accuracy: 0.6637\n",
      "Epoch 87/100\n",
      "16/16 [==============================] - 0s 8ms/step - loss: 0.7450 - accuracy: 0.6697\n",
      "Epoch 88/100\n",
      "16/16 [==============================] - 0s 8ms/step - loss: 0.6998 - accuracy: 0.6616\n",
      "Epoch 89/100\n",
      "16/16 [==============================] - 0s 8ms/step - loss: 0.7078 - accuracy: 0.6687\n",
      "Epoch 90/100\n",
      "16/16 [==============================] - 0s 8ms/step - loss: 0.6996 - accuracy: 0.6777\n",
      "Epoch 91/100\n",
      "16/16 [==============================] - 0s 7ms/step - loss: 0.6893 - accuracy: 0.6938\n",
      "Epoch 92/100\n",
      "16/16 [==============================] - 0s 7ms/step - loss: 0.6579 - accuracy: 0.6948\n",
      "Epoch 93/100\n",
      "16/16 [==============================] - 0s 8ms/step - loss: 0.7144 - accuracy: 0.6968\n",
      "Epoch 94/100\n",
      "16/16 [==============================] - 0s 10ms/step - loss: 0.6614 - accuracy: 0.6948\n",
      "Epoch 95/100\n",
      "16/16 [==============================] - 0s 7ms/step - loss: 0.6908 - accuracy: 0.6888\n",
      "Epoch 96/100\n",
      "16/16 [==============================] - 0s 7ms/step - loss: 0.6877 - accuracy: 0.6968\n",
      "Epoch 97/100\n",
      "16/16 [==============================] - 0s 7ms/step - loss: 0.6695 - accuracy: 0.6918\n",
      "Epoch 98/100\n",
      "16/16 [==============================] - 0s 7ms/step - loss: 0.6501 - accuracy: 0.7028\n",
      "Epoch 99/100\n",
      "16/16 [==============================] - 0s 7ms/step - loss: 0.6831 - accuracy: 0.7018\n",
      "Epoch 100/100\n",
      "16/16 [==============================] - 0s 7ms/step - loss: 0.6633 - accuracy: 0.6878\n"
     ]
    },
    {
     "data": {
      "text/plain": "<Figure size 432x288 with 1 Axes>",
      "image/png": "[encoded data removed]"
     },
     "metadata": {},
     "output_type": "display_data"
    },
    {
     "name": "stdout",
     "output_type": "stream",
     "text": [
      "7/7 [==============================] - 0s 7ms/step - loss: 0.5334 - accuracy: 0.8388\n",
      "Test accuracy =  0.8387850522994995\n",
      "14/14 [==============================] - 0s 3ms/step\n"
     ]
    },
    {
     "data": {
      "text/plain": "<Figure size 432x288 with 2 Axes>",
      "image/png": "[encoded data removed]"
     },
     "metadata": {},
     "output_type": "display_data"
    }
   ],
   "source": [
    "experiment_1(feature_type=\"mfcc\", model_type=\"MLP\", original=False)"
   ],
   "metadata": {
    "collapsed": false,
    "ExecuteTime": {
     "end_time": "2023-11-29T02:05:45.895087700Z",
     "start_time": "2023-11-29T02:05:23.899352Z"
    }
   }
  },
  {
   "cell_type": "markdown",
   "source": [
    "## Modified dataset/Yu features/SVM"
   ],
   "metadata": {
    "collapsed": false
   }
  },
  {
   "cell_type": "code",
   "execution_count": 145,
   "outputs": [
    {
     "name": "stdout",
     "output_type": "stream",
     "text": [
      "[1147, 1195, 1192, 1191, 1194, 1188, 1141, 1140, 1196, 1193, 1189, 1190]\n",
      "[436, 434, 430, 433, 431, 432, 435, 376, 377, 371, 370, 437]\n",
      "[962, 957, 954, 952, 958, 956, 960, 955, 959, 953, 951, 949, 948, 945, 947, 946, 950]\n",
      "Test accuracy = 0.5421\n"
     ]
    },
    {
     "data": {
      "text/plain": "<Figure size 432x288 with 2 Axes>",
      "image/png": "[encoded data removed]"
     },
     "metadata": {},
     "output_type": "display_data"
    }
   ],
   "source": [
    "experiment_1(feature_type=\"yu\", model_type=\"SVM\", original=False)"
   ],
   "metadata": {
    "collapsed": false,
    "ExecuteTime": {
     "end_time": "2023-11-29T02:07:03.421496500Z",
     "start_time": "2023-11-29T02:07:03.072249200Z"
    }
   }
  },
  {
   "cell_type": "markdown",
   "source": [
    "## Modified dataset/Yu features/MLP"
   ],
   "metadata": {
    "collapsed": false
   }
  },
  {
   "cell_type": "code",
   "execution_count": 146,
   "outputs": [
    {
     "name": "stdout",
     "output_type": "stream",
     "text": [
      "[1147, 1195, 1192, 1191, 1194, 1188, 1141, 1140, 1196, 1193, 1189, 1190]\n",
      "[436, 434, 430, 433, 431, 432, 435, 376, 377, 371, 370, 437]\n",
      "[962, 957, 954, 952, 958, 956, 960, 955, 959, 953, 951, 949, 948, 945, 947, 946, 950]\n",
      "Epoch 1/100\n",
      "16/16 [==============================] - 2s 10ms/step - loss: 1.2455 - accuracy: 0.3745\n",
      "Epoch 2/100\n",
      "16/16 [==============================] - 0s 9ms/step - loss: 1.1152 - accuracy: 0.4237\n",
      "Epoch 3/100\n",
      "16/16 [==============================] - 0s 8ms/step - loss: 1.0464 - accuracy: 0.4578\n",
      "Epoch 4/100\n",
      "16/16 [==============================] - 0s 8ms/step - loss: 1.0261 - accuracy: 0.4859\n",
      "Epoch 5/100\n",
      "16/16 [==============================] - 0s 8ms/step - loss: 1.0283 - accuracy: 0.4880\n",
      "Epoch 6/100\n",
      "16/16 [==============================] - 0s 9ms/step - loss: 0.9934 - accuracy: 0.4990\n",
      "Epoch 7/100\n",
      "16/16 [==============================] - 0s 8ms/step - loss: 0.9628 - accuracy: 0.5321\n",
      "Epoch 8/100\n",
      "16/16 [==============================] - 0s 8ms/step - loss: 0.9844 - accuracy: 0.5201\n",
      "Epoch 9/100\n",
      "16/16 [==============================] - 0s 10ms/step - loss: 0.9678 - accuracy: 0.5271\n",
      "Epoch 10/100\n",
      "16/16 [==============================] - 0s 8ms/step - loss: 0.9582 - accuracy: 0.5261\n",
      "Epoch 11/100\n",
      "16/16 [==============================] - 0s 7ms/step - loss: 0.9547 - accuracy: 0.5221\n",
      "Epoch 12/100\n",
      "16/16 [==============================] - 0s 7ms/step - loss: 0.9565 - accuracy: 0.5231\n",
      "Epoch 13/100\n",
      "16/16 [==============================] - 0s 8ms/step - loss: 0.9327 - accuracy: 0.5542\n",
      "Epoch 14/100\n",
      "16/16 [==============================] - 0s 8ms/step - loss: 0.9210 - accuracy: 0.5482\n",
      "Epoch 15/100\n",
      "16/16 [==============================] - 0s 8ms/step - loss: 0.9142 - accuracy: 0.5733\n",
      "Epoch 16/100\n",
      "16/16 [==============================] - 0s 8ms/step - loss: 0.9195 - accuracy: 0.5462\n",
      "Epoch 17/100\n",
      "16/16 [==============================] - 0s 8ms/step - loss: 0.9021 - accuracy: 0.5663\n",
      "Epoch 18/100\n",
      "16/16 [==============================] - 0s 12ms/step - loss: 0.9077 - accuracy: 0.5592\n",
      "Epoch 19/100\n",
      "16/16 [==============================] - 0s 8ms/step - loss: 0.9147 - accuracy: 0.5572\n",
      "Epoch 20/100\n",
      "16/16 [==============================] - 0s 8ms/step - loss: 0.9047 - accuracy: 0.5683\n",
      "Epoch 21/100\n",
      "16/16 [==============================] - 0s 9ms/step - loss: 0.8947 - accuracy: 0.5713\n",
      "Epoch 22/100\n",
      "16/16 [==============================] - 0s 8ms/step - loss: 0.9127 - accuracy: 0.5643\n",
      "Epoch 23/100\n",
      "16/16 [==============================] - 0s 7ms/step - loss: 0.9070 - accuracy: 0.5653\n",
      "Epoch 24/100\n",
      "16/16 [==============================] - 0s 7ms/step - loss: 0.8926 - accuracy: 0.5643\n",
      "Epoch 25/100\n",
      "16/16 [==============================] - 0s 7ms/step - loss: 0.8966 - accuracy: 0.5693\n",
      "Epoch 26/100\n",
      "16/16 [==============================] - 0s 7ms/step - loss: 0.8971 - accuracy: 0.5612\n",
      "Epoch 27/100\n",
      "16/16 [==============================] - 0s 9ms/step - loss: 0.8963 - accuracy: 0.5592\n",
      "Epoch 28/100\n",
      "16/16 [==============================] - 0s 7ms/step - loss: 0.8946 - accuracy: 0.5763\n",
      "Epoch 29/100\n",
      "16/16 [==============================] - 0s 7ms/step - loss: 0.8906 - accuracy: 0.5793\n",
      "Epoch 30/100\n",
      "16/16 [==============================] - 0s 8ms/step - loss: 0.8962 - accuracy: 0.5663\n",
      "Epoch 31/100\n",
      "16/16 [==============================] - 0s 7ms/step - loss: 0.9005 - accuracy: 0.5793\n",
      "Epoch 32/100\n",
      "16/16 [==============================] - 0s 7ms/step - loss: 0.8859 - accuracy: 0.5663\n",
      "Epoch 33/100\n",
      "16/16 [==============================] - 0s 7ms/step - loss: 0.8819 - accuracy: 0.5683\n",
      "Epoch 34/100\n",
      "16/16 [==============================] - 0s 7ms/step - loss: 0.8845 - accuracy: 0.5763\n",
      "Epoch 35/100\n",
      "16/16 [==============================] - 0s 8ms/step - loss: 0.8893 - accuracy: 0.5823\n",
      "Epoch 36/100\n",
      "16/16 [==============================] - 0s 8ms/step - loss: 0.8804 - accuracy: 0.5763\n",
      "Epoch 37/100\n",
      "16/16 [==============================] - 0s 9ms/step - loss: 0.8804 - accuracy: 0.5904\n",
      "Epoch 38/100\n",
      "16/16 [==============================] - 0s 7ms/step - loss: 0.8822 - accuracy: 0.5833\n",
      "Epoch 39/100\n",
      "16/16 [==============================] - 0s 8ms/step - loss: 0.8776 - accuracy: 0.5813\n",
      "Epoch 40/100\n",
      "16/16 [==============================] - 0s 7ms/step - loss: 0.8661 - accuracy: 0.5843\n",
      "Epoch 41/100\n",
      "16/16 [==============================] - 0s 8ms/step - loss: 0.8682 - accuracy: 0.5884\n",
      "Epoch 42/100\n",
      "16/16 [==============================] - 0s 9ms/step - loss: 0.8677 - accuracy: 0.5803\n",
      "Epoch 43/100\n",
      "16/16 [==============================] - 0s 8ms/step - loss: 0.8968 - accuracy: 0.5793\n",
      "Epoch 44/100\n",
      "16/16 [==============================] - 0s 8ms/step - loss: 0.8562 - accuracy: 0.5733\n",
      "Epoch 45/100\n",
      "16/16 [==============================] - 0s 11ms/step - loss: 0.8636 - accuracy: 0.5823\n",
      "Epoch 46/100\n",
      "16/16 [==============================] - 0s 10ms/step - loss: 0.8755 - accuracy: 0.5833\n",
      "Epoch 47/100\n",
      "16/16 [==============================] - 0s 9ms/step - loss: 0.8861 - accuracy: 0.5663\n",
      "Epoch 48/100\n",
      "16/16 [==============================] - 0s 8ms/step - loss: 0.8644 - accuracy: 0.6034\n",
      "Epoch 49/100\n",
      "16/16 [==============================] - 0s 7ms/step - loss: 0.8636 - accuracy: 0.5954\n",
      "Epoch 50/100\n",
      "16/16 [==============================] - 0s 7ms/step - loss: 0.8735 - accuracy: 0.5713\n",
      "Epoch 51/100\n",
      "16/16 [==============================] - 0s 7ms/step - loss: 0.8715 - accuracy: 0.5873\n",
      "Epoch 52/100\n",
      "16/16 [==============================] - 0s 7ms/step - loss: 0.8548 - accuracy: 0.6034\n",
      "Epoch 53/100\n",
      "16/16 [==============================] - 0s 7ms/step - loss: 0.8968 - accuracy: 0.5763\n",
      "Epoch 54/100\n",
      "16/16 [==============================] - 0s 9ms/step - loss: 0.8767 - accuracy: 0.5773\n",
      "Epoch 55/100\n",
      "16/16 [==============================] - 0s 9ms/step - loss: 0.8634 - accuracy: 0.5924\n",
      "Epoch 56/100\n",
      "16/16 [==============================] - 0s 7ms/step - loss: 0.8640 - accuracy: 0.6104\n",
      "Epoch 57/100\n",
      "16/16 [==============================] - 0s 8ms/step - loss: 0.8685 - accuracy: 0.5924\n",
      "Epoch 58/100\n",
      "16/16 [==============================] - 0s 8ms/step - loss: 0.8649 - accuracy: 0.5944\n",
      "Epoch 59/100\n",
      "16/16 [==============================] - 0s 8ms/step - loss: 0.8682 - accuracy: 0.5853\n",
      "Epoch 60/100\n",
      "16/16 [==============================] - 0s 8ms/step - loss: 0.8594 - accuracy: 0.5904\n",
      "Epoch 61/100\n",
      "16/16 [==============================] - 0s 9ms/step - loss: 0.8682 - accuracy: 0.5984\n",
      "Epoch 62/100\n",
      "16/16 [==============================] - 0s 8ms/step - loss: 0.8581 - accuracy: 0.5733\n",
      "Epoch 63/100\n",
      "16/16 [==============================] - 0s 13ms/step - loss: 0.8531 - accuracy: 0.5894\n",
      "Epoch 64/100\n",
      "16/16 [==============================] - 0s 8ms/step - loss: 0.8459 - accuracy: 0.6074\n",
      "Epoch 65/100\n",
      "16/16 [==============================] - 0s 10ms/step - loss: 0.8445 - accuracy: 0.5984\n",
      "Epoch 66/100\n",
      "16/16 [==============================] - 0s 8ms/step - loss: 0.8554 - accuracy: 0.5974\n",
      "Epoch 67/100\n",
      "16/16 [==============================] - 0s 9ms/step - loss: 0.8636 - accuracy: 0.5833\n",
      "Epoch 68/100\n",
      "16/16 [==============================] - 0s 8ms/step - loss: 0.8546 - accuracy: 0.6034\n",
      "Epoch 69/100\n",
      "16/16 [==============================] - 0s 8ms/step - loss: 0.8438 - accuracy: 0.5924\n",
      "Epoch 70/100\n",
      "16/16 [==============================] - 0s 8ms/step - loss: 0.8585 - accuracy: 0.5843\n",
      "Epoch 71/100\n",
      "16/16 [==============================] - 0s 10ms/step - loss: 0.8532 - accuracy: 0.5904\n",
      "Epoch 72/100\n",
      "16/16 [==============================] - 0s 8ms/step - loss: 0.8617 - accuracy: 0.5934\n",
      "Epoch 73/100\n",
      "16/16 [==============================] - 0s 8ms/step - loss: 0.8644 - accuracy: 0.5914\n",
      "Epoch 74/100\n",
      "16/16 [==============================] - 0s 7ms/step - loss: 0.8625 - accuracy: 0.6064\n",
      "Epoch 75/100\n",
      "16/16 [==============================] - 0s 7ms/step - loss: 0.8554 - accuracy: 0.6044\n",
      "Epoch 76/100\n",
      "16/16 [==============================] - 0s 9ms/step - loss: 0.8497 - accuracy: 0.5954\n",
      "Epoch 77/100\n",
      "16/16 [==============================] - 0s 8ms/step - loss: 0.8602 - accuracy: 0.5793\n",
      "Epoch 78/100\n",
      "16/16 [==============================] - 0s 8ms/step - loss: 0.8504 - accuracy: 0.5994\n",
      "Epoch 79/100\n",
      "16/16 [==============================] - 0s 8ms/step - loss: 0.8567 - accuracy: 0.5974\n",
      "Epoch 80/100\n",
      "16/16 [==============================] - 0s 11ms/step - loss: 0.8517 - accuracy: 0.6084\n",
      "Epoch 81/100\n",
      "16/16 [==============================] - 0s 8ms/step - loss: 0.8645 - accuracy: 0.6074\n",
      "Epoch 82/100\n",
      "16/16 [==============================] - 0s 7ms/step - loss: 0.8555 - accuracy: 0.5773\n",
      "Epoch 83/100\n",
      "16/16 [==============================] - 0s 8ms/step - loss: 0.8597 - accuracy: 0.6054\n",
      "Epoch 84/100\n",
      "16/16 [==============================] - 0s 8ms/step - loss: 0.8464 - accuracy: 0.6054\n",
      "Epoch 85/100\n",
      "16/16 [==============================] - 0s 8ms/step - loss: 0.8410 - accuracy: 0.5994\n",
      "Epoch 86/100\n",
      "16/16 [==============================] - 0s 8ms/step - loss: 0.8554 - accuracy: 0.6004\n",
      "Epoch 87/100\n",
      "16/16 [==============================] - 0s 8ms/step - loss: 0.8615 - accuracy: 0.5783\n",
      "Epoch 88/100\n",
      "16/16 [==============================] - 0s 7ms/step - loss: 0.8508 - accuracy: 0.5984\n",
      "Epoch 89/100\n",
      "16/16 [==============================] - 0s 10ms/step - loss: 0.8466 - accuracy: 0.6004\n",
      "Epoch 90/100\n",
      "16/16 [==============================] - 0s 10ms/step - loss: 0.8392 - accuracy: 0.6094\n",
      "Epoch 91/100\n",
      "16/16 [==============================] - 0s 8ms/step - loss: 0.8333 - accuracy: 0.6054\n",
      "Epoch 92/100\n",
      "16/16 [==============================] - 0s 8ms/step - loss: 0.8384 - accuracy: 0.6024\n",
      "Epoch 93/100\n",
      "16/16 [==============================] - 0s 8ms/step - loss: 0.8392 - accuracy: 0.6094\n",
      "Epoch 94/100\n",
      "16/16 [==============================] - 0s 8ms/step - loss: 0.8526 - accuracy: 0.6014\n",
      "Epoch 95/100\n",
      "16/16 [==============================] - 0s 8ms/step - loss: 0.8373 - accuracy: 0.6195\n",
      "Epoch 96/100\n",
      "16/16 [==============================] - 0s 8ms/step - loss: 0.8411 - accuracy: 0.5954\n",
      "Epoch 97/100\n",
      "16/16 [==============================] - 0s 7ms/step - loss: 0.8416 - accuracy: 0.5944\n",
      "Epoch 98/100\n",
      "16/16 [==============================] - 0s 10ms/step - loss: 0.8449 - accuracy: 0.5934\n",
      "Epoch 99/100\n",
      "16/16 [==============================] - 0s 7ms/step - loss: 0.8560 - accuracy: 0.5954\n",
      "Epoch 100/100\n",
      "16/16 [==============================] - 0s 7ms/step - loss: 0.8384 - accuracy: 0.6094\n"
     ]
    },
    {
     "data": {
      "text/plain": "<Figure size 432x288 with 1 Axes>",
      "image/png": "[encoded data removed]"
     },
     "metadata": {},
     "output_type": "display_data"
    },
    {
     "name": "stdout",
     "output_type": "stream",
     "text": [
      "7/7 [==============================] - 0s 7ms/step - loss: 1.0839 - accuracy: 0.5537\n",
      "Test accuracy =  0.5537382960319519\n",
      "14/14 [==============================] - 0s 3ms/step\n"
     ]
    },
    {
     "data": {
      "text/plain": "<Figure size 432x288 with 2 Axes>",
      "image/png": "[encoded data removed]"
     },
     "metadata": {},
     "output_type": "display_data"
    }
   ],
   "source": [
    "experiment_1(feature_type=\"yu\", model_type=\"MLP\", original=False)"
   ],
   "metadata": {
    "collapsed": false,
    "ExecuteTime": {
     "end_time": "2023-11-29T02:08:08.999979700Z",
     "start_time": "2023-11-29T02:07:43.851054Z"
    }
   }
  },
  {
   "cell_type": "markdown",
   "source": [
    "## Original dataset/Lexical-prosodic features/SVM\n"
   ],
   "metadata": {
    "collapsed": false
   }
  },
  {
   "cell_type": "code",
   "execution_count": 37,
   "outputs": [
    {
     "name": "stdout",
     "output_type": "stream",
     "text": [
      "Test accuracy = 0.5093\n"
     ]
    },
    {
     "data": {
      "text/plain": "<Figure size 432x288 with 2 Axes>",
      "image/png": "[encoded data removed]"
     },
     "metadata": {
      "needs_background": "light"
     },
     "output_type": "display_data"
    }
   ],
   "source": [
    "experiment_1(feature_type=\"lexical-prosodic\", model_type=\"SVM\", original=True)"
   ],
   "metadata": {
    "collapsed": false,
    "ExecuteTime": {
     "end_time": "2023-11-29T04:48:17.823856100Z",
     "start_time": "2023-11-29T04:48:17.620349Z"
    }
   }
  },
  {
   "cell_type": "markdown",
   "source": [
    "## Original dataset/Lexical-prosodic features/MLP"
   ],
   "metadata": {
    "collapsed": false
   }
  },
  {
   "cell_type": "code",
   "execution_count": 25,
   "outputs": [
    {
     "name": "stdout",
     "output_type": "stream",
     "text": [
      "Epoch 1/100\n",
      "16/16 [==============================] - 1s 9ms/step - loss: 1.2663 - accuracy: 0.3484\n",
      "Epoch 2/100\n",
      "16/16 [==============================] - 0s 8ms/step - loss: 1.1527 - accuracy: 0.3765\n",
      "Epoch 3/100\n",
      "16/16 [==============================] - 0s 8ms/step - loss: 1.0852 - accuracy: 0.4177\n",
      "Epoch 4/100\n",
      "16/16 [==============================] - 0s 9ms/step - loss: 1.0334 - accuracy: 0.4498\n",
      "Epoch 5/100\n",
      "16/16 [==============================] - 0s 12ms/step - loss: 1.0280 - accuracy: 0.4317\n",
      "Epoch 6/100\n",
      "16/16 [==============================] - 0s 9ms/step - loss: 1.0189 - accuracy: 0.4578\n",
      "Epoch 7/100\n",
      "16/16 [==============================] - 0s 9ms/step - loss: 0.9711 - accuracy: 0.4859\n",
      "Epoch 8/100\n",
      "16/16 [==============================] - 0s 9ms/step - loss: 0.9748 - accuracy: 0.4659\n",
      "Epoch 9/100\n",
      "16/16 [==============================] - 0s 8ms/step - loss: 0.9543 - accuracy: 0.5131\n",
      "Epoch 10/100\n",
      "16/16 [==============================] - 0s 9ms/step - loss: 0.9526 - accuracy: 0.5000\n",
      "Epoch 11/100\n",
      "16/16 [==============================] - 0s 8ms/step - loss: 0.9313 - accuracy: 0.5301\n",
      "Epoch 12/100\n",
      "16/16 [==============================] - 0s 9ms/step - loss: 0.9301 - accuracy: 0.5261\n",
      "Epoch 13/100\n",
      "16/16 [==============================] - 0s 12ms/step - loss: 0.9240 - accuracy: 0.5281\n",
      "Epoch 14/100\n",
      "16/16 [==============================] - 0s 9ms/step - loss: 0.9010 - accuracy: 0.5382\n",
      "Epoch 15/100\n",
      "16/16 [==============================] - 0s 9ms/step - loss: 0.9103 - accuracy: 0.5442\n",
      "Epoch 16/100\n",
      "16/16 [==============================] - 0s 8ms/step - loss: 0.9010 - accuracy: 0.5371\n",
      "Epoch 17/100\n",
      "16/16 [==============================] - 0s 10ms/step - loss: 0.9076 - accuracy: 0.5221\n",
      "Epoch 18/100\n",
      "16/16 [==============================] - 0s 10ms/step - loss: 0.9090 - accuracy: 0.5191\n",
      "Epoch 19/100\n",
      "16/16 [==============================] - 0s 10ms/step - loss: 0.9041 - accuracy: 0.5361\n",
      "Epoch 20/100\n",
      "16/16 [==============================] - 0s 9ms/step - loss: 0.8996 - accuracy: 0.5382\n",
      "Epoch 21/100\n",
      "16/16 [==============================] - 0s 11ms/step - loss: 0.8939 - accuracy: 0.5472\n",
      "Epoch 22/100\n",
      "16/16 [==============================] - 0s 8ms/step - loss: 0.8845 - accuracy: 0.5452\n",
      "Epoch 23/100\n",
      "16/16 [==============================] - 0s 8ms/step - loss: 0.8913 - accuracy: 0.5562\n",
      "Epoch 24/100\n",
      "16/16 [==============================] - 0s 9ms/step - loss: 0.8955 - accuracy: 0.5592\n",
      "Epoch 25/100\n",
      "16/16 [==============================] - 0s 9ms/step - loss: 0.8799 - accuracy: 0.5552\n",
      "Epoch 26/100\n",
      "16/16 [==============================] - 0s 8ms/step - loss: 0.8730 - accuracy: 0.5512\n",
      "Epoch 27/100\n",
      "16/16 [==============================] - 0s 9ms/step - loss: 0.8798 - accuracy: 0.5392\n",
      "Epoch 28/100\n",
      "16/16 [==============================] - 0s 8ms/step - loss: 0.8774 - accuracy: 0.5532\n",
      "Epoch 29/100\n",
      "16/16 [==============================] - 0s 12ms/step - loss: 0.8557 - accuracy: 0.5552\n",
      "Epoch 30/100\n",
      "16/16 [==============================] - 0s 10ms/step - loss: 0.8647 - accuracy: 0.5512\n",
      "Epoch 31/100\n",
      "16/16 [==============================] - 0s 9ms/step - loss: 0.8868 - accuracy: 0.5472\n",
      "Epoch 32/100\n",
      "16/16 [==============================] - 0s 8ms/step - loss: 0.8755 - accuracy: 0.5562\n",
      "Epoch 33/100\n",
      "16/16 [==============================] - 0s 8ms/step - loss: 0.8656 - accuracy: 0.5371\n",
      "Epoch 34/100\n",
      "16/16 [==============================] - 0s 8ms/step - loss: 0.8720 - accuracy: 0.5703\n",
      "Epoch 35/100\n",
      "16/16 [==============================] - 0s 8ms/step - loss: 0.8649 - accuracy: 0.5612\n",
      "Epoch 36/100\n",
      "16/16 [==============================] - 0s 8ms/step - loss: 0.8584 - accuracy: 0.5723\n",
      "Epoch 37/100\n",
      "16/16 [==============================] - 0s 9ms/step - loss: 0.8820 - accuracy: 0.5512\n",
      "Epoch 38/100\n",
      "16/16 [==============================] - 0s 8ms/step - loss: 0.8615 - accuracy: 0.5522\n",
      "Epoch 39/100\n",
      "16/16 [==============================] - 0s 7ms/step - loss: 0.8642 - accuracy: 0.5602\n",
      "Epoch 40/100\n",
      "16/16 [==============================] - 0s 7ms/step - loss: 0.8593 - accuracy: 0.5622\n",
      "Epoch 41/100\n",
      "16/16 [==============================] - 0s 7ms/step - loss: 0.8683 - accuracy: 0.5723\n",
      "Epoch 42/100\n",
      "16/16 [==============================] - 0s 8ms/step - loss: 0.8493 - accuracy: 0.5582\n",
      "Epoch 43/100\n",
      "16/16 [==============================] - 0s 9ms/step - loss: 0.8601 - accuracy: 0.5663\n",
      "Epoch 44/100\n",
      "16/16 [==============================] - 0s 8ms/step - loss: 0.8511 - accuracy: 0.5663\n",
      "Epoch 45/100\n",
      "16/16 [==============================] - 0s 8ms/step - loss: 0.8520 - accuracy: 0.5633\n",
      "Epoch 46/100\n",
      "16/16 [==============================] - 0s 9ms/step - loss: 0.8575 - accuracy: 0.5863\n",
      "Epoch 47/100\n",
      "16/16 [==============================] - 0s 10ms/step - loss: 0.8520 - accuracy: 0.5633\n",
      "Epoch 48/100\n",
      "16/16 [==============================] - 0s 8ms/step - loss: 0.8360 - accuracy: 0.5763\n",
      "Epoch 49/100\n",
      "16/16 [==============================] - 0s 8ms/step - loss: 0.8563 - accuracy: 0.5653\n",
      "Epoch 50/100\n",
      "16/16 [==============================] - 0s 8ms/step - loss: 0.8384 - accuracy: 0.5673\n",
      "Epoch 51/100\n",
      "16/16 [==============================] - 0s 8ms/step - loss: 0.8509 - accuracy: 0.5773\n",
      "Epoch 52/100\n",
      "16/16 [==============================] - 0s 7ms/step - loss: 0.8518 - accuracy: 0.5703\n",
      "Epoch 53/100\n",
      "16/16 [==============================] - 0s 7ms/step - loss: 0.8357 - accuracy: 0.5693\n",
      "Epoch 54/100\n",
      "16/16 [==============================] - 0s 7ms/step - loss: 0.8476 - accuracy: 0.5673\n",
      "Epoch 55/100\n",
      "16/16 [==============================] - 0s 8ms/step - loss: 0.8398 - accuracy: 0.5783\n",
      "Epoch 56/100\n",
      "16/16 [==============================] - 0s 9ms/step - loss: 0.8296 - accuracy: 0.5693\n",
      "Epoch 57/100\n",
      "16/16 [==============================] - 0s 8ms/step - loss: 0.8420 - accuracy: 0.5853\n",
      "Epoch 58/100\n",
      "16/16 [==============================] - 0s 7ms/step - loss: 0.8296 - accuracy: 0.5753\n",
      "Epoch 59/100\n",
      "16/16 [==============================] - 0s 7ms/step - loss: 0.8489 - accuracy: 0.5693\n",
      "Epoch 60/100\n",
      "16/16 [==============================] - 0s 8ms/step - loss: 0.8378 - accuracy: 0.5833\n",
      "Epoch 61/100\n",
      "16/16 [==============================] - 0s 8ms/step - loss: 0.8448 - accuracy: 0.5643\n",
      "Epoch 62/100\n",
      "16/16 [==============================] - 0s 8ms/step - loss: 0.8412 - accuracy: 0.5693\n",
      "Epoch 63/100\n",
      "16/16 [==============================] - 0s 8ms/step - loss: 0.8332 - accuracy: 0.5904\n",
      "Epoch 64/100\n",
      "16/16 [==============================] - 0s 7ms/step - loss: 0.8365 - accuracy: 0.6004\n",
      "Epoch 65/100\n",
      "16/16 [==============================] - 0s 10ms/step - loss: 0.8357 - accuracy: 0.5803\n",
      "Epoch 66/100\n",
      "16/16 [==============================] - 0s 7ms/step - loss: 0.8368 - accuracy: 0.5773\n",
      "Epoch 67/100\n",
      "16/16 [==============================] - 0s 7ms/step - loss: 0.8384 - accuracy: 0.5693\n",
      "Epoch 68/100\n",
      "16/16 [==============================] - 0s 7ms/step - loss: 0.8312 - accuracy: 0.5763\n",
      "Epoch 69/100\n",
      "16/16 [==============================] - 0s 7ms/step - loss: 0.8384 - accuracy: 0.5803\n",
      "Epoch 70/100\n",
      "16/16 [==============================] - 0s 7ms/step - loss: 0.8353 - accuracy: 0.5783\n",
      "Epoch 71/100\n",
      "16/16 [==============================] - 0s 7ms/step - loss: 0.8149 - accuracy: 0.5833\n",
      "Epoch 72/100\n",
      "16/16 [==============================] - 0s 7ms/step - loss: 0.8291 - accuracy: 0.5823\n",
      "Epoch 73/100\n",
      "16/16 [==============================] - 0s 7ms/step - loss: 0.8132 - accuracy: 0.6044\n",
      "Epoch 74/100\n",
      "16/16 [==============================] - 0s 7ms/step - loss: 0.8361 - accuracy: 0.5914\n",
      "Epoch 75/100\n",
      "16/16 [==============================] - 0s 9ms/step - loss: 0.8252 - accuracy: 0.5793\n",
      "Epoch 76/100\n",
      "16/16 [==============================] - 0s 7ms/step - loss: 0.8323 - accuracy: 0.5863\n",
      "Epoch 77/100\n",
      "16/16 [==============================] - 0s 7ms/step - loss: 0.8288 - accuracy: 0.5904\n",
      "Epoch 78/100\n",
      "16/16 [==============================] - 0s 7ms/step - loss: 0.8319 - accuracy: 0.5823\n",
      "Epoch 79/100\n",
      "16/16 [==============================] - 0s 7ms/step - loss: 0.8420 - accuracy: 0.5753\n",
      "Epoch 80/100\n",
      "16/16 [==============================] - 0s 7ms/step - loss: 0.8268 - accuracy: 0.5683\n",
      "Epoch 81/100\n",
      "16/16 [==============================] - 0s 8ms/step - loss: 0.8280 - accuracy: 0.5863\n",
      "Epoch 82/100\n",
      "16/16 [==============================] - 0s 8ms/step - loss: 0.8172 - accuracy: 0.6054\n",
      "Epoch 83/100\n",
      "16/16 [==============================] - 0s 8ms/step - loss: 0.8222 - accuracy: 0.5984\n",
      "Epoch 84/100\n",
      "16/16 [==============================] - 0s 8ms/step - loss: 0.8175 - accuracy: 0.5964\n",
      "Epoch 85/100\n",
      "16/16 [==============================] - 0s 9ms/step - loss: 0.8212 - accuracy: 0.5914\n",
      "Epoch 86/100\n",
      "16/16 [==============================] - 0s 7ms/step - loss: 0.8167 - accuracy: 0.5853\n",
      "Epoch 87/100\n",
      "16/16 [==============================] - 0s 7ms/step - loss: 0.8198 - accuracy: 0.5833\n",
      "Epoch 88/100\n",
      "16/16 [==============================] - 0s 7ms/step - loss: 0.8189 - accuracy: 0.5984\n",
      "Epoch 89/100\n",
      "16/16 [==============================] - 0s 7ms/step - loss: 0.8253 - accuracy: 0.5924\n",
      "Epoch 90/100\n",
      "16/16 [==============================] - 0s 7ms/step - loss: 0.8118 - accuracy: 0.5994\n",
      "Epoch 91/100\n",
      "16/16 [==============================] - 0s 7ms/step - loss: 0.8192 - accuracy: 0.5924\n",
      "Epoch 92/100\n",
      "16/16 [==============================] - 0s 8ms/step - loss: 0.8267 - accuracy: 0.5773\n",
      "Epoch 93/100\n",
      "16/16 [==============================] - 0s 7ms/step - loss: 0.8339 - accuracy: 0.5884\n",
      "Epoch 94/100\n",
      "16/16 [==============================] - 0s 8ms/step - loss: 0.8271 - accuracy: 0.5853\n",
      "Epoch 95/100\n",
      "16/16 [==============================] - 0s 9ms/step - loss: 0.8244 - accuracy: 0.6034\n",
      "Epoch 96/100\n",
      "16/16 [==============================] - 0s 7ms/step - loss: 0.8164 - accuracy: 0.5954\n",
      "Epoch 97/100\n",
      "16/16 [==============================] - 0s 7ms/step - loss: 0.8020 - accuracy: 0.6084\n",
      "Epoch 98/100\n",
      "16/16 [==============================] - 0s 7ms/step - loss: 0.8057 - accuracy: 0.5894\n",
      "Epoch 99/100\n",
      "16/16 [==============================] - 0s 7ms/step - loss: 0.8172 - accuracy: 0.6064\n",
      "Epoch 100/100\n",
      "16/16 [==============================] - 0s 8ms/step - loss: 0.8256 - accuracy: 0.6124\n"
     ]
    },
    {
     "data": {
      "text/plain": "<Figure size 432x288 with 1 Axes>",
      "image/png": "[encoded data removed]"
     },
     "metadata": {
      "needs_background": "light"
     },
     "output_type": "display_data"
    },
    {
     "name": "stdout",
     "output_type": "stream",
     "text": [
      "7/7 [==============================] - 0s 6ms/step - loss: 1.0067 - accuracy: 0.5187\n",
      "Test accuracy =  0.5186915993690491\n",
      "14/14 [==============================] - 0s 5ms/step\n"
     ]
    },
    {
     "data": {
      "text/plain": "<Figure size 432x288 with 2 Axes>",
      "image/png": "[encoded data removed]"
     },
     "metadata": {
      "needs_background": "light"
     },
     "output_type": "display_data"
    }
   ],
   "source": [
    "experiment_1(feature_type=\"lexical-prosodic\", model_type=\"MLP\", original=True)"
   ],
   "metadata": {
    "collapsed": false,
    "ExecuteTime": {
     "end_time": "2023-11-29T04:33:53.308437300Z",
     "start_time": "2023-11-29T04:33:37.943001300Z"
    }
   }
  },
  {
   "cell_type": "markdown",
   "source": [
    "## Modified dataset/Lexical-prosodic features/SVM"
   ],
   "metadata": {
    "collapsed": false
   }
  },
  {
   "cell_type": "code",
   "execution_count": null,
   "outputs": [],
   "source": [
    "experiment_1(feature_type=\"lexical-prosodic\", model_type=\"SVM\", original=False)"
   ],
   "metadata": {
    "collapsed": false
   }
  },
  {
   "cell_type": "markdown",
   "source": [
    "## Modified dataset/Lexical-prosodic features/MLP"
   ],
   "metadata": {
    "collapsed": false
   }
  },
  {
   "cell_type": "code",
   "execution_count": null,
   "outputs": [],
   "source": [
    "experiment_1(feature_type=\"lexical-prosodic\", model_type=\"MLP\", original=False)"
   ],
   "metadata": {
    "collapsed": false
   }
  },
  {
   "cell_type": "markdown",
   "source": [
    "# Experiment 2"
   ],
   "metadata": {
    "collapsed": false
   }
  },
  {
   "cell_type": "markdown",
   "source": [
    "## MFCCs/SVM"
   ],
   "metadata": {
    "collapsed": false
   }
  },
  {
   "cell_type": "code",
   "execution_count": 31,
   "outputs": [],
   "source": [
    "def experiment_2(feature_type: str, model_type: str):\n",
    "    X, y, files_to_extract, indices = load_features(feature_type=feature_type, original=False, return_file_indices=True)\n",
    "    number_of_features = len(X[1])  #This is variable with each run\n",
    "    number_of_classes = 3\n",
    "    xx = 0\n",
    "    for ind in indices:\n",
    "        print(ind, files_to_extract[xx], class_labels[y[ind]])\n",
    "        xx += 1\n",
    "        vals = []\n",
    "        valsout = []\n",
    "        arr = X\n",
    "        arrout = y\n",
    "        for i in range(arr.shape[0]):\n",
    "            if i != ind:\n",
    "                vals.append(arr[i])\n",
    "                valsout.append(arrout[i])\n",
    "        newX = np.array(vals)\n",
    "        print(newX.shape)\n",
    "        newY = np.array(valsout)\n",
    "        print(newY.shape)\n",
    "\n",
    "        # Fix random seed number\n",
    "        np.random.seed(7)\n",
    "\n",
    "        if model_type == \"SVM\":\n",
    "            # SVM classifier\n",
    "            svm_clf = SVC(C=200, gamma=0.0001, kernel='rbf', decision_function_shape=\"ovr\")\n",
    "\n",
    "            # Fit model\n",
    "            svm_clf.fit(newX, newY)\n",
    "\n",
    "            pred_arr = svm_clf.predict(X[ind].reshape(1, -1))\n",
    "            print(\"Pred: \", class_labels[pred_arr[0]])\n",
    "        else:\n",
    "            # Neural Network Architecture\n",
    "            model = Sequential()  # Define Sequential model\n",
    "\n",
    "            # Using relu on the first two layers and softmax on the output layer\n",
    "\n",
    "            # 1st Layer\n",
    "            #N neurons, Number_Fatures-dimensional vectors\n",
    "            model.add(Dense(128, input_dim=number_of_features, activation='relu'))  #32, 64, 128, 256, 512, 1024\n",
    "            model.add(Dropout(0.5))\n",
    "\n",
    "            # 2nd Layer\n",
    "            model.add(Dense(128, activation='relu'))\n",
    "            model.add(Dropout(0.5))\n",
    "\n",
    "            # 3rd Layer. Output 3 neurons corresponding the number of classes\n",
    "            # The sigmoid function is used for the two-class logistic regression,\n",
    "            # whereas the softmax function is used for the multiclass logistic regression\n",
    "            model.add(Dense(number_of_classes, activation='softmax'))\n",
    "\n",
    "            # Model Compilation. Loss for multi-class classification problem\n",
    "            # sgd = SGD(lr=0.01, decay=1e-6, momentum=0.9, nesterov=True)\n",
    "            # rmsprop = 'rmsprop'\n",
    "            adam = 'adam'\n",
    "            model.compile(loss='categorical_crossentropy',\n",
    "                          optimizer=adam,  #rmsprop better than sgd\n",
    "                          metrics=['accuracy'])\n",
    "\n",
    "            # Convert labels to categorical one-hot encoding\n",
    "            newY = to_categorical(newY - 1, num_classes=number_of_classes)  # Convert class vector into binary Matrix\n",
    "\n",
    "            # Train and test\n",
    "            model.fit(newX, newY, epochs=100, batch_size=64, verbose=0)  #batch 32, 64, 128, 256, 512\n",
    "\n",
    "            pred_arr = model(X[ind].reshape(1, -1))\n",
    "            print(\"Pred: \", class_labels[np.argmax(pred_arr, 1)[0]])"
   ],
   "metadata": {
    "collapsed": false,
    "ExecuteTime": {
     "end_time": "2023-11-29T04:46:31.372377100Z",
     "start_time": "2023-11-29T04:46:31.367824Z"
    }
   }
  },
  {
   "cell_type": "code",
   "execution_count": 32,
   "outputs": [
    {
     "name": "stdout",
     "output_type": "stream",
     "text": [
      "[2 2 2 2 2 2 2 2 2 2 2 2]\n",
      "[0 0 0 0 0 0 0 0 0 0 0 0]\n",
      "1167 Luis Suarez interview in English after being awarded November player of the month segment 1 - Woman.mp3 Low\n",
      "(1423, 23)\n",
      "(1423,)\n",
      "Pred:  Low\n",
      "1171 Luis Suarez interview in English after being awarded November player of the month segment 2 - W.mp3 Low\n",
      "(1423, 23)\n",
      "(1423,)\n",
      "Pred:  Intermediate\n",
      "1175 Luis Suarez interview in English after being awarded November player of the month segment 3 - W.mp3 Low\n",
      "(1423, 23)\n",
      "(1423,)\n",
      "Pred:  Low\n",
      "1176 Luis Suarez interview in English after being awarded November player of the month segment 4 - W.mp3 Low\n",
      "(1423, 23)\n",
      "(1423,)\n",
      "Pred:  Low\n",
      "1177 Luis Suarez interview in English after being awarded November player of the month segment 5 - W.mp3 Low\n",
      "(1423, 23)\n",
      "(1423,)\n",
      "Pred:  Intermediate\n",
      "1178 Luis Suarez interview in English after being awarded November player of the month segment 9 - W.mp3 Low\n",
      "(1423, 23)\n",
      "(1423,)\n",
      "Pred:  Low\n",
      "1168 Luis Suarez interview in English after being awarded November player of the month segment 14 - W.mp3 Low\n",
      "(1423, 23)\n",
      "(1423,)\n",
      "Pred:  Low\n",
      "1169 Luis Suarez interview in English after being awarded November player of the month segment 18 - W.mp3 Low\n",
      "(1423, 23)\n",
      "(1423,)\n",
      "Pred:  Low\n",
      "1170 Luis Suarez interview in English after being awarded November player of the month segment 19 - W.mp3 Low\n",
      "(1423, 23)\n",
      "(1423,)\n",
      "Pred:  Low\n",
      "1172 Luis Suarez interview in English after being awarded November player of the month segment 23 - W.mp3 Low\n",
      "(1423, 23)\n",
      "(1423,)\n",
      "Pred:  Low\n",
      "1173 Luis Suarez interview in English after being awarded November player of the month segment 26 - W.mp3 Low\n",
      "(1423, 23)\n",
      "(1423,)\n",
      "Pred:  Intermediate\n",
      "1174 Luis Suarez interview in English after being awarded November player of the month segment 29 - W.mp3 Low\n",
      "(1423, 23)\n",
      "(1423,)\n",
      "Pred:  Low\n"
     ]
    }
   ],
   "source": [
    "experiment_2(feature_type=\"mfcc\", model_type=\"SVM\")"
   ],
   "metadata": {
    "collapsed": false,
    "ExecuteTime": {
     "end_time": "2023-11-29T04:46:33.237809100Z",
     "start_time": "2023-11-29T04:46:32.691685200Z"
    }
   }
  },
  {
   "cell_type": "markdown",
   "source": [
    "## MFCCs/MLP"
   ],
   "metadata": {
    "collapsed": false
   }
  },
  {
   "cell_type": "code",
   "execution_count": 33,
   "outputs": [
    {
     "name": "stdout",
     "output_type": "stream",
     "text": [
      "[2 2 2 2 2 2 2 2 2 2 2 2]\n",
      "[0 0 0 0 0 0 0 0 0 0 0 0]\n",
      "1167 Luis Suarez interview in English after being awarded November player of the month segment 1 - Woman.mp3 Low\n",
      "(1423, 23)\n",
      "(1423,)\n"
     ]
    },
    {
     "ename": "KeyboardInterrupt",
     "evalue": "",
     "output_type": "error",
     "traceback": [
      "\u001B[0;31m---------------------------------------------------------------------------\u001B[0m",
      "\u001B[0;31mKeyboardInterrupt\u001B[0m                         Traceback (most recent call last)",
      "\u001B[0;32m/tmp/ipykernel_72/3016848601.py\u001B[0m in \u001B[0;36m<module>\u001B[0;34m\u001B[0m\n\u001B[0;32m----> 1\u001B[0;31m \u001B[0mexperiment_2\u001B[0m\u001B[0;34m(\u001B[0m\u001B[0mfeature_type\u001B[0m\u001B[0;34m=\u001B[0m\u001B[0;34m\"mfcc\"\u001B[0m\u001B[0;34m,\u001B[0m \u001B[0mmodel_type\u001B[0m\u001B[0;34m=\u001B[0m\u001B[0;34m\"MLP\"\u001B[0m\u001B[0;34m)\u001B[0m\u001B[0;34m\u001B[0m\u001B[0;34m\u001B[0m\u001B[0m\n\u001B[0m",
      "\u001B[0;32m/tmp/ipykernel_72/4066947686.py\u001B[0m in \u001B[0;36mexperiment_2\u001B[0;34m(feature_type, model_type)\u001B[0m\n\u001B[1;32m     64\u001B[0m \u001B[0;34m\u001B[0m\u001B[0m\n\u001B[1;32m     65\u001B[0m             \u001B[0;31m# Train and test\u001B[0m\u001B[0;34m\u001B[0m\u001B[0;34m\u001B[0m\u001B[0m\n\u001B[0;32m---> 66\u001B[0;31m             \u001B[0mmodel\u001B[0m\u001B[0;34m.\u001B[0m\u001B[0mfit\u001B[0m\u001B[0;34m(\u001B[0m\u001B[0mnewX\u001B[0m\u001B[0;34m,\u001B[0m \u001B[0mnewY\u001B[0m\u001B[0;34m,\u001B[0m \u001B[0mepochs\u001B[0m\u001B[0;34m=\u001B[0m\u001B[0;36m100\u001B[0m\u001B[0;34m,\u001B[0m \u001B[0mbatch_size\u001B[0m\u001B[0;34m=\u001B[0m\u001B[0;36m64\u001B[0m\u001B[0;34m,\u001B[0m \u001B[0mverbose\u001B[0m\u001B[0;34m=\u001B[0m\u001B[0;36m0\u001B[0m\u001B[0;34m)\u001B[0m  \u001B[0;31m#batch 32, 64, 128, 256, 512\u001B[0m\u001B[0;34m\u001B[0m\u001B[0;34m\u001B[0m\u001B[0m\n\u001B[0m\u001B[1;32m     67\u001B[0m \u001B[0;34m\u001B[0m\u001B[0m\n\u001B[1;32m     68\u001B[0m             \u001B[0mpred_arr\u001B[0m \u001B[0;34m=\u001B[0m \u001B[0mmodel\u001B[0m\u001B[0;34m(\u001B[0m\u001B[0mX\u001B[0m\u001B[0;34m[\u001B[0m\u001B[0mind\u001B[0m\u001B[0;34m]\u001B[0m\u001B[0;34m.\u001B[0m\u001B[0mreshape\u001B[0m\u001B[0;34m(\u001B[0m\u001B[0;36m1\u001B[0m\u001B[0;34m,\u001B[0m \u001B[0;34m-\u001B[0m\u001B[0;36m1\u001B[0m\u001B[0;34m)\u001B[0m\u001B[0;34m)\u001B[0m\u001B[0;34m\u001B[0m\u001B[0;34m\u001B[0m\u001B[0m\n",
      "\u001B[0;32m/usr/local/lib/python3.10/dist-packages/keras/src/utils/traceback_utils.py\u001B[0m in \u001B[0;36merror_handler\u001B[0;34m(*args, **kwargs)\u001B[0m\n\u001B[1;32m     63\u001B[0m         \u001B[0mfiltered_tb\u001B[0m \u001B[0;34m=\u001B[0m \u001B[0;32mNone\u001B[0m\u001B[0;34m\u001B[0m\u001B[0;34m\u001B[0m\u001B[0m\n\u001B[1;32m     64\u001B[0m         \u001B[0;32mtry\u001B[0m\u001B[0;34m:\u001B[0m\u001B[0;34m\u001B[0m\u001B[0;34m\u001B[0m\u001B[0m\n\u001B[0;32m---> 65\u001B[0;31m             \u001B[0;32mreturn\u001B[0m \u001B[0mfn\u001B[0m\u001B[0;34m(\u001B[0m\u001B[0;34m*\u001B[0m\u001B[0margs\u001B[0m\u001B[0;34m,\u001B[0m \u001B[0;34m**\u001B[0m\u001B[0mkwargs\u001B[0m\u001B[0;34m)\u001B[0m\u001B[0;34m\u001B[0m\u001B[0;34m\u001B[0m\u001B[0m\n\u001B[0m\u001B[1;32m     66\u001B[0m         \u001B[0;32mexcept\u001B[0m \u001B[0mException\u001B[0m \u001B[0;32mas\u001B[0m \u001B[0me\u001B[0m\u001B[0;34m:\u001B[0m\u001B[0;34m\u001B[0m\u001B[0;34m\u001B[0m\u001B[0m\n\u001B[1;32m     67\u001B[0m             \u001B[0mfiltered_tb\u001B[0m \u001B[0;34m=\u001B[0m \u001B[0m_process_traceback_frames\u001B[0m\u001B[0;34m(\u001B[0m\u001B[0me\u001B[0m\u001B[0;34m.\u001B[0m\u001B[0m__traceback__\u001B[0m\u001B[0;34m)\u001B[0m\u001B[0;34m\u001B[0m\u001B[0;34m\u001B[0m\u001B[0m\n",
      "\u001B[0;32m/usr/local/lib/python3.10/dist-packages/keras/src/engine/training.py\u001B[0m in \u001B[0;36mfit\u001B[0;34m(self, x, y, batch_size, epochs, verbose, callbacks, validation_split, validation_data, shuffle, class_weight, sample_weight, initial_epoch, steps_per_epoch, validation_steps, validation_batch_size, validation_freq, max_queue_size, workers, use_multiprocessing)\u001B[0m\n\u001B[1;32m   1781\u001B[0m                         ):\n\u001B[1;32m   1782\u001B[0m                             \u001B[0mcallbacks\u001B[0m\u001B[0;34m.\u001B[0m\u001B[0mon_train_batch_begin\u001B[0m\u001B[0;34m(\u001B[0m\u001B[0mstep\u001B[0m\u001B[0;34m)\u001B[0m\u001B[0;34m\u001B[0m\u001B[0;34m\u001B[0m\u001B[0m\n\u001B[0;32m-> 1783\u001B[0;31m                             \u001B[0mtmp_logs\u001B[0m \u001B[0;34m=\u001B[0m \u001B[0mself\u001B[0m\u001B[0;34m.\u001B[0m\u001B[0mtrain_function\u001B[0m\u001B[0;34m(\u001B[0m\u001B[0miterator\u001B[0m\u001B[0;34m)\u001B[0m\u001B[0;34m\u001B[0m\u001B[0;34m\u001B[0m\u001B[0m\n\u001B[0m\u001B[1;32m   1784\u001B[0m                             \u001B[0;32mif\u001B[0m \u001B[0mdata_handler\u001B[0m\u001B[0;34m.\u001B[0m\u001B[0mshould_sync\u001B[0m\u001B[0;34m:\u001B[0m\u001B[0;34m\u001B[0m\u001B[0;34m\u001B[0m\u001B[0m\n\u001B[1;32m   1785\u001B[0m                                 \u001B[0mcontext\u001B[0m\u001B[0;34m.\u001B[0m\u001B[0masync_wait\u001B[0m\u001B[0;34m(\u001B[0m\u001B[0;34m)\u001B[0m\u001B[0;34m\u001B[0m\u001B[0;34m\u001B[0m\u001B[0m\n",
      "\u001B[0;32m/usr/local/lib/python3.10/dist-packages/tensorflow/python/util/traceback_utils.py\u001B[0m in \u001B[0;36merror_handler\u001B[0;34m(*args, **kwargs)\u001B[0m\n\u001B[1;32m    148\u001B[0m     \u001B[0mfiltered_tb\u001B[0m \u001B[0;34m=\u001B[0m \u001B[0;32mNone\u001B[0m\u001B[0;34m\u001B[0m\u001B[0;34m\u001B[0m\u001B[0m\n\u001B[1;32m    149\u001B[0m     \u001B[0;32mtry\u001B[0m\u001B[0;34m:\u001B[0m\u001B[0;34m\u001B[0m\u001B[0;34m\u001B[0m\u001B[0m\n\u001B[0;32m--> 150\u001B[0;31m       \u001B[0;32mreturn\u001B[0m \u001B[0mfn\u001B[0m\u001B[0;34m(\u001B[0m\u001B[0;34m*\u001B[0m\u001B[0margs\u001B[0m\u001B[0;34m,\u001B[0m \u001B[0;34m**\u001B[0m\u001B[0mkwargs\u001B[0m\u001B[0;34m)\u001B[0m\u001B[0;34m\u001B[0m\u001B[0;34m\u001B[0m\u001B[0m\n\u001B[0m\u001B[1;32m    151\u001B[0m     \u001B[0;32mexcept\u001B[0m \u001B[0mException\u001B[0m \u001B[0;32mas\u001B[0m \u001B[0me\u001B[0m\u001B[0;34m:\u001B[0m\u001B[0;34m\u001B[0m\u001B[0;34m\u001B[0m\u001B[0m\n\u001B[1;32m    152\u001B[0m       \u001B[0mfiltered_tb\u001B[0m \u001B[0;34m=\u001B[0m \u001B[0m_process_traceback_frames\u001B[0m\u001B[0;34m(\u001B[0m\u001B[0me\u001B[0m\u001B[0;34m.\u001B[0m\u001B[0m__traceback__\u001B[0m\u001B[0;34m)\u001B[0m\u001B[0;34m\u001B[0m\u001B[0;34m\u001B[0m\u001B[0m\n",
      "\u001B[0;32m/usr/local/lib/python3.10/dist-packages/tensorflow/python/eager/polymorphic_function/polymorphic_function.py\u001B[0m in \u001B[0;36m__call__\u001B[0;34m(self, *args, **kwds)\u001B[0m\n\u001B[1;32m    829\u001B[0m \u001B[0;34m\u001B[0m\u001B[0m\n\u001B[1;32m    830\u001B[0m       \u001B[0;32mwith\u001B[0m \u001B[0mOptionalXlaContext\u001B[0m\u001B[0;34m(\u001B[0m\u001B[0mself\u001B[0m\u001B[0;34m.\u001B[0m\u001B[0m_jit_compile\u001B[0m\u001B[0;34m)\u001B[0m\u001B[0;34m:\u001B[0m\u001B[0;34m\u001B[0m\u001B[0;34m\u001B[0m\u001B[0m\n\u001B[0;32m--> 831\u001B[0;31m         \u001B[0mresult\u001B[0m \u001B[0;34m=\u001B[0m \u001B[0mself\u001B[0m\u001B[0;34m.\u001B[0m\u001B[0m_call\u001B[0m\u001B[0;34m(\u001B[0m\u001B[0;34m*\u001B[0m\u001B[0margs\u001B[0m\u001B[0;34m,\u001B[0m \u001B[0;34m**\u001B[0m\u001B[0mkwds\u001B[0m\u001B[0;34m)\u001B[0m\u001B[0;34m\u001B[0m\u001B[0;34m\u001B[0m\u001B[0m\n\u001B[0m\u001B[1;32m    832\u001B[0m \u001B[0;34m\u001B[0m\u001B[0m\n\u001B[1;32m    833\u001B[0m       \u001B[0mnew_tracing_count\u001B[0m \u001B[0;34m=\u001B[0m \u001B[0mself\u001B[0m\u001B[0;34m.\u001B[0m\u001B[0mexperimental_get_tracing_count\u001B[0m\u001B[0;34m(\u001B[0m\u001B[0;34m)\u001B[0m\u001B[0;34m\u001B[0m\u001B[0;34m\u001B[0m\u001B[0m\n",
      "\u001B[0;32m/usr/local/lib/python3.10/dist-packages/tensorflow/python/eager/polymorphic_function/polymorphic_function.py\u001B[0m in \u001B[0;36m_call\u001B[0;34m(self, *args, **kwds)\u001B[0m\n\u001B[1;32m    865\u001B[0m       \u001B[0;31m# In this case we have created variables on the first call, so we run the\u001B[0m\u001B[0;34m\u001B[0m\u001B[0;34m\u001B[0m\u001B[0m\n\u001B[1;32m    866\u001B[0m       \u001B[0;31m# defunned version which is guaranteed to never create variables.\u001B[0m\u001B[0;34m\u001B[0m\u001B[0;34m\u001B[0m\u001B[0m\n\u001B[0;32m--> 867\u001B[0;31m       return tracing_compilation.call_function(\n\u001B[0m\u001B[1;32m    868\u001B[0m           \u001B[0margs\u001B[0m\u001B[0;34m,\u001B[0m \u001B[0mkwds\u001B[0m\u001B[0;34m,\u001B[0m \u001B[0mself\u001B[0m\u001B[0;34m.\u001B[0m\u001B[0m_no_variable_creation_config\u001B[0m\u001B[0;34m\u001B[0m\u001B[0;34m\u001B[0m\u001B[0m\n\u001B[1;32m    869\u001B[0m       )\n",
      "\u001B[0;32m/usr/local/lib/python3.10/dist-packages/tensorflow/python/eager/polymorphic_function/tracing_compilation.py\u001B[0m in \u001B[0;36mcall_function\u001B[0;34m(args, kwargs, tracing_options)\u001B[0m\n\u001B[1;32m    137\u001B[0m   \u001B[0mbound_args\u001B[0m \u001B[0;34m=\u001B[0m \u001B[0mfunction\u001B[0m\u001B[0;34m.\u001B[0m\u001B[0mfunction_type\u001B[0m\u001B[0;34m.\u001B[0m\u001B[0mbind\u001B[0m\u001B[0;34m(\u001B[0m\u001B[0;34m*\u001B[0m\u001B[0margs\u001B[0m\u001B[0;34m,\u001B[0m \u001B[0;34m**\u001B[0m\u001B[0mkwargs\u001B[0m\u001B[0;34m)\u001B[0m\u001B[0;34m\u001B[0m\u001B[0;34m\u001B[0m\u001B[0m\n\u001B[1;32m    138\u001B[0m   \u001B[0mflat_inputs\u001B[0m \u001B[0;34m=\u001B[0m \u001B[0mfunction\u001B[0m\u001B[0;34m.\u001B[0m\u001B[0mfunction_type\u001B[0m\u001B[0;34m.\u001B[0m\u001B[0munpack_inputs\u001B[0m\u001B[0;34m(\u001B[0m\u001B[0mbound_args\u001B[0m\u001B[0;34m)\u001B[0m\u001B[0;34m\u001B[0m\u001B[0;34m\u001B[0m\u001B[0m\n\u001B[0;32m--> 139\u001B[0;31m   return function._call_flat(  # pylint: disable=protected-access\n\u001B[0m\u001B[1;32m    140\u001B[0m       \u001B[0mflat_inputs\u001B[0m\u001B[0;34m,\u001B[0m \u001B[0mcaptured_inputs\u001B[0m\u001B[0;34m=\u001B[0m\u001B[0mfunction\u001B[0m\u001B[0;34m.\u001B[0m\u001B[0mcaptured_inputs\u001B[0m\u001B[0;34m\u001B[0m\u001B[0;34m\u001B[0m\u001B[0m\n\u001B[1;32m    141\u001B[0m   )\n",
      "\u001B[0;32m/usr/local/lib/python3.10/dist-packages/tensorflow/python/eager/polymorphic_function/concrete_function.py\u001B[0m in \u001B[0;36m_call_flat\u001B[0;34m(self, tensor_inputs, captured_inputs)\u001B[0m\n\u001B[1;32m   1262\u001B[0m         and executing_eagerly):\n\u001B[1;32m   1263\u001B[0m       \u001B[0;31m# No tape is watching; skip to running the function.\u001B[0m\u001B[0;34m\u001B[0m\u001B[0;34m\u001B[0m\u001B[0m\n\u001B[0;32m-> 1264\u001B[0;31m       \u001B[0;32mreturn\u001B[0m \u001B[0mself\u001B[0m\u001B[0;34m.\u001B[0m\u001B[0m_inference_function\u001B[0m\u001B[0;34m.\u001B[0m\u001B[0mflat_call\u001B[0m\u001B[0;34m(\u001B[0m\u001B[0margs\u001B[0m\u001B[0;34m)\u001B[0m\u001B[0;34m\u001B[0m\u001B[0;34m\u001B[0m\u001B[0m\n\u001B[0m\u001B[1;32m   1265\u001B[0m     forward_backward = self._select_forward_and_backward_functions(\n\u001B[1;32m   1266\u001B[0m         \u001B[0margs\u001B[0m\u001B[0;34m,\u001B[0m\u001B[0;34m\u001B[0m\u001B[0;34m\u001B[0m\u001B[0m\n",
      "\u001B[0;32m/usr/local/lib/python3.10/dist-packages/tensorflow/python/eager/polymorphic_function/atomic_function.py\u001B[0m in \u001B[0;36mflat_call\u001B[0;34m(self, args)\u001B[0m\n\u001B[1;32m    215\u001B[0m   \u001B[0;32mdef\u001B[0m \u001B[0mflat_call\u001B[0m\u001B[0;34m(\u001B[0m\u001B[0mself\u001B[0m\u001B[0;34m,\u001B[0m \u001B[0margs\u001B[0m\u001B[0;34m:\u001B[0m \u001B[0mSequence\u001B[0m\u001B[0;34m[\u001B[0m\u001B[0mcore\u001B[0m\u001B[0;34m.\u001B[0m\u001B[0mTensor\u001B[0m\u001B[0;34m]\u001B[0m\u001B[0;34m)\u001B[0m \u001B[0;34m->\u001B[0m \u001B[0mAny\u001B[0m\u001B[0;34m:\u001B[0m\u001B[0;34m\u001B[0m\u001B[0;34m\u001B[0m\u001B[0m\n\u001B[1;32m    216\u001B[0m     \u001B[0;34m\"\"\"Calls with tensor inputs and returns the structured output.\"\"\"\u001B[0m\u001B[0;34m\u001B[0m\u001B[0;34m\u001B[0m\u001B[0m\n\u001B[0;32m--> 217\u001B[0;31m     \u001B[0mflat_outputs\u001B[0m \u001B[0;34m=\u001B[0m \u001B[0mself\u001B[0m\u001B[0;34m(\u001B[0m\u001B[0;34m*\u001B[0m\u001B[0margs\u001B[0m\u001B[0;34m)\u001B[0m\u001B[0;34m\u001B[0m\u001B[0;34m\u001B[0m\u001B[0m\n\u001B[0m\u001B[1;32m    218\u001B[0m     \u001B[0;32mreturn\u001B[0m \u001B[0mself\u001B[0m\u001B[0;34m.\u001B[0m\u001B[0mfunction_type\u001B[0m\u001B[0;34m.\u001B[0m\u001B[0mpack_output\u001B[0m\u001B[0;34m(\u001B[0m\u001B[0mflat_outputs\u001B[0m\u001B[0;34m)\u001B[0m\u001B[0;34m\u001B[0m\u001B[0;34m\u001B[0m\u001B[0m\n\u001B[1;32m    219\u001B[0m \u001B[0;34m\u001B[0m\u001B[0m\n",
      "\u001B[0;32m/usr/local/lib/python3.10/dist-packages/tensorflow/python/eager/polymorphic_function/atomic_function.py\u001B[0m in \u001B[0;36m__call__\u001B[0;34m(self, *args)\u001B[0m\n\u001B[1;32m    250\u001B[0m         \u001B[0;32mwith\u001B[0m \u001B[0mrecord\u001B[0m\u001B[0;34m.\u001B[0m\u001B[0mstop_recording\u001B[0m\u001B[0;34m(\u001B[0m\u001B[0;34m)\u001B[0m\u001B[0;34m:\u001B[0m\u001B[0;34m\u001B[0m\u001B[0;34m\u001B[0m\u001B[0m\n\u001B[1;32m    251\u001B[0m           \u001B[0;32mif\u001B[0m \u001B[0mself\u001B[0m\u001B[0;34m.\u001B[0m\u001B[0m_bound_context\u001B[0m\u001B[0;34m.\u001B[0m\u001B[0mexecuting_eagerly\u001B[0m\u001B[0;34m(\u001B[0m\u001B[0;34m)\u001B[0m\u001B[0;34m:\u001B[0m\u001B[0;34m\u001B[0m\u001B[0;34m\u001B[0m\u001B[0m\n\u001B[0;32m--> 252\u001B[0;31m             outputs = self._bound_context.call_function(\n\u001B[0m\u001B[1;32m    253\u001B[0m                 \u001B[0mself\u001B[0m\u001B[0;34m.\u001B[0m\u001B[0mname\u001B[0m\u001B[0;34m,\u001B[0m\u001B[0;34m\u001B[0m\u001B[0;34m\u001B[0m\u001B[0m\n\u001B[1;32m    254\u001B[0m                 \u001B[0mlist\u001B[0m\u001B[0;34m(\u001B[0m\u001B[0margs\u001B[0m\u001B[0;34m)\u001B[0m\u001B[0;34m,\u001B[0m\u001B[0;34m\u001B[0m\u001B[0;34m\u001B[0m\u001B[0m\n",
      "\u001B[0;32m/usr/local/lib/python3.10/dist-packages/tensorflow/python/eager/context.py\u001B[0m in \u001B[0;36mcall_function\u001B[0;34m(self, name, tensor_inputs, num_outputs)\u001B[0m\n\u001B[1;32m   1477\u001B[0m     \u001B[0mcancellation_context\u001B[0m \u001B[0;34m=\u001B[0m \u001B[0mcancellation\u001B[0m\u001B[0;34m.\u001B[0m\u001B[0mcontext\u001B[0m\u001B[0;34m(\u001B[0m\u001B[0;34m)\u001B[0m\u001B[0;34m\u001B[0m\u001B[0;34m\u001B[0m\u001B[0m\n\u001B[1;32m   1478\u001B[0m     \u001B[0;32mif\u001B[0m \u001B[0mcancellation_context\u001B[0m \u001B[0;32mis\u001B[0m \u001B[0;32mNone\u001B[0m\u001B[0;34m:\u001B[0m\u001B[0;34m\u001B[0m\u001B[0;34m\u001B[0m\u001B[0m\n\u001B[0;32m-> 1479\u001B[0;31m       outputs = execute.execute(\n\u001B[0m\u001B[1;32m   1480\u001B[0m           \u001B[0mname\u001B[0m\u001B[0;34m.\u001B[0m\u001B[0mdecode\u001B[0m\u001B[0;34m(\u001B[0m\u001B[0;34m\"utf-8\"\u001B[0m\u001B[0;34m)\u001B[0m\u001B[0;34m,\u001B[0m\u001B[0;34m\u001B[0m\u001B[0;34m\u001B[0m\u001B[0m\n\u001B[1;32m   1481\u001B[0m           \u001B[0mnum_outputs\u001B[0m\u001B[0;34m=\u001B[0m\u001B[0mnum_outputs\u001B[0m\u001B[0;34m,\u001B[0m\u001B[0;34m\u001B[0m\u001B[0;34m\u001B[0m\u001B[0m\n",
      "\u001B[0;32m/usr/local/lib/python3.10/dist-packages/tensorflow/python/eager/execute.py\u001B[0m in \u001B[0;36mquick_execute\u001B[0;34m(op_name, num_outputs, inputs, attrs, ctx, name)\u001B[0m\n\u001B[1;32m     58\u001B[0m         \u001B[0;32mfor\u001B[0m \u001B[0mt\u001B[0m \u001B[0;32min\u001B[0m \u001B[0minputs\u001B[0m\u001B[0;34m\u001B[0m\u001B[0;34m\u001B[0m\u001B[0m\n\u001B[1;32m     59\u001B[0m     ]\n\u001B[0;32m---> 60\u001B[0;31m     tensors = pywrap_tfe.TFE_Py_Execute(ctx._handle, device_name, op_name,\n\u001B[0m\u001B[1;32m     61\u001B[0m                                         inputs, attrs, num_outputs)\n\u001B[1;32m     62\u001B[0m   \u001B[0;32mexcept\u001B[0m \u001B[0mcore\u001B[0m\u001B[0;34m.\u001B[0m\u001B[0m_NotOkStatusException\u001B[0m \u001B[0;32mas\u001B[0m \u001B[0me\u001B[0m\u001B[0;34m:\u001B[0m\u001B[0;34m\u001B[0m\u001B[0;34m\u001B[0m\u001B[0m\n",
      "\u001B[0;31mKeyboardInterrupt\u001B[0m: "
     ]
    }
   ],
   "source": [
    "experiment_2(feature_type=\"mfcc\", model_type=\"MLP\")"
   ],
   "metadata": {
    "collapsed": false,
    "ExecuteTime": {
     "end_time": "2023-11-29T04:46:43.682909100Z",
     "start_time": "2023-11-29T04:46:41.611095100Z"
    }
   }
  },
  {
   "cell_type": "markdown",
   "source": [
    "## Yu features/SVM"
   ],
   "metadata": {
    "collapsed": false
   }
  },
  {
   "cell_type": "code",
   "execution_count": 36,
   "outputs": [
    {
     "name": "stdout",
     "output_type": "stream",
     "text": [
      "1147 Luis Suarez interview in English after being awarded November player of the month segment 1 - Woman.mp3 Low\n",
      "(1423, 12)\n",
      "(1423,)\n",
      "Pred:  High\n",
      "1195 Luis Suarez interview in English after being awarded November player of the month segment 2 - W.mp3 Low\n",
      "(1423, 12)\n",
      "(1423,)\n",
      "Pred:  High\n",
      "1192 Luis Suarez interview in English after being awarded November player of the month segment 3 - W.mp3 Low\n",
      "(1423, 12)\n",
      "(1423,)\n",
      "Pred:  High\n",
      "1191 Luis Suarez interview in English after being awarded November player of the month segment 4 - W.mp3 Low\n",
      "(1423, 12)\n",
      "(1423,)\n",
      "Pred:  High\n",
      "1194 Luis Suarez interview in English after being awarded November player of the month segment 5 - W.mp3 Low\n",
      "(1423, 12)\n",
      "(1423,)\n",
      "Pred:  High\n",
      "1188 Luis Suarez interview in English after being awarded November player of the month segment 9 - W.mp3 Low\n",
      "(1423, 12)\n",
      "(1423,)\n",
      "Pred:  High\n",
      "1141 Luis Suarez interview in English after being awarded November player of the month segment 14 - W.mp3 Low\n",
      "(1423, 12)\n",
      "(1423,)\n",
      "Pred:  High\n",
      "1140 Luis Suarez interview in English after being awarded November player of the month segment 18 - W.mp3 Low\n",
      "(1423, 12)\n",
      "(1423,)\n",
      "Pred:  High\n",
      "1196 Luis Suarez interview in English after being awarded November player of the month segment 19 - W.mp3 Low\n",
      "(1423, 12)\n",
      "(1423,)\n",
      "Pred:  High\n",
      "1193 Luis Suarez interview in English after being awarded November player of the month segment 23 - W.mp3 Low\n",
      "(1423, 12)\n",
      "(1423,)\n",
      "Pred:  High\n",
      "1189 Luis Suarez interview in English after being awarded November player of the month segment 26 - W.mp3 Low\n",
      "(1423, 12)\n",
      "(1423,)\n",
      "Pred:  High\n",
      "1190 Luis Suarez interview in English after being awarded November player of the month segment 29 - W.mp3 Low\n",
      "(1423, 12)\n",
      "(1423,)\n",
      "Pred:  High\n"
     ]
    }
   ],
   "source": [
    "experiment_2(feature_type=\"yu\", model_type=\"SVM\")"
   ],
   "metadata": {
    "collapsed": false,
    "ExecuteTime": {
     "end_time": "2023-11-29T04:47:13.092635200Z",
     "start_time": "2023-11-29T04:47:12.169140200Z"
    }
   }
  },
  {
   "cell_type": "markdown",
   "source": [
    "## Yu features/MLP"
   ],
   "metadata": {
    "collapsed": false
   }
  },
  {
   "cell_type": "code",
   "execution_count": 14,
   "outputs": [
    {
     "name": "stdout",
     "output_type": "stream",
     "text": [
      "[1147, 1195, 1192, 1191, 1194, 1188, 1141, 1140, 1196, 1193, 1189, 1190]\n",
      "Luis Suarez interview in English after being awarded November player of the month segment 1 - Woman.mp3 Low\n",
      "(1423, 12)\n",
      "(1423,)\n",
      "Pred:  Intermediate\n",
      "Luis Suarez interview in English after being awarded November player of the month segment 2 - W.mp3 Low\n",
      "(1423, 12)\n",
      "(1423,)\n",
      "Pred:  Intermediate\n",
      "Luis Suarez interview in English after being awarded November player of the month segment 3 - W.mp3 Low\n",
      "(1423, 12)\n",
      "(1423,)\n",
      "Pred:  Intermediate\n",
      "Luis Suarez interview in English after being awarded November player of the month segment 4 - W.mp3 Low\n",
      "(1423, 12)\n",
      "(1423,)\n",
      "Pred:  Intermediate\n",
      "Luis Suarez interview in English after being awarded November player of the month segment 5 - W.mp3 Low\n",
      "(1423, 12)\n",
      "(1423,)\n",
      "Pred:  Intermediate\n",
      "Luis Suarez interview in English after being awarded November player of the month segment 9 - W.mp3 Low\n",
      "(1423, 12)\n",
      "(1423,)\n",
      "Pred:  Intermediate\n",
      "Luis Suarez interview in English after being awarded November player of the month segment 14 - W.mp3 Low\n",
      "(1423, 12)\n",
      "(1423,)\n",
      "Pred:  Intermediate\n",
      "Luis Suarez interview in English after being awarded November player of the month segment 18 - W.mp3 Low\n",
      "(1423, 12)\n",
      "(1423,)\n",
      "Pred:  Intermediate\n",
      "Luis Suarez interview in English after being awarded November player of the month segment 19 - W.mp3 Low\n",
      "(1423, 12)\n",
      "(1423,)\n",
      "Pred:  Intermediate\n",
      "Luis Suarez interview in English after being awarded November player of the month segment 23 - W.mp3 Low\n",
      "(1423, 12)\n",
      "(1423,)\n",
      "Pred:  Low\n",
      "Luis Suarez interview in English after being awarded November player of the month segment 26 - W.mp3 Low\n",
      "(1423, 12)\n",
      "(1423,)\n",
      "Pred:  Low\n",
      "Luis Suarez interview in English after being awarded November player of the month segment 29 - W.mp3 Low\n",
      "(1423, 12)\n",
      "(1423,)\n",
      "Pred:  Intermediate\n"
     ]
    }
   ],
   "source": [
    "experiment_2(feature_type=\"yu\", model_type=\"MLP\")"
   ],
   "metadata": {
    "collapsed": false,
    "ExecuteTime": {
     "end_time": "2023-11-29T04:20:34.523796500Z",
     "start_time": "2023-11-29T04:17:37.642865200Z"
    }
   }
  },
  {
   "cell_type": "markdown",
   "source": [
    "## Lexical-prosodic features/SVM"
   ],
   "metadata": {
    "collapsed": false
   }
  },
  {
   "cell_type": "code",
   "execution_count": 17,
   "outputs": [
    {
     "name": "stdout",
     "output_type": "stream",
     "text": [
      "[1182, 1179, 1177, 1172, 1168, 1175, 1181, 1183, 1186, 1188, 1185, 1178]\n",
      "Luis Suarez interview in English after being awarded November player of the month segment 1 - Woman.mp3 Low\n",
      "(1423, 16)\n",
      "(1423,)\n",
      "Pred:  High\n",
      "Luis Suarez interview in English after being awarded November player of the month segment 2 - W.mp3 Low\n",
      "(1423, 16)\n",
      "(1423,)\n",
      "Pred:  High\n",
      "Luis Suarez interview in English after being awarded November player of the month segment 3 - W.mp3 Low\n",
      "(1423, 16)\n",
      "(1423,)\n",
      "Pred:  High\n",
      "Luis Suarez interview in English after being awarded November player of the month segment 4 - W.mp3 Low\n",
      "(1423, 16)\n",
      "(1423,)\n",
      "Pred:  High\n",
      "Luis Suarez interview in English after being awarded November player of the month segment 5 - W.mp3 Low\n",
      "(1423, 16)\n",
      "(1423,)\n",
      "Pred:  Low\n",
      "Luis Suarez interview in English after being awarded November player of the month segment 9 - W.mp3 Low\n",
      "(1423, 16)\n",
      "(1423,)\n",
      "Pred:  High\n",
      "Luis Suarez interview in English after being awarded November player of the month segment 14 - W.mp3 Low\n",
      "(1423, 16)\n",
      "(1423,)\n",
      "Pred:  High\n",
      "Luis Suarez interview in English after being awarded November player of the month segment 18 - W.mp3 Low\n",
      "(1423, 16)\n",
      "(1423,)\n",
      "Pred:  Intermediate\n",
      "Luis Suarez interview in English after being awarded November player of the month segment 19 - W.mp3 Low\n",
      "(1423, 16)\n",
      "(1423,)\n",
      "Pred:  High\n",
      "Luis Suarez interview in English after being awarded November player of the month segment 23 - W.mp3 Low\n",
      "(1423, 16)\n",
      "(1423,)\n",
      "Pred:  High\n",
      "Luis Suarez interview in English after being awarded November player of the month segment 26 - W.mp3 Low\n",
      "(1423, 16)\n",
      "(1423,)\n",
      "Pred:  High\n",
      "Luis Suarez interview in English after being awarded November player of the month segment 29 - W.mp3 Low\n",
      "(1423, 16)\n",
      "(1423,)\n",
      "Pred:  High\n"
     ]
    }
   ],
   "source": [
    "experiment_2(feature_type=\"lexical-prosodic\", model_type=\"SVM\")"
   ],
   "metadata": {
    "collapsed": false,
    "ExecuteTime": {
     "end_time": "2023-11-29T04:27:41.438366800Z",
     "start_time": "2023-11-29T04:27:40.535118Z"
    }
   }
  },
  {
   "cell_type": "markdown",
   "source": [
    "## Lexical-prosodic features/MLP"
   ],
   "metadata": {
    "collapsed": false
   }
  },
  {
   "cell_type": "code",
   "execution_count": 24,
   "outputs": [
    {
     "name": "stdout",
     "output_type": "stream",
     "text": [
      "[1182, 1179, 1177, 1172, 1168, 1175, 1181, 1183, 1186, 1188, 1185, 1178]\n",
      "Luis Suarez interview in English after being awarded November player of the month segment 1 - Woman.mp3 Low\n",
      "(1423, 16)\n",
      "(1423,)\n",
      "Pred:  Intermediate\n",
      "Luis Suarez interview in English after being awarded November player of the month segment 2 - W.mp3 Low\n",
      "(1423, 16)\n",
      "(1423,)\n",
      "Pred:  Intermediate\n",
      "Luis Suarez interview in English after being awarded November player of the month segment 3 - W.mp3 Low\n",
      "(1423, 16)\n",
      "(1423,)\n",
      "Pred:  Intermediate\n",
      "Luis Suarez interview in English after being awarded November player of the month segment 4 - W.mp3 Low\n",
      "(1423, 16)\n",
      "(1423,)\n",
      "Pred:  Intermediate\n",
      "Luis Suarez interview in English after being awarded November player of the month segment 5 - W.mp3 Low\n",
      "(1423, 16)\n",
      "(1423,)\n",
      "Pred:  Low\n",
      "Luis Suarez interview in English after being awarded November player of the month segment 9 - W.mp3 Low\n",
      "(1423, 16)\n",
      "(1423,)\n",
      "Pred:  Intermediate\n",
      "Luis Suarez interview in English after being awarded November player of the month segment 14 - W.mp3 Low\n",
      "(1423, 16)\n",
      "(1423,)\n",
      "Pred:  Intermediate\n",
      "Luis Suarez interview in English after being awarded November player of the month segment 18 - W.mp3 Low\n",
      "(1423, 16)\n",
      "(1423,)\n",
      "Pred:  Low\n",
      "Luis Suarez interview in English after being awarded November player of the month segment 19 - W.mp3 Low\n",
      "(1423, 16)\n",
      "(1423,)\n",
      "Pred:  Intermediate\n",
      "Luis Suarez interview in English after being awarded November player of the month segment 23 - W.mp3 Low\n",
      "(1423, 16)\n",
      "(1423,)\n",
      "Pred:  Intermediate\n",
      "Luis Suarez interview in English after being awarded November player of the month segment 26 - W.mp3 Low\n",
      "(1423, 16)\n",
      "(1423,)\n",
      "Pred:  Intermediate\n",
      "Luis Suarez interview in English after being awarded November player of the month segment 29 - W.mp3 Low\n",
      "(1423, 16)\n",
      "(1423,)\n",
      "Pred:  Intermediate\n"
     ]
    }
   ],
   "source": [
    "experiment_2(feature_type=\"lexical-prosodic\", model_type=\"MLP\")"
   ],
   "metadata": {
    "collapsed": false,
    "ExecuteTime": {
     "end_time": "2023-11-29T04:33:18.985693100Z",
     "start_time": "2023-11-29T04:30:24.766882400Z"
    }
   }
  },
  {
   "cell_type": "code",
   "execution_count": null,
   "outputs": [],
   "source": [],
   "metadata": {
    "collapsed": false
   }
  }
 ],
 "metadata": {
  "kernelspec": {
   "name": "python3",
   "language": "python",
   "display_name": "Python 3"
  },
  "language_info": {
   "codemirror_mode": {
    "name": "ipython",
    "version": 2
   },
   "file_extension": ".py",
   "mimetype": "text/x-python",
   "name": "python",
   "nbconvert_exporter": "python",
   "pygments_lexer": "ipython2",
   "version": "2.7.14"
  }
 },
 "nbformat": 4,
 "nbformat_minor": 2
}
