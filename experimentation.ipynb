{
 "cells": [
  {
   "cell_type": "markdown",
   "metadata": {
    "collapsed": false,
    "jupyter": {
     "outputs_hidden": false
    }
   },
   "source": [
    "# Setup"
   ]
  },
  {
   "cell_type": "code",
   "execution_count": 1,
   "metadata": {
    "collapsed": false,
    "jupyter": {
     "outputs_hidden": false
    },
    "ExecuteTime": {
     "end_time": "2023-11-29T14:42:16.312926Z",
     "start_time": "2023-11-29T14:42:16.307884700Z"
    }
   },
   "outputs": [],
   "source": [
    "class_labels = ['Low', 'Intermediate', 'High']"
   ]
  },
  {
   "cell_type": "code",
   "execution_count": 2,
   "metadata": {
    "collapsed": false,
    "jupyter": {
     "outputs_hidden": false
    },
    "ExecuteTime": {
     "end_time": "2023-11-29T14:42:25.885824200Z",
     "start_time": "2023-11-29T14:42:16.314920100Z"
    }
   },
   "outputs": [
    {
     "name": "stderr",
     "output_type": "stream",
     "text": [
      "/usr/lib/python3/dist-packages/scipy/__init__.py:146: UserWarning: A NumPy version >=1.17.3 and <1.25.0 is required for this version of SciPy (detected version 1.26.2\n",
      "  warnings.warn(f\"A NumPy version >={np_minversion} and <{np_maxversion}\"\n",
      "2023-11-29 09:42:20.300848: E tensorflow/compiler/xla/stream_executor/cuda/cuda_dnn.cc:9342] Unable to register cuDNN factory: Attempting to register factory for plugin cuDNN when one has already been registered\n",
      "2023-11-29 09:42:20.300914: E tensorflow/compiler/xla/stream_executor/cuda/cuda_fft.cc:609] Unable to register cuFFT factory: Attempting to register factory for plugin cuFFT when one has already been registered\n",
      "2023-11-29 09:42:20.303956: E tensorflow/compiler/xla/stream_executor/cuda/cuda_blas.cc:1518] Unable to register cuBLAS factory: Attempting to register factory for plugin cuBLAS when one has already been registered\n",
      "2023-11-29 09:42:20.637772: I tensorflow/core/platform/cpu_feature_guard.cc:182] This TensorFlow binary is optimized to use available CPU instructions in performance-critical operations.\n",
      "To enable the following instructions: AVX2 FMA, in other operations, rebuild TensorFlow with the appropriate compiler flags.\n"
     ]
    }
   ],
   "source": [
    "import os\n",
    "import glob\n",
    "import librosa\n",
    "import matplotlib.pyplot as plt\n",
    "import numpy as np\n",
    "from sklearn.svm import SVC\n",
    "from sklearn.model_selection import train_test_split\n",
    "from sklearn.metrics import ConfusionMatrixDisplay, confusion_matrix\n",
    "import numpy as np\n",
    "from tensorflow.keras.models import Sequential\n",
    "from tensorflow.keras.layers import Dense, Dropout, Activation\n",
    "from tensorflow.keras.utils import to_categorical\n",
    "from sklearn.model_selection import train_test_split\n",
    "from typing import Tuple"
   ]
  },
  {
   "cell_type": "code",
   "execution_count": 3,
   "metadata": {
    "collapsed": false,
    "jupyter": {
     "outputs_hidden": false
    },
    "ExecuteTime": {
     "end_time": "2023-11-29T14:42:25.896360700Z",
     "start_time": "2023-11-29T14:42:25.893360900Z"
    }
   },
   "outputs": [],
   "source": [
    "def load_features(feature_type: str, original: bool = True, return_file_indices: bool = False):\n",
    "    features, labels = np.load(f\"{feature_type}-features.npy\"), np.load(f\"{feature_type}-labels.npy\").ravel()\n",
    "    if not original:\n",
    "        filenames = np.load(f\"{feature_type}-filenames.npy\", allow_pickle=True).tolist()\n",
    "        clean_filenames = []\n",
    "        for f in filenames:\n",
    "            new_f = f.split(\"/\")[-1]\n",
    "            if not new_f.endswith(\".mp3\"):\n",
    "                new_f += \".mp3\"\n",
    "            clean_filenames.append(new_f)\n",
    "        filenames = clean_filenames\n",
    "        files_to_extract = [\n",
    "            \"Luis Suarez interview in English after being awarded November player of the month segment 1 - Woman.mp3\"]\n",
    "        for num in [2, 3, 4, 5, 9, 14, 18, 19, 23, 26, 29]:\n",
    "            files_to_extract.append(\n",
    "                f\"Luis Suarez interview in English after being awarded November player of the month segment {num} - W.mp3\")\n",
    "        files_to_return = files_to_extract\n",
    "        indices_adv_to_basic = []\n",
    "        for extract in files_to_extract:\n",
    "            indices_adv_to_basic.append(filenames.index(extract))\n",
    "        files_to_extract = [\n",
    "            \"Musira  Rwandan athlete inability to fluently articulate himself in English segment 2 - Musira.mp3\"]\n",
    "        for num in [3, 4, 5, 6, 8, 9, 10, 11, 12, 13, 14]:\n",
    "            files_to_extract.append(\n",
    "                f\"Musira  Rwandan athlete inability to fluently articulate himself in English segment {num} - M.mp3\")\n",
    "        indices_basic_to_intermediate = []\n",
    "        for extract in files_to_extract:\n",
    "            indices_basic_to_intermediate.append(filenames.index(extract))\n",
    "        files_to_extract = [\n",
    "            \"Elderly Chinese street cleaner speaks fluent English segment 1 - Guy.mp3\"]\n",
    "        for num in [2, 3, 4, 13, 14, 15, 16, 17, 33, 34, 41, 42, 43, 44, 63, 75]:\n",
    "            files_to_extract.append(\n",
    "                f\"Elderly Chinese street cleaner speaks fluent English segment {num} - G.mp3\")\n",
    "        indices_intermediate_to_advanced = []\n",
    "        for extract in files_to_extract:\n",
    "            indices_intermediate_to_advanced.append(filenames.index(extract))\n",
    "        for ind1 in indices_adv_to_basic:\n",
    "            labels[ind1] = 0\n",
    "        for ind2 in indices_intermediate_to_advanced:\n",
    "            labels[ind2] = 2\n",
    "        for ind3 in indices_basic_to_intermediate:\n",
    "            labels[ind3] = 1\n",
    "        if return_file_indices:\n",
    "            return features, labels, files_to_return, indices_adv_to_basic\n",
    "    return features, labels"
   ]
  },
  {
   "cell_type": "markdown",
   "metadata": {
    "collapsed": false,
    "jupyter": {
     "outputs_hidden": false
    }
   },
   "source": [
    "# Experiment 1"
   ]
  },
  {
   "cell_type": "markdown",
   "metadata": {
    "collapsed": false,
    "jupyter": {
     "outputs_hidden": false
    }
   },
   "source": [
    "Hypothesis 1: Since the classifier isn’t learning to classify english fluency levels, but rather acting as a speaker recognition algorithm, if we label an advanced speaker’s audio fragments as “Basic”, or an intermediate speaker’s audio as “Advanced” and so forth, the classifier’s performance shouldn’t be affected.\n",
    "Create a new dataset by moving 12 audio fragments from “Basic” to “Intermediate”, 17 from “Intermediate” to “Advanced”, and 12 from “Advanced” to “Basic”.\n",
    "Train the model with the highest accuracy from [1] (SVM) with the original dataset, maintaining as many unchanged parameters as possible.\n",
    "Find accuracy and confusion matrix to use as reference.\n",
    "Train the model with the highest accuracy from [1] (SVM) with the modified dataset, maintaining as many unchanged parameters as possible.\n",
    "Find accuracy and confusion matrix.\n",
    "Compare the results.\n"
   ]
  },
  {
   "cell_type": "code",
   "execution_count": 4,
   "metadata": {
    "collapsed": false,
    "jupyter": {
     "outputs_hidden": false
    },
    "ExecuteTime": {
     "end_time": "2023-11-29T12:20:18.961555600Z",
     "start_time": "2023-11-29T12:20:18.946538400Z"
    }
   },
   "outputs": [],
   "source": [
    "def experiment_1(feature_type: str, model_type: str, original: bool = True):\n",
    "    X, y = load_features(feature_type, original)\n",
    "\n",
    "    # Fix random seed number\n",
    "    np.random.seed(7)\n",
    "\n",
    "    # Load the data\n",
    "    X_train, X_test, y_train, y_test = train_test_split(X, y, test_size=0.3, random_state=30)\n",
    "\n",
    "    if model_type == \"SVM\":\n",
    "        # SVM classifier\n",
    "        svm_clf = SVC(C=200, gamma=0.0001, kernel='rbf', decision_function_shape=\"ovr\")\n",
    "\n",
    "        # Fit model\n",
    "        svm_clf.fit(X_train, y_train)\n",
    "\n",
    "        # Predictions\n",
    "        y_predict = svm_clf.predict(X_test)\n",
    "        # Accuracy Result\n",
    "        acc = svm_clf.score(X_test, y_test)\n",
    "        # Accuracy Result\n",
    "        print(\"Test accuracy = %0.4f\" % acc)\n",
    "\n",
    "        cm = confusion_matrix(y_test, y_predict)\n",
    "        cm_display = ConfusionMatrixDisplay(confusion_matrix=cm, display_labels=class_labels)\n",
    "        cm_display.plot(cmap=\"inferno\")\n",
    "    else:\n",
    "        number_of_features = len(X[1])  #This is variable with each run\n",
    "        number_of_classes = 3\n",
    "        # Neural Network Architecture\n",
    "        model = Sequential()  # Define Sequential model\n",
    "\n",
    "        # Using relu on the first two layers and softmax on the output layer\n",
    "\n",
    "        # 1st Layer\n",
    "        #N neurons, Number_Fatures-dimensional vectors\n",
    "        model.add(Dense(128, input_dim=number_of_features, activation='relu'))  #32, 64, 128, 256, 512, 1024\n",
    "        model.add(Dropout(0.5))\n",
    "\n",
    "        # 2nd Layer\n",
    "        model.add(Dense(128, activation='relu'))\n",
    "        model.add(Dropout(0.5))\n",
    "\n",
    "        # 3rd Layer. Output 3 neurons corresponding the number of classes\n",
    "        # The sigmoid function is used for the two-class logistic regression,\n",
    "        # whereas the softmax function is used for the multiclass logistic regression\n",
    "        model.add(Dense(number_of_classes, activation='softmax'))\n",
    "\n",
    "        # Model Compilation. Loss for multi-class classification problem\n",
    "        # sgd = SGD(lr=0.01, decay=1e-6, momentum=0.9, nesterov=True)\n",
    "        # rmsprop = 'rmsprop'\n",
    "        adam = 'adam'\n",
    "        model.compile(loss='categorical_crossentropy',\n",
    "                      optimizer=adam,  #rmsprop better than sgd\n",
    "                      metrics=['accuracy'])\n",
    "\n",
    "        # Convert labels to categorical one-hot encoding\n",
    "        y_train = to_categorical(y_train - 1, num_classes=number_of_classes)  # Convert class vector into binary Matrix\n",
    "        y_test = to_categorical(y_test - 1, num_classes=number_of_classes)\n",
    "\n",
    "        # Train and test\n",
    "        history = model.fit(X_train, y_train, epochs=100, batch_size=64)  #batch 32, 64, 128, 256, 512\n",
    "\n",
    "        plt.plot(history.history['loss'])\n",
    "        plt.title('model loss')\n",
    "        plt.ylabel('loss')\n",
    "        plt.xlabel('epoch')\n",
    "        plt.legend(['train'], loc='upper left')\n",
    "        plt.show()\n",
    "\n",
    "        score, acc = model.evaluate(X_test, y_test, batch_size=64)\n",
    "        print('Test accuracy = ', acc)\n",
    "\n",
    "        Y_pred = model.predict(X_test)\n",
    "        y_predict_non_category = [np.argmax(t) for t in Y_pred]\n",
    "        y_test_non_category = [np.argmax(t) for t in y_test]\n",
    "        cm = confusion_matrix(y_test_non_category, y_predict_non_category)\n",
    "        cm_display = ConfusionMatrixDisplay(confusion_matrix=cm, display_labels=class_labels)\n",
    "        cm_display.plot(cmap=\"inferno\")"
   ]
  },
  {
   "cell_type": "markdown",
   "metadata": {
    "collapsed": false,
    "jupyter": {
     "outputs_hidden": false
    }
   },
   "source": [
    "## Original dataset/MFCC/SVM"
   ]
  },
  {
   "cell_type": "code",
   "execution_count": 5,
   "metadata": {
    "collapsed": false,
    "jupyter": {
     "outputs_hidden": false
    },
    "ExecuteTime": {
     "end_time": "2023-11-29T12:20:19.174594100Z",
     "start_time": "2023-11-29T12:20:18.964734900Z"
    }
   },
   "outputs": [
    {
     "name": "stdout",
     "output_type": "stream",
     "text": [
      "Test accuracy = 0.9369\n"
     ]
    },
    {
     "data": {
      "text/plain": "<Figure size 432x288 with 2 Axes>",
      "image/png": "[encoded data removed]"
     },
     "metadata": {
      "needs_background": "light"
     },
     "output_type": "display_data"
    }
   ],
   "source": [
    "experiment_1(feature_type=\"mfcc\", model_type=\"SVM\", original=True)"
   ]
  },
  {
   "cell_type": "markdown",
   "metadata": {
    "collapsed": false,
    "jupyter": {
     "outputs_hidden": false
    }
   },
   "source": [
    "## Original dataset/MFCC/MLP"
   ]
  },
  {
   "cell_type": "code",
   "execution_count": 6,
   "metadata": {
    "collapsed": false,
    "jupyter": {
     "outputs_hidden": false
    },
    "ExecuteTime": {
     "end_time": "2023-11-29T12:20:38.417838700Z",
     "start_time": "2023-11-29T12:20:19.171082100Z"
    }
   },
   "outputs": [
    {
     "name": "stderr",
     "output_type": "stream",
     "text": [
      "2023-11-29 07:20:18.874579: I tensorflow/compiler/xla/stream_executor/cuda/cuda_gpu_executor.cc:880] could not open file to read NUMA node: /sys/bus/pci/devices/0000:01:00.0/numa_node\n",
      "Your kernel may have been built without NUMA support.\n",
      "2023-11-29 07:20:18.914794: I tensorflow/compiler/xla/stream_executor/cuda/cuda_gpu_executor.cc:880] could not open file to read NUMA node: /sys/bus/pci/devices/0000:01:00.0/numa_node\n",
      "Your kernel may have been built without NUMA support.\n",
      "2023-11-29 07:20:18.914839: I tensorflow/compiler/xla/stream_executor/cuda/cuda_gpu_executor.cc:880] could not open file to read NUMA node: /sys/bus/pci/devices/0000:01:00.0/numa_node\n",
      "Your kernel may have been built without NUMA support.\n",
      "2023-11-29 07:20:18.917560: I tensorflow/compiler/xla/stream_executor/cuda/cuda_gpu_executor.cc:880] could not open file to read NUMA node: /sys/bus/pci/devices/0000:01:00.0/numa_node\n",
      "Your kernel may have been built without NUMA support.\n",
      "2023-11-29 07:20:18.917654: I tensorflow/compiler/xla/stream_executor/cuda/cuda_gpu_executor.cc:880] could not open file to read NUMA node: /sys/bus/pci/devices/0000:01:00.0/numa_node\n",
      "Your kernel may have been built without NUMA support.\n",
      "2023-11-29 07:20:18.917710: I tensorflow/compiler/xla/stream_executor/cuda/cuda_gpu_executor.cc:880] could not open file to read NUMA node: /sys/bus/pci/devices/0000:01:00.0/numa_node\n",
      "Your kernel may have been built without NUMA support.\n",
      "2023-11-29 07:20:20.254633: I tensorflow/compiler/xla/stream_executor/cuda/cuda_gpu_executor.cc:880] could not open file to read NUMA node: /sys/bus/pci/devices/0000:01:00.0/numa_node\n",
      "Your kernel may have been built without NUMA support.\n",
      "2023-11-29 07:20:20.254795: I tensorflow/compiler/xla/stream_executor/cuda/cuda_gpu_executor.cc:880] could not open file to read NUMA node: /sys/bus/pci/devices/0000:01:00.0/numa_node\n",
      "Your kernel may have been built without NUMA support.\n",
      "2023-11-29 07:20:20.254804: I tensorflow/core/common_runtime/gpu/gpu_device.cc:1977] Could not identify NUMA node of platform GPU id 0, defaulting to 0.  Your kernel may not have been built with NUMA support.\n",
      "2023-11-29 07:20:20.254896: I tensorflow/compiler/xla/stream_executor/cuda/cuda_gpu_executor.cc:880] could not open file to read NUMA node: /sys/bus/pci/devices/0000:01:00.0/numa_node\n",
      "Your kernel may have been built without NUMA support.\n",
      "2023-11-29 07:20:20.255319: I tensorflow/core/common_runtime/gpu/gpu_device.cc:1886] Created device /job:localhost/replica:0/task:0/device:GPU:0 with 5925 MB memory:  -> device: 0, name: NVIDIA GeForce RTX 2070, pci bus id: 0000:01:00.0, compute capability: 7.5\n"
     ]
    },
    {
     "name": "stdout",
     "output_type": "stream",
     "text": [
      "Epoch 1/100\n"
     ]
    },
    {
     "name": "stderr",
     "output_type": "stream",
     "text": [
      "2023-11-29 07:20:23.253238: I tensorflow/tsl/platform/default/subprocess.cc:304] Start cannot spawn child process: No such file or directory\n",
      "2023-11-29 07:20:24.271323: I tensorflow/compiler/xla/service/service.cc:168] XLA service 0x7fd3280129e0 initialized for platform CUDA (this does not guarantee that XLA will be used). Devices:\n",
      "2023-11-29 07:20:24.271384: I tensorflow/compiler/xla/service/service.cc:176]   StreamExecutor device (0): NVIDIA GeForce RTX 2070, Compute Capability 7.5\n",
      "2023-11-29 07:20:24.277535: I tensorflow/compiler/mlir/tensorflow/utils/dump_mlir_util.cc:269] disabling MLIR crash reproducer, set env var `MLIR_CRASH_REPRODUCER_DIRECTORY` to enable.\n",
      "2023-11-29 07:20:24.736558: I tensorflow/compiler/xla/stream_executor/cuda/cuda_dnn.cc:442] Loaded cuDNN version 8700\n",
      "2023-11-29 07:20:24.892904: I ./tensorflow/compiler/jit/device_compiler.h:186] Compiled cluster using XLA!  This line is logged at most once for the lifetime of the process.\n"
     ]
    },
    {
     "name": "stdout",
     "output_type": "stream",
     "text": [
      "16/16 [==============================] - 5s 20ms/step - loss: 50.3771 - accuracy: 0.3353\n",
      "Epoch 2/100\n",
      "16/16 [==============================] - 0s 8ms/step - loss: 29.0318 - accuracy: 0.3584\n",
      "Epoch 3/100\n",
      "16/16 [==============================] - 0s 7ms/step - loss: 20.4323 - accuracy: 0.3835\n",
      "Epoch 4/100\n",
      "16/16 [==============================] - 0s 7ms/step - loss: 14.4086 - accuracy: 0.4056\n",
      "Epoch 5/100\n",
      "16/16 [==============================] - 0s 6ms/step - loss: 11.6306 - accuracy: 0.4016\n",
      "Epoch 6/100\n",
      "16/16 [==============================] - 0s 7ms/step - loss: 8.6454 - accuracy: 0.4347\n",
      "Epoch 7/100\n",
      "16/16 [==============================] - 0s 6ms/step - loss: 6.4486 - accuracy: 0.4388\n",
      "Epoch 8/100\n",
      "16/16 [==============================] - 0s 7ms/step - loss: 5.2424 - accuracy: 0.4518\n",
      "Epoch 9/100\n",
      "16/16 [==============================] - 0s 6ms/step - loss: 4.4206 - accuracy: 0.4498\n",
      "Epoch 10/100\n",
      "16/16 [==============================] - 0s 6ms/step - loss: 3.2157 - accuracy: 0.4719\n",
      "Epoch 11/100\n",
      "16/16 [==============================] - 0s 6ms/step - loss: 2.8175 - accuracy: 0.4659\n",
      "Epoch 12/100\n",
      "16/16 [==============================] - 0s 11ms/step - loss: 2.3639 - accuracy: 0.4468\n",
      "Epoch 13/100\n",
      "16/16 [==============================] - 0s 6ms/step - loss: 2.1209 - accuracy: 0.4759\n",
      "Epoch 14/100\n",
      "16/16 [==============================] - 0s 6ms/step - loss: 1.8445 - accuracy: 0.4588\n",
      "Epoch 15/100\n",
      "16/16 [==============================] - 0s 8ms/step - loss: 1.5894 - accuracy: 0.4769\n",
      "Epoch 16/100\n",
      "16/16 [==============================] - 0s 6ms/step - loss: 1.4957 - accuracy: 0.4508\n",
      "Epoch 17/100\n",
      "16/16 [==============================] - 0s 6ms/step - loss: 1.4900 - accuracy: 0.4649\n",
      "Epoch 18/100\n",
      "16/16 [==============================] - 0s 6ms/step - loss: 1.2966 - accuracy: 0.4629\n",
      "Epoch 19/100\n",
      "16/16 [==============================] - 0s 6ms/step - loss: 1.3242 - accuracy: 0.4629\n",
      "Epoch 20/100\n",
      "16/16 [==============================] - 0s 6ms/step - loss: 1.2849 - accuracy: 0.4709\n",
      "Epoch 21/100\n",
      "16/16 [==============================] - 0s 6ms/step - loss: 1.2196 - accuracy: 0.4769\n",
      "Epoch 22/100\n",
      "16/16 [==============================] - 0s 6ms/step - loss: 1.2002 - accuracy: 0.4890\n",
      "Epoch 23/100\n",
      "16/16 [==============================] - 0s 9ms/step - loss: 1.1207 - accuracy: 0.5000\n",
      "Epoch 24/100\n",
      "16/16 [==============================] - 0s 6ms/step - loss: 1.1389 - accuracy: 0.4769\n",
      "Epoch 25/100\n",
      "16/16 [==============================] - 0s 7ms/step - loss: 1.1019 - accuracy: 0.4849\n",
      "Epoch 26/100\n",
      "16/16 [==============================] - 0s 6ms/step - loss: 1.1489 - accuracy: 0.5060\n",
      "Epoch 27/100\n",
      "16/16 [==============================] - 0s 6ms/step - loss: 1.0434 - accuracy: 0.5171\n",
      "Epoch 28/100\n",
      "16/16 [==============================] - 0s 6ms/step - loss: 1.0220 - accuracy: 0.5161\n",
      "Epoch 29/100\n",
      "16/16 [==============================] - 0s 6ms/step - loss: 1.0676 - accuracy: 0.5110\n",
      "Epoch 30/100\n",
      "16/16 [==============================] - 0s 6ms/step - loss: 1.0288 - accuracy: 0.5271\n",
      "Epoch 31/100\n",
      "16/16 [==============================] - 0s 6ms/step - loss: 1.0198 - accuracy: 0.5241\n",
      "Epoch 32/100\n",
      "16/16 [==============================] - 0s 7ms/step - loss: 0.9595 - accuracy: 0.5351\n",
      "Epoch 33/100\n",
      "16/16 [==============================] - 0s 6ms/step - loss: 1.0359 - accuracy: 0.5241\n",
      "Epoch 34/100\n",
      "16/16 [==============================] - 0s 8ms/step - loss: 1.0075 - accuracy: 0.5191\n",
      "Epoch 35/100\n",
      "16/16 [==============================] - 0s 6ms/step - loss: 0.9847 - accuracy: 0.5452\n",
      "Epoch 36/100\n",
      "16/16 [==============================] - 0s 6ms/step - loss: 0.9546 - accuracy: 0.5542\n",
      "Epoch 37/100\n",
      "16/16 [==============================] - 0s 6ms/step - loss: 0.9783 - accuracy: 0.5462\n",
      "Epoch 38/100\n",
      "16/16 [==============================] - 0s 6ms/step - loss: 0.9229 - accuracy: 0.5472\n",
      "Epoch 39/100\n",
      "16/16 [==============================] - 0s 6ms/step - loss: 0.9572 - accuracy: 0.5522\n",
      "Epoch 40/100\n",
      "16/16 [==============================] - 0s 6ms/step - loss: 0.9428 - accuracy: 0.5331\n",
      "Epoch 41/100\n",
      "16/16 [==============================] - 0s 6ms/step - loss: 0.9425 - accuracy: 0.5612\n",
      "Epoch 42/100\n",
      "16/16 [==============================] - 0s 6ms/step - loss: 0.9205 - accuracy: 0.5713\n",
      "Epoch 43/100\n",
      "16/16 [==============================] - 0s 6ms/step - loss: 0.8906 - accuracy: 0.5382\n",
      "Epoch 44/100\n",
      "16/16 [==============================] - 0s 6ms/step - loss: 0.9239 - accuracy: 0.5643\n",
      "Epoch 45/100\n",
      "16/16 [==============================] - 0s 11ms/step - loss: 0.8903 - accuracy: 0.5673\n",
      "Epoch 46/100\n",
      "16/16 [==============================] - 0s 6ms/step - loss: 0.8768 - accuracy: 0.5773\n",
      "Epoch 47/100\n",
      "16/16 [==============================] - 0s 6ms/step - loss: 0.8971 - accuracy: 0.5773\n",
      "Epoch 48/100\n",
      "16/16 [==============================] - 0s 6ms/step - loss: 0.8650 - accuracy: 0.5673\n",
      "Epoch 49/100\n",
      "16/16 [==============================] - 0s 6ms/step - loss: 0.8557 - accuracy: 0.5683\n",
      "Epoch 50/100\n",
      "16/16 [==============================] - 0s 6ms/step - loss: 0.8293 - accuracy: 0.6215\n",
      "Epoch 51/100\n",
      "16/16 [==============================] - 0s 7ms/step - loss: 0.9067 - accuracy: 0.5723\n",
      "Epoch 52/100\n",
      "16/16 [==============================] - 0s 6ms/step - loss: 0.8300 - accuracy: 0.6094\n",
      "Epoch 53/100\n",
      "16/16 [==============================] - 0s 6ms/step - loss: 0.8238 - accuracy: 0.5904\n",
      "Epoch 54/100\n",
      "16/16 [==============================] - 0s 6ms/step - loss: 0.8439 - accuracy: 0.6004\n",
      "Epoch 55/100\n",
      "16/16 [==============================] - 0s 9ms/step - loss: 0.8410 - accuracy: 0.5924\n",
      "Epoch 56/100\n",
      "16/16 [==============================] - 0s 7ms/step - loss: 0.8002 - accuracy: 0.6275\n",
      "Epoch 57/100\n",
      "16/16 [==============================] - 0s 6ms/step - loss: 0.7831 - accuracy: 0.6416\n",
      "Epoch 58/100\n",
      "16/16 [==============================] - 0s 6ms/step - loss: 0.7814 - accuracy: 0.6245\n",
      "Epoch 59/100\n",
      "16/16 [==============================] - 0s 7ms/step - loss: 0.8002 - accuracy: 0.6657\n",
      "Epoch 60/100\n",
      "16/16 [==============================] - 0s 7ms/step - loss: 0.7825 - accuracy: 0.6255\n",
      "Epoch 61/100\n",
      "16/16 [==============================] - 0s 6ms/step - loss: 0.7843 - accuracy: 0.6376\n",
      "Epoch 62/100\n",
      "16/16 [==============================] - 0s 6ms/step - loss: 0.7994 - accuracy: 0.6275\n",
      "Epoch 63/100\n",
      "16/16 [==============================] - 0s 7ms/step - loss: 0.7636 - accuracy: 0.6546\n",
      "Epoch 64/100\n",
      "16/16 [==============================] - 0s 6ms/step - loss: 0.7436 - accuracy: 0.6486\n",
      "Epoch 65/100\n",
      "16/16 [==============================] - 0s 7ms/step - loss: 0.7683 - accuracy: 0.6516\n",
      "Epoch 66/100\n",
      "16/16 [==============================] - 0s 9ms/step - loss: 0.7318 - accuracy: 0.6637\n",
      "Epoch 67/100\n",
      "16/16 [==============================] - 0s 6ms/step - loss: 0.7740 - accuracy: 0.6345\n",
      "Epoch 68/100\n",
      "16/16 [==============================] - 0s 6ms/step - loss: 0.7236 - accuracy: 0.6817\n",
      "Epoch 69/100\n",
      "16/16 [==============================] - 0s 6ms/step - loss: 0.7002 - accuracy: 0.6857\n",
      "Epoch 70/100\n",
      "16/16 [==============================] - 0s 6ms/step - loss: 0.7306 - accuracy: 0.6627\n",
      "Epoch 71/100\n",
      "16/16 [==============================] - 0s 6ms/step - loss: 0.7244 - accuracy: 0.6767\n",
      "Epoch 72/100\n",
      "16/16 [==============================] - 0s 6ms/step - loss: 0.7096 - accuracy: 0.6908\n",
      "Epoch 73/100\n",
      "16/16 [==============================] - 0s 6ms/step - loss: 0.6683 - accuracy: 0.6968\n",
      "Epoch 74/100\n",
      "16/16 [==============================] - 0s 6ms/step - loss: 0.7274 - accuracy: 0.6757\n",
      "Epoch 75/100\n",
      "16/16 [==============================] - 0s 6ms/step - loss: 0.6816 - accuracy: 0.6837\n",
      "Epoch 76/100\n",
      "16/16 [==============================] - 0s 6ms/step - loss: 0.7068 - accuracy: 0.6797\n",
      "Epoch 77/100\n",
      "16/16 [==============================] - 0s 9ms/step - loss: 0.6645 - accuracy: 0.7018\n",
      "Epoch 78/100\n",
      "16/16 [==============================] - 0s 6ms/step - loss: 0.6983 - accuracy: 0.6988\n",
      "Epoch 79/100\n",
      "16/16 [==============================] - 0s 6ms/step - loss: 0.6631 - accuracy: 0.7068\n",
      "Epoch 80/100\n",
      "16/16 [==============================] - 0s 6ms/step - loss: 0.6757 - accuracy: 0.7169\n",
      "Epoch 81/100\n",
      "16/16 [==============================] - 0s 6ms/step - loss: 0.6927 - accuracy: 0.6757\n",
      "Epoch 82/100\n",
      "16/16 [==============================] - 0s 6ms/step - loss: 0.6657 - accuracy: 0.7088\n",
      "Epoch 83/100\n",
      "16/16 [==============================] - 0s 7ms/step - loss: 0.6492 - accuracy: 0.7129\n",
      "Epoch 84/100\n",
      "16/16 [==============================] - 0s 6ms/step - loss: 0.6249 - accuracy: 0.7149\n",
      "Epoch 85/100\n",
      "16/16 [==============================] - 0s 6ms/step - loss: 0.6364 - accuracy: 0.7229\n",
      "Epoch 86/100\n",
      "16/16 [==============================] - 0s 6ms/step - loss: 0.6504 - accuracy: 0.7149\n",
      "Epoch 87/100\n",
      "16/16 [==============================] - 0s 6ms/step - loss: 0.6200 - accuracy: 0.7239\n",
      "Epoch 88/100\n",
      "16/16 [==============================] - 0s 9ms/step - loss: 0.6519 - accuracy: 0.7269\n",
      "Epoch 89/100\n",
      "16/16 [==============================] - 0s 9ms/step - loss: 0.5961 - accuracy: 0.7440\n",
      "Epoch 90/100\n",
      "16/16 [==============================] - 0s 6ms/step - loss: 0.6419 - accuracy: 0.7199\n",
      "Epoch 91/100\n",
      "16/16 [==============================] - 0s 6ms/step - loss: 0.6026 - accuracy: 0.7229\n",
      "Epoch 92/100\n",
      "16/16 [==============================] - 0s 6ms/step - loss: 0.6032 - accuracy: 0.7279\n",
      "Epoch 93/100\n",
      "16/16 [==============================] - 0s 6ms/step - loss: 0.6106 - accuracy: 0.7450\n",
      "Epoch 94/100\n",
      "16/16 [==============================] - 0s 6ms/step - loss: 0.6190 - accuracy: 0.7098\n",
      "Epoch 95/100\n",
      "16/16 [==============================] - 0s 6ms/step - loss: 0.5773 - accuracy: 0.7500\n",
      "Epoch 96/100\n",
      "16/16 [==============================] - 0s 6ms/step - loss: 0.6159 - accuracy: 0.7510\n",
      "Epoch 97/100\n",
      "16/16 [==============================] - 0s 6ms/step - loss: 0.5810 - accuracy: 0.7349\n",
      "Epoch 98/100\n",
      "16/16 [==============================] - 0s 6ms/step - loss: 0.5671 - accuracy: 0.7530\n",
      "Epoch 99/100\n",
      "16/16 [==============================] - 0s 7ms/step - loss: 0.5842 - accuracy: 0.7269\n",
      "Epoch 100/100\n",
      "16/16 [==============================] - 0s 8ms/step - loss: 0.6021 - accuracy: 0.7590\n"
     ]
    },
    {
     "data": {
      "text/plain": "<Figure size 432x288 with 1 Axes>",
      "image/png": "[encoded data removed]"
     },
     "metadata": {
      "needs_background": "light"
     },
     "output_type": "display_data"
    },
    {
     "name": "stdout",
     "output_type": "stream",
     "text": [
      "7/7 [==============================] - 0s 5ms/step - loss: 0.4419 - accuracy: 0.8528\n",
      "Test accuracy =  0.8528037667274475\n",
      "14/14 [==============================] - 0s 2ms/step\n"
     ]
    },
    {
     "data": {
      "text/plain": "<Figure size 432x288 with 2 Axes>",
      "image/png": "[encoded data removed]"
     },
     "metadata": {
      "needs_background": "light"
     },
     "output_type": "display_data"
    }
   ],
   "source": [
    "experiment_1(feature_type=\"mfcc\", model_type=\"MLP\", original=True)"
   ]
  },
  {
   "cell_type": "markdown",
   "metadata": {
    "collapsed": false,
    "jupyter": {
     "outputs_hidden": false
    }
   },
   "source": [
    "## Original dataset/Yu embeddings/SVM"
   ]
  },
  {
   "cell_type": "code",
   "execution_count": 7,
   "metadata": {
    "collapsed": false,
    "jupyter": {
     "outputs_hidden": false
    },
    "ExecuteTime": {
     "end_time": "2023-11-29T12:20:38.577567400Z",
     "start_time": "2023-11-29T12:20:38.417838700Z"
    }
   },
   "outputs": [
    {
     "name": "stdout",
     "output_type": "stream",
     "text": [
      "Test accuracy = 0.5421\n"
     ]
    },
    {
     "data": {
      "text/plain": "<Figure size 432x288 with 2 Axes>",
      "image/png": "[encoded data removed]"
     },
     "metadata": {
      "needs_background": "light"
     },
     "output_type": "display_data"
    }
   ],
   "source": [
    "experiment_1(feature_type=\"yu\", model_type=\"SVM\", original=True)"
   ]
  },
  {
   "cell_type": "markdown",
   "metadata": {
    "collapsed": false,
    "jupyter": {
     "outputs_hidden": false
    }
   },
   "source": [
    "## Original dataset/Yu embeddings/MLP"
   ]
  },
  {
   "cell_type": "code",
   "execution_count": 8,
   "metadata": {
    "collapsed": false,
    "jupyter": {
     "outputs_hidden": false
    },
    "ExecuteTime": {
     "end_time": "2023-11-29T12:20:51.574127100Z",
     "start_time": "2023-11-29T12:20:38.581565900Z"
    }
   },
   "outputs": [
    {
     "name": "stdout",
     "output_type": "stream",
     "text": [
      "Epoch 1/100\n",
      "16/16 [==============================] - 1s 7ms/step - loss: 1.2997 - accuracy: 0.3363\n",
      "Epoch 2/100\n",
      "16/16 [==============================] - 0s 8ms/step - loss: 1.1604 - accuracy: 0.3865\n",
      "Epoch 3/100\n",
      "16/16 [==============================] - 0s 8ms/step - loss: 1.0446 - accuracy: 0.4598\n",
      "Epoch 4/100\n",
      "16/16 [==============================] - 0s 8ms/step - loss: 1.0296 - accuracy: 0.4799\n",
      "Epoch 5/100\n",
      "16/16 [==============================] - 0s 7ms/step - loss: 0.9848 - accuracy: 0.5050\n",
      "Epoch 6/100\n",
      "16/16 [==============================] - 0s 11ms/step - loss: 0.9934 - accuracy: 0.4920\n",
      "Epoch 7/100\n",
      "16/16 [==============================] - 0s 7ms/step - loss: 0.9751 - accuracy: 0.5181\n",
      "Epoch 8/100\n",
      "16/16 [==============================] - 0s 6ms/step - loss: 0.9706 - accuracy: 0.5231\n",
      "Epoch 9/100\n",
      "16/16 [==============================] - 0s 7ms/step - loss: 0.9259 - accuracy: 0.5422\n",
      "Epoch 10/100\n",
      "16/16 [==============================] - 0s 7ms/step - loss: 0.9336 - accuracy: 0.5351\n",
      "Epoch 11/100\n",
      "16/16 [==============================] - 0s 7ms/step - loss: 0.9395 - accuracy: 0.5602\n",
      "Epoch 12/100\n",
      "16/16 [==============================] - 0s 7ms/step - loss: 0.9060 - accuracy: 0.5713\n",
      "Epoch 13/100\n",
      "16/16 [==============================] - 0s 7ms/step - loss: 0.9220 - accuracy: 0.5402\n",
      "Epoch 14/100\n",
      "16/16 [==============================] - 0s 7ms/step - loss: 0.9014 - accuracy: 0.5622\n",
      "Epoch 15/100\n",
      "16/16 [==============================] - 0s 7ms/step - loss: 0.9087 - accuracy: 0.5482\n",
      "Epoch 16/100\n",
      "16/16 [==============================] - 0s 8ms/step - loss: 0.8976 - accuracy: 0.5653\n",
      "Epoch 17/100\n",
      "16/16 [==============================] - 0s 7ms/step - loss: 0.8955 - accuracy: 0.5622\n",
      "Epoch 18/100\n",
      "16/16 [==============================] - 0s 7ms/step - loss: 0.8830 - accuracy: 0.5884\n",
      "Epoch 19/100\n",
      "16/16 [==============================] - 0s 7ms/step - loss: 0.8882 - accuracy: 0.5793\n",
      "Epoch 20/100\n",
      "16/16 [==============================] - 0s 6ms/step - loss: 0.8849 - accuracy: 0.5743\n",
      "Epoch 21/100\n",
      "16/16 [==============================] - 0s 7ms/step - loss: 0.8715 - accuracy: 0.5833\n",
      "Epoch 22/100\n",
      "16/16 [==============================] - 0s 7ms/step - loss: 0.8689 - accuracy: 0.5843\n",
      "Epoch 23/100\n",
      "16/16 [==============================] - 0s 7ms/step - loss: 0.8869 - accuracy: 0.5884\n",
      "Epoch 24/100\n",
      "16/16 [==============================] - 0s 7ms/step - loss: 0.8766 - accuracy: 0.5552\n",
      "Epoch 25/100\n",
      "16/16 [==============================] - 0s 7ms/step - loss: 0.8951 - accuracy: 0.5763\n",
      "Epoch 26/100\n",
      "16/16 [==============================] - 0s 8ms/step - loss: 0.8736 - accuracy: 0.5934\n",
      "Epoch 27/100\n",
      "16/16 [==============================] - 0s 8ms/step - loss: 0.8749 - accuracy: 0.5723\n",
      "Epoch 28/100\n",
      "16/16 [==============================] - 0s 6ms/step - loss: 0.8689 - accuracy: 0.5934\n",
      "Epoch 29/100\n",
      "16/16 [==============================] - 0s 7ms/step - loss: 0.8715 - accuracy: 0.5773\n",
      "Epoch 30/100\n",
      "16/16 [==============================] - 0s 6ms/step - loss: 0.8716 - accuracy: 0.5733\n",
      "Epoch 31/100\n",
      "16/16 [==============================] - 0s 7ms/step - loss: 0.8852 - accuracy: 0.5733\n",
      "Epoch 32/100\n",
      "16/16 [==============================] - 0s 7ms/step - loss: 0.8635 - accuracy: 0.5914\n",
      "Epoch 33/100\n",
      "16/16 [==============================] - 0s 7ms/step - loss: 0.8591 - accuracy: 0.5994\n",
      "Epoch 34/100\n",
      "16/16 [==============================] - 0s 8ms/step - loss: 0.8693 - accuracy: 0.5823\n",
      "Epoch 35/100\n",
      "16/16 [==============================] - 0s 8ms/step - loss: 0.8648 - accuracy: 0.5924\n",
      "Epoch 36/100\n",
      "16/16 [==============================] - 0s 8ms/step - loss: 0.8621 - accuracy: 0.5853\n",
      "Epoch 37/100\n",
      "16/16 [==============================] - 0s 8ms/step - loss: 0.8591 - accuracy: 0.5863\n",
      "Epoch 38/100\n",
      "16/16 [==============================] - 0s 6ms/step - loss: 0.8684 - accuracy: 0.5974\n",
      "Epoch 39/100\n",
      "16/16 [==============================] - 0s 7ms/step - loss: 0.8707 - accuracy: 0.5763\n",
      "Epoch 40/100\n",
      "16/16 [==============================] - 0s 7ms/step - loss: 0.8510 - accuracy: 0.5894\n",
      "Epoch 41/100\n",
      "16/16 [==============================] - 0s 7ms/step - loss: 0.8525 - accuracy: 0.5914\n",
      "Epoch 42/100\n",
      "16/16 [==============================] - 0s 6ms/step - loss: 0.8628 - accuracy: 0.6044\n",
      "Epoch 43/100\n",
      "16/16 [==============================] - 0s 7ms/step - loss: 0.8481 - accuracy: 0.5974\n",
      "Epoch 44/100\n",
      "16/16 [==============================] - 0s 7ms/step - loss: 0.8725 - accuracy: 0.5823\n",
      "Epoch 45/100\n",
      "16/16 [==============================] - 0s 7ms/step - loss: 0.8534 - accuracy: 0.5954\n",
      "Epoch 46/100\n",
      "16/16 [==============================] - 0s 6ms/step - loss: 0.8437 - accuracy: 0.6024\n",
      "Epoch 47/100\n",
      "16/16 [==============================] - 0s 9ms/step - loss: 0.8587 - accuracy: 0.5793\n",
      "Epoch 48/100\n",
      "16/16 [==============================] - 0s 7ms/step - loss: 0.8541 - accuracy: 0.5974\n",
      "Epoch 49/100\n",
      "16/16 [==============================] - 0s 6ms/step - loss: 0.8343 - accuracy: 0.6155\n",
      "Epoch 50/100\n",
      "16/16 [==============================] - 0s 6ms/step - loss: 0.8456 - accuracy: 0.5994\n",
      "Epoch 51/100\n",
      "16/16 [==============================] - 0s 6ms/step - loss: 0.8588 - accuracy: 0.5833\n",
      "Epoch 52/100\n",
      "16/16 [==============================] - 0s 6ms/step - loss: 0.8489 - accuracy: 0.5924\n",
      "Epoch 53/100\n",
      "16/16 [==============================] - 0s 7ms/step - loss: 0.8497 - accuracy: 0.5964\n",
      "Epoch 54/100\n",
      "16/16 [==============================] - 0s 7ms/step - loss: 0.8423 - accuracy: 0.6064\n",
      "Epoch 55/100\n",
      "16/16 [==============================] - 0s 7ms/step - loss: 0.8379 - accuracy: 0.5974\n",
      "Epoch 56/100\n",
      "16/16 [==============================] - 0s 7ms/step - loss: 0.8423 - accuracy: 0.6064\n",
      "Epoch 57/100\n",
      "16/16 [==============================] - 0s 8ms/step - loss: 0.8483 - accuracy: 0.5944\n",
      "Epoch 58/100\n",
      "16/16 [==============================] - 0s 9ms/step - loss: 0.8432 - accuracy: 0.5914\n",
      "Epoch 59/100\n",
      "16/16 [==============================] - 0s 7ms/step - loss: 0.8392 - accuracy: 0.6034\n",
      "Epoch 60/100\n",
      "16/16 [==============================] - 0s 7ms/step - loss: 0.8551 - accuracy: 0.5853\n",
      "Epoch 61/100\n",
      "16/16 [==============================] - 0s 7ms/step - loss: 0.8438 - accuracy: 0.6044\n",
      "Epoch 62/100\n",
      "16/16 [==============================] - 0s 7ms/step - loss: 0.8366 - accuracy: 0.6014\n",
      "Epoch 63/100\n",
      "16/16 [==============================] - 0s 7ms/step - loss: 0.8512 - accuracy: 0.5934\n",
      "Epoch 64/100\n",
      "16/16 [==============================] - 0s 7ms/step - loss: 0.8479 - accuracy: 0.6074\n",
      "Epoch 65/100\n",
      "16/16 [==============================] - 0s 7ms/step - loss: 0.8495 - accuracy: 0.5984\n",
      "Epoch 66/100\n",
      "16/16 [==============================] - 0s 7ms/step - loss: 0.8503 - accuracy: 0.5863\n",
      "Epoch 67/100\n",
      "16/16 [==============================] - 0s 8ms/step - loss: 0.8332 - accuracy: 0.6004\n",
      "Epoch 68/100\n",
      "16/16 [==============================] - 0s 9ms/step - loss: 0.8419 - accuracy: 0.6114\n",
      "Epoch 69/100\n",
      "16/16 [==============================] - 0s 7ms/step - loss: 0.8361 - accuracy: 0.6104\n",
      "Epoch 70/100\n",
      "16/16 [==============================] - 0s 8ms/step - loss: 0.8544 - accuracy: 0.6014\n",
      "Epoch 71/100\n",
      "16/16 [==============================] - 0s 7ms/step - loss: 0.8306 - accuracy: 0.6054\n",
      "Epoch 72/100\n",
      "16/16 [==============================] - 0s 7ms/step - loss: 0.8486 - accuracy: 0.5934\n",
      "Epoch 73/100\n",
      "16/16 [==============================] - 0s 7ms/step - loss: 0.8246 - accuracy: 0.6094\n",
      "Epoch 74/100\n",
      "16/16 [==============================] - 0s 7ms/step - loss: 0.8419 - accuracy: 0.6124\n",
      "Epoch 75/100\n",
      "16/16 [==============================] - 0s 7ms/step - loss: 0.8425 - accuracy: 0.5964\n",
      "Epoch 76/100\n",
      "16/16 [==============================] - 0s 6ms/step - loss: 0.8384 - accuracy: 0.6044\n",
      "Epoch 77/100\n",
      "16/16 [==============================] - 0s 7ms/step - loss: 0.8377 - accuracy: 0.6054\n",
      "Epoch 78/100\n",
      "16/16 [==============================] - 0s 9ms/step - loss: 0.8362 - accuracy: 0.5974\n",
      "Epoch 79/100\n",
      "16/16 [==============================] - 0s 7ms/step - loss: 0.8332 - accuracy: 0.6054\n",
      "Epoch 80/100\n",
      "16/16 [==============================] - 0s 6ms/step - loss: 0.8365 - accuracy: 0.6004\n",
      "Epoch 81/100\n",
      "16/16 [==============================] - 0s 7ms/step - loss: 0.8344 - accuracy: 0.6094\n",
      "Epoch 82/100\n",
      "16/16 [==============================] - 0s 7ms/step - loss: 0.8250 - accuracy: 0.6155\n",
      "Epoch 83/100\n",
      "16/16 [==============================] - 0s 6ms/step - loss: 0.8317 - accuracy: 0.6235\n",
      "Epoch 84/100\n",
      "16/16 [==============================] - 0s 7ms/step - loss: 0.8229 - accuracy: 0.6225\n",
      "Epoch 85/100\n",
      "16/16 [==============================] - 0s 6ms/step - loss: 0.8297 - accuracy: 0.5944\n",
      "Epoch 86/100\n",
      "16/16 [==============================] - 0s 7ms/step - loss: 0.8386 - accuracy: 0.6044\n",
      "Epoch 87/100\n",
      "16/16 [==============================] - 0s 6ms/step - loss: 0.8386 - accuracy: 0.5954\n",
      "Epoch 88/100\n",
      "16/16 [==============================] - 0s 8ms/step - loss: 0.8357 - accuracy: 0.6004\n",
      "Epoch 89/100\n",
      "16/16 [==============================] - 0s 8ms/step - loss: 0.8260 - accuracy: 0.6004\n",
      "Epoch 90/100\n",
      "16/16 [==============================] - 0s 7ms/step - loss: 0.8314 - accuracy: 0.6175\n",
      "Epoch 91/100\n",
      "16/16 [==============================] - 0s 7ms/step - loss: 0.8384 - accuracy: 0.6004\n",
      "Epoch 92/100\n",
      "16/16 [==============================] - 0s 7ms/step - loss: 0.8230 - accuracy: 0.6145\n",
      "Epoch 93/100\n",
      "16/16 [==============================] - 0s 7ms/step - loss: 0.8371 - accuracy: 0.6104\n",
      "Epoch 94/100\n",
      "16/16 [==============================] - 0s 7ms/step - loss: 0.8321 - accuracy: 0.6074\n",
      "Epoch 95/100\n",
      "16/16 [==============================] - 0s 7ms/step - loss: 0.8267 - accuracy: 0.6034\n",
      "Epoch 96/100\n",
      "16/16 [==============================] - 0s 7ms/step - loss: 0.8398 - accuracy: 0.6004\n",
      "Epoch 97/100\n",
      "16/16 [==============================] - 0s 7ms/step - loss: 0.8209 - accuracy: 0.6345\n",
      "Epoch 98/100\n",
      "16/16 [==============================] - 0s 8ms/step - loss: 0.8288 - accuracy: 0.6135\n",
      "Epoch 99/100\n",
      "16/16 [==============================] - 0s 8ms/step - loss: 0.8237 - accuracy: 0.6225\n",
      "Epoch 100/100\n",
      "16/16 [==============================] - 0s 7ms/step - loss: 0.8353 - accuracy: 0.6094\n"
     ]
    },
    {
     "data": {
      "text/plain": "<Figure size 432x288 with 1 Axes>",
      "image/png": "[encoded data removed]"
     },
     "metadata": {
      "needs_background": "light"
     },
     "output_type": "display_data"
    },
    {
     "name": "stdout",
     "output_type": "stream",
     "text": [
      "7/7 [==============================] - 0s 6ms/step - loss: 0.9859 - accuracy: 0.5678\n",
      "Test accuracy =  0.5677570104598999\n",
      "14/14 [==============================] - 0s 2ms/step\n"
     ]
    },
    {
     "data": {
      "text/plain": "<Figure size 432x288 with 2 Axes>",
      "image/png": "[encoded data removed]"
     },
     "metadata": {
      "needs_background": "light"
     },
     "output_type": "display_data"
    }
   ],
   "source": [
    "experiment_1(feature_type=\"yu\", model_type=\"MLP\", original=True)"
   ]
  },
  {
   "cell_type": "markdown",
   "source": [
    "## Original dataset/Lexical-prosodic features/SVM\n"
   ],
   "metadata": {
    "collapsed": false
   }
  },
  {
   "cell_type": "code",
   "execution_count": 26,
   "outputs": [
    {
     "name": "stdout",
     "output_type": "stream",
     "text": [
      "Test accuracy = 0.5117\n"
     ]
    },
    {
     "data": {
      "text/plain": "<Figure size 432x288 with 2 Axes>",
      "image/png": "[encoded data removed]"
     },
     "metadata": {
      "needs_background": "light"
     },
     "output_type": "display_data"
    }
   ],
   "source": [
    "experiment_1(feature_type=\"lexical-prosodic\", model_type=\"SVM\", original=True)"
   ],
   "metadata": {
    "collapsed": false,
    "ExecuteTime": {
     "end_time": "2023-11-29T12:40:44.723049600Z",
     "start_time": "2023-11-29T12:40:44.496165400Z"
    }
   }
  },
  {
   "cell_type": "markdown",
   "source": [
    "## Original dataset/Lexical-prosodic features/MLP"
   ],
   "metadata": {
    "collapsed": false
   }
  },
  {
   "cell_type": "code",
   "execution_count": 9,
   "outputs": [
    {
     "name": "stdout",
     "output_type": "stream",
     "text": [
      "Epoch 1/100\n",
      "16/16 [==============================] - 1s 8ms/step - loss: 1.7162 - accuracy: 0.3404\n",
      "Epoch 2/100\n",
      "16/16 [==============================] - 0s 8ms/step - loss: 1.4215 - accuracy: 0.3534\n",
      "Epoch 3/100\n",
      "16/16 [==============================] - 0s 9ms/step - loss: 1.2777 - accuracy: 0.3665\n",
      "Epoch 4/100\n",
      "16/16 [==============================] - 0s 8ms/step - loss: 1.2948 - accuracy: 0.3745\n",
      "Epoch 5/100\n",
      "16/16 [==============================] - 0s 10ms/step - loss: 1.1901 - accuracy: 0.4026\n",
      "Epoch 6/100\n",
      "16/16 [==============================] - 0s 11ms/step - loss: 1.1240 - accuracy: 0.4157\n",
      "Epoch 7/100\n",
      "16/16 [==============================] - 0s 8ms/step - loss: 1.0982 - accuracy: 0.4307\n",
      "Epoch 8/100\n",
      "16/16 [==============================] - 0s 8ms/step - loss: 1.0888 - accuracy: 0.4528\n",
      "Epoch 9/100\n",
      "16/16 [==============================] - 0s 7ms/step - loss: 1.0859 - accuracy: 0.4578\n",
      "Epoch 10/100\n",
      "16/16 [==============================] - 0s 7ms/step - loss: 1.1120 - accuracy: 0.4669\n",
      "Epoch 11/100\n",
      "16/16 [==============================] - 0s 7ms/step - loss: 1.0280 - accuracy: 0.4739\n",
      "Epoch 12/100\n",
      "16/16 [==============================] - 0s 7ms/step - loss: 1.0198 - accuracy: 0.4618\n",
      "Epoch 13/100\n",
      "16/16 [==============================] - 0s 6ms/step - loss: 1.0256 - accuracy: 0.4839\n",
      "Epoch 14/100\n",
      "16/16 [==============================] - 0s 6ms/step - loss: 1.0130 - accuracy: 0.4749\n",
      "Epoch 15/100\n",
      "16/16 [==============================] - 0s 8ms/step - loss: 1.0423 - accuracy: 0.4749\n",
      "Epoch 16/100\n",
      "16/16 [==============================] - 0s 8ms/step - loss: 0.9750 - accuracy: 0.5080\n",
      "Epoch 17/100\n",
      "16/16 [==============================] - 0s 7ms/step - loss: 1.0144 - accuracy: 0.5090\n",
      "Epoch 18/100\n",
      "16/16 [==============================] - 0s 7ms/step - loss: 0.9572 - accuracy: 0.5100\n",
      "Epoch 19/100\n",
      "16/16 [==============================] - 0s 7ms/step - loss: 1.0118 - accuracy: 0.4990\n",
      "Epoch 20/100\n",
      "16/16 [==============================] - 0s 7ms/step - loss: 0.9614 - accuracy: 0.5131\n",
      "Epoch 21/100\n",
      "16/16 [==============================] - 0s 6ms/step - loss: 0.9549 - accuracy: 0.5351\n",
      "Epoch 22/100\n",
      "16/16 [==============================] - 0s 6ms/step - loss: 0.9512 - accuracy: 0.5161\n",
      "Epoch 23/100\n",
      "16/16 [==============================] - 0s 7ms/step - loss: 1.0062 - accuracy: 0.5311\n",
      "Epoch 24/100\n",
      "16/16 [==============================] - 0s 6ms/step - loss: 0.9557 - accuracy: 0.5080\n",
      "Epoch 25/100\n",
      "16/16 [==============================] - 0s 6ms/step - loss: 0.9480 - accuracy: 0.5221\n",
      "Epoch 26/100\n",
      "16/16 [==============================] - 0s 9ms/step - loss: 0.9373 - accuracy: 0.5412\n",
      "Epoch 27/100\n",
      "16/16 [==============================] - 0s 7ms/step - loss: 0.9998 - accuracy: 0.5291\n",
      "Epoch 28/100\n",
      "16/16 [==============================] - 0s 6ms/step - loss: 0.9323 - accuracy: 0.5221\n",
      "Epoch 29/100\n",
      "16/16 [==============================] - 0s 7ms/step - loss: 0.9483 - accuracy: 0.5231\n",
      "Epoch 30/100\n",
      "16/16 [==============================] - 0s 7ms/step - loss: 0.9461 - accuracy: 0.5211\n",
      "Epoch 31/100\n",
      "16/16 [==============================] - 0s 7ms/step - loss: 0.9650 - accuracy: 0.5191\n",
      "Epoch 32/100\n",
      "16/16 [==============================] - 0s 7ms/step - loss: 0.9695 - accuracy: 0.5271\n",
      "Epoch 33/100\n",
      "16/16 [==============================] - 0s 7ms/step - loss: 0.9408 - accuracy: 0.5241\n",
      "Epoch 34/100\n",
      "16/16 [==============================] - 0s 7ms/step - loss: 0.9589 - accuracy: 0.5100\n",
      "Epoch 35/100\n",
      "16/16 [==============================] - 0s 7ms/step - loss: 0.9320 - accuracy: 0.5452\n",
      "Epoch 36/100\n",
      "16/16 [==============================] - 0s 9ms/step - loss: 0.9205 - accuracy: 0.5351\n",
      "Epoch 37/100\n",
      "16/16 [==============================] - 0s 7ms/step - loss: 0.9458 - accuracy: 0.5351\n",
      "Epoch 38/100\n",
      "16/16 [==============================] - 0s 7ms/step - loss: 0.9616 - accuracy: 0.5462\n",
      "Epoch 39/100\n",
      "16/16 [==============================] - 0s 7ms/step - loss: 0.9220 - accuracy: 0.5392\n",
      "Epoch 40/100\n",
      "16/16 [==============================] - 0s 7ms/step - loss: 0.9249 - accuracy: 0.5612\n",
      "Epoch 41/100\n",
      "16/16 [==============================] - 0s 8ms/step - loss: 0.9234 - accuracy: 0.5633\n",
      "Epoch 42/100\n",
      "16/16 [==============================] - 0s 7ms/step - loss: 0.9132 - accuracy: 0.5331\n",
      "Epoch 43/100\n",
      "16/16 [==============================] - 0s 7ms/step - loss: 0.9124 - accuracy: 0.5502\n",
      "Epoch 44/100\n",
      "16/16 [==============================] - 0s 6ms/step - loss: 0.9425 - accuracy: 0.5462\n",
      "Epoch 45/100\n",
      "16/16 [==============================] - 0s 6ms/step - loss: 0.9026 - accuracy: 0.5532\n",
      "Epoch 46/100\n",
      "16/16 [==============================] - 0s 10ms/step - loss: 0.9058 - accuracy: 0.5622\n",
      "Epoch 47/100\n",
      "16/16 [==============================] - 0s 7ms/step - loss: 0.9152 - accuracy: 0.5472\n",
      "Epoch 48/100\n",
      "16/16 [==============================] - 0s 7ms/step - loss: 0.9348 - accuracy: 0.5462\n",
      "Epoch 49/100\n",
      "16/16 [==============================] - 0s 7ms/step - loss: 0.9268 - accuracy: 0.5683\n",
      "Epoch 50/100\n",
      "16/16 [==============================] - 0s 7ms/step - loss: 0.9110 - accuracy: 0.5472\n",
      "Epoch 51/100\n",
      "16/16 [==============================] - 0s 7ms/step - loss: 0.9056 - accuracy: 0.5442\n",
      "Epoch 52/100\n",
      "16/16 [==============================] - 0s 8ms/step - loss: 0.9112 - accuracy: 0.5442\n",
      "Epoch 53/100\n",
      "16/16 [==============================] - 0s 7ms/step - loss: 0.8922 - accuracy: 0.5582\n",
      "Epoch 54/100\n",
      "16/16 [==============================] - 0s 7ms/step - loss: 0.9022 - accuracy: 0.5622\n",
      "Epoch 55/100\n",
      "16/16 [==============================] - 0s 7ms/step - loss: 0.9101 - accuracy: 0.5522\n",
      "Epoch 56/100\n",
      "16/16 [==============================] - 0s 9ms/step - loss: 0.8882 - accuracy: 0.5532\n",
      "Epoch 57/100\n",
      "16/16 [==============================] - 0s 6ms/step - loss: 0.9309 - accuracy: 0.5582\n",
      "Epoch 58/100\n",
      "16/16 [==============================] - 0s 7ms/step - loss: 0.9067 - accuracy: 0.5442\n",
      "Epoch 59/100\n",
      "16/16 [==============================] - 0s 7ms/step - loss: 0.9119 - accuracy: 0.5582\n",
      "Epoch 60/100\n",
      "16/16 [==============================] - 0s 7ms/step - loss: 0.9026 - accuracy: 0.5683\n",
      "Epoch 61/100\n",
      "16/16 [==============================] - 0s 7ms/step - loss: 0.9062 - accuracy: 0.5492\n",
      "Epoch 62/100\n",
      "16/16 [==============================] - 0s 7ms/step - loss: 0.8959 - accuracy: 0.5552\n",
      "Epoch 63/100\n",
      "16/16 [==============================] - 0s 7ms/step - loss: 0.8854 - accuracy: 0.5562\n",
      "Epoch 64/100\n",
      "16/16 [==============================] - 0s 7ms/step - loss: 0.8965 - accuracy: 0.5552\n",
      "Epoch 65/100\n",
      "16/16 [==============================] - 0s 7ms/step - loss: 0.8989 - accuracy: 0.5542\n",
      "Epoch 66/100\n",
      "16/16 [==============================] - 0s 10ms/step - loss: 0.8885 - accuracy: 0.5522\n",
      "Epoch 67/100\n",
      "16/16 [==============================] - 0s 7ms/step - loss: 0.8866 - accuracy: 0.5442\n",
      "Epoch 68/100\n",
      "16/16 [==============================] - 0s 6ms/step - loss: 0.9093 - accuracy: 0.5582\n",
      "Epoch 69/100\n",
      "16/16 [==============================] - 0s 7ms/step - loss: 0.8960 - accuracy: 0.5733\n",
      "Epoch 70/100\n",
      "16/16 [==============================] - 0s 6ms/step - loss: 0.9037 - accuracy: 0.5412\n",
      "Epoch 71/100\n",
      "16/16 [==============================] - 0s 7ms/step - loss: 0.9026 - accuracy: 0.5392\n",
      "Epoch 72/100\n",
      "16/16 [==============================] - 0s 7ms/step - loss: 0.8905 - accuracy: 0.5622\n",
      "Epoch 73/100\n",
      "16/16 [==============================] - 0s 7ms/step - loss: 0.9126 - accuracy: 0.5562\n",
      "Epoch 74/100\n",
      "16/16 [==============================] - 0s 7ms/step - loss: 0.8976 - accuracy: 0.5512\n",
      "Epoch 75/100\n",
      "16/16 [==============================] - 0s 7ms/step - loss: 0.8847 - accuracy: 0.5683\n",
      "Epoch 76/100\n",
      "16/16 [==============================] - 0s 10ms/step - loss: 0.8791 - accuracy: 0.5522\n",
      "Epoch 77/100\n",
      "16/16 [==============================] - 0s 8ms/step - loss: 0.8758 - accuracy: 0.5582\n",
      "Epoch 78/100\n",
      "16/16 [==============================] - 0s 6ms/step - loss: 0.8975 - accuracy: 0.5622\n",
      "Epoch 79/100\n",
      "16/16 [==============================] - 0s 7ms/step - loss: 0.8865 - accuracy: 0.5753\n",
      "Epoch 80/100\n",
      "16/16 [==============================] - 0s 7ms/step - loss: 0.8851 - accuracy: 0.5612\n",
      "Epoch 81/100\n",
      "16/16 [==============================] - 0s 7ms/step - loss: 0.8921 - accuracy: 0.5412\n",
      "Epoch 82/100\n",
      "16/16 [==============================] - 0s 6ms/step - loss: 0.8912 - accuracy: 0.5412\n",
      "Epoch 83/100\n",
      "16/16 [==============================] - 0s 6ms/step - loss: 0.8896 - accuracy: 0.5592\n",
      "Epoch 84/100\n",
      "16/16 [==============================] - 0s 6ms/step - loss: 0.8831 - accuracy: 0.5622\n",
      "Epoch 85/100\n",
      "16/16 [==============================] - 0s 6ms/step - loss: 0.9062 - accuracy: 0.5713\n",
      "Epoch 86/100\n",
      "16/16 [==============================] - 0s 8ms/step - loss: 0.8899 - accuracy: 0.5542\n",
      "Epoch 87/100\n",
      "16/16 [==============================] - 0s 8ms/step - loss: 0.8953 - accuracy: 0.5452\n",
      "Epoch 88/100\n",
      "16/16 [==============================] - 0s 7ms/step - loss: 0.8911 - accuracy: 0.5592\n",
      "Epoch 89/100\n",
      "16/16 [==============================] - 0s 7ms/step - loss: 0.8697 - accuracy: 0.5753\n",
      "Epoch 90/100\n",
      "16/16 [==============================] - 0s 7ms/step - loss: 0.9043 - accuracy: 0.5552\n",
      "Epoch 91/100\n",
      "16/16 [==============================] - 0s 7ms/step - loss: 0.8866 - accuracy: 0.5462\n",
      "Epoch 92/100\n",
      "16/16 [==============================] - 0s 6ms/step - loss: 0.8825 - accuracy: 0.5683\n",
      "Epoch 93/100\n",
      "16/16 [==============================] - 0s 7ms/step - loss: 0.8853 - accuracy: 0.5562\n",
      "Epoch 94/100\n",
      "16/16 [==============================] - 0s 6ms/step - loss: 0.8791 - accuracy: 0.5572\n",
      "Epoch 95/100\n",
      "16/16 [==============================] - 0s 7ms/step - loss: 0.8863 - accuracy: 0.5793\n",
      "Epoch 96/100\n",
      "16/16 [==============================] - 0s 6ms/step - loss: 0.8749 - accuracy: 0.5562\n",
      "Epoch 97/100\n",
      "16/16 [==============================] - 0s 10ms/step - loss: 0.8916 - accuracy: 0.5663\n",
      "Epoch 98/100\n",
      "16/16 [==============================] - 0s 7ms/step - loss: 0.8477 - accuracy: 0.5853\n",
      "Epoch 99/100\n",
      "16/16 [==============================] - 0s 7ms/step - loss: 0.8755 - accuracy: 0.5673\n",
      "Epoch 100/100\n",
      "16/16 [==============================] - 0s 6ms/step - loss: 0.8769 - accuracy: 0.5703\n"
     ]
    },
    {
     "data": {
      "text/plain": "<Figure size 432x288 with 1 Axes>",
      "image/png": "[encoded data removed]"
     },
     "metadata": {
      "needs_background": "light"
     },
     "output_type": "display_data"
    },
    {
     "name": "stdout",
     "output_type": "stream",
     "text": [
      "7/7 [==============================] - 0s 6ms/step - loss: 0.9300 - accuracy: 0.5023\n",
      "Test accuracy =  0.5023364424705505\n",
      "14/14 [==============================] - 0s 2ms/step\n"
     ]
    },
    {
     "data": {
      "text/plain": "<Figure size 432x288 with 2 Axes>",
      "image/png": "[encoded data removed]"
     },
     "metadata": {
      "needs_background": "light"
     },
     "output_type": "display_data"
    }
   ],
   "source": [
    "experiment_1(feature_type=\"lexical-prosodic\", model_type=\"MLP\", original=True)"
   ],
   "metadata": {
    "collapsed": false,
    "ExecuteTime": {
     "end_time": "2023-11-29T12:21:04.815815100Z",
     "start_time": "2023-11-29T12:20:51.577321600Z"
    }
   }
  },
  {
   "cell_type": "markdown",
   "source": [
    "## Modified dataset/MFCC/SVM"
   ],
   "metadata": {
    "collapsed": false
   }
  },
  {
   "cell_type": "code",
   "execution_count": 10,
   "outputs": [
    {
     "name": "stdout",
     "output_type": "stream",
     "text": [
      "Test accuracy = 0.9252\n"
     ]
    },
    {
     "data": {
      "text/plain": "<Figure size 432x288 with 2 Axes>",
      "image/png": "[encoded data removed]"
     },
     "metadata": {
      "needs_background": "light"
     },
     "output_type": "display_data"
    }
   ],
   "source": [
    "experiment_1(feature_type=\"mfcc\", model_type=\"SVM\", original=False)"
   ],
   "metadata": {
    "collapsed": false,
    "ExecuteTime": {
     "end_time": "2023-11-29T12:21:05.090949Z",
     "start_time": "2023-11-29T12:21:04.820414700Z"
    }
   }
  },
  {
   "cell_type": "markdown",
   "source": [
    "## Modified dataset/MFCC/MLP"
   ],
   "metadata": {
    "collapsed": false
   }
  },
  {
   "cell_type": "code",
   "execution_count": 11,
   "outputs": [
    {
     "name": "stdout",
     "output_type": "stream",
     "text": [
      "Epoch 1/100\n",
      "16/16 [==============================] - 1s 8ms/step - loss: 51.6751 - accuracy: 0.3353\n",
      "Epoch 2/100\n",
      "16/16 [==============================] - 0s 8ms/step - loss: 29.7069 - accuracy: 0.3775\n",
      "Epoch 3/100\n",
      "16/16 [==============================] - 0s 9ms/step - loss: 19.9311 - accuracy: 0.4026\n",
      "Epoch 4/100\n",
      "16/16 [==============================] - 0s 10ms/step - loss: 15.7424 - accuracy: 0.3665\n",
      "Epoch 5/100\n",
      "16/16 [==============================] - 0s 7ms/step - loss: 11.8415 - accuracy: 0.4026\n",
      "Epoch 6/100\n",
      "16/16 [==============================] - 0s 8ms/step - loss: 9.3079 - accuracy: 0.4116\n",
      "Epoch 7/100\n",
      "16/16 [==============================] - 0s 7ms/step - loss: 6.6397 - accuracy: 0.4498\n",
      "Epoch 8/100\n",
      "16/16 [==============================] - 0s 6ms/step - loss: 5.5501 - accuracy: 0.4237\n",
      "Epoch 9/100\n",
      "16/16 [==============================] - 0s 6ms/step - loss: 4.4473 - accuracy: 0.4247\n",
      "Epoch 10/100\n",
      "16/16 [==============================] - 0s 6ms/step - loss: 3.6175 - accuracy: 0.4378\n",
      "Epoch 11/100\n",
      "16/16 [==============================] - 0s 7ms/step - loss: 3.0074 - accuracy: 0.4588\n",
      "Epoch 12/100\n",
      "16/16 [==============================] - 0s 6ms/step - loss: 2.3724 - accuracy: 0.4558\n",
      "Epoch 13/100\n",
      "16/16 [==============================] - 0s 8ms/step - loss: 2.2342 - accuracy: 0.4719\n",
      "Epoch 14/100\n",
      "16/16 [==============================] - 0s 9ms/step - loss: 2.0272 - accuracy: 0.4588\n",
      "Epoch 15/100\n",
      "16/16 [==============================] - 0s 7ms/step - loss: 1.7654 - accuracy: 0.4418\n",
      "Epoch 16/100\n",
      "16/16 [==============================] - 0s 7ms/step - loss: 1.6026 - accuracy: 0.4880\n",
      "Epoch 17/100\n",
      "16/16 [==============================] - 0s 7ms/step - loss: 1.5441 - accuracy: 0.4849\n",
      "Epoch 18/100\n",
      "16/16 [==============================] - 0s 7ms/step - loss: 1.4213 - accuracy: 0.4679\n",
      "Epoch 19/100\n",
      "16/16 [==============================] - 0s 7ms/step - loss: 1.3722 - accuracy: 0.4699\n",
      "Epoch 20/100\n",
      "16/16 [==============================] - 0s 7ms/step - loss: 1.2633 - accuracy: 0.4950\n",
      "Epoch 21/100\n",
      "16/16 [==============================] - 0s 6ms/step - loss: 1.2337 - accuracy: 0.4940\n",
      "Epoch 22/100\n",
      "16/16 [==============================] - 0s 6ms/step - loss: 1.1897 - accuracy: 0.4970\n",
      "Epoch 23/100\n",
      "16/16 [==============================] - 0s 8ms/step - loss: 1.1915 - accuracy: 0.4869\n",
      "Epoch 24/100\n",
      "16/16 [==============================] - 0s 9ms/step - loss: 1.1394 - accuracy: 0.5070\n",
      "Epoch 25/100\n",
      "16/16 [==============================] - 0s 7ms/step - loss: 1.1503 - accuracy: 0.5010\n",
      "Epoch 26/100\n",
      "16/16 [==============================] - 0s 6ms/step - loss: 1.1207 - accuracy: 0.4940\n",
      "Epoch 27/100\n",
      "16/16 [==============================] - 0s 7ms/step - loss: 1.1455 - accuracy: 0.5201\n",
      "Epoch 28/100\n",
      "16/16 [==============================] - 0s 7ms/step - loss: 1.1083 - accuracy: 0.5090\n",
      "Epoch 29/100\n",
      "16/16 [==============================] - 0s 7ms/step - loss: 1.0216 - accuracy: 0.5080\n",
      "Epoch 30/100\n",
      "16/16 [==============================] - 0s 7ms/step - loss: 1.0261 - accuracy: 0.5191\n",
      "Epoch 31/100\n",
      "16/16 [==============================] - 0s 8ms/step - loss: 1.0035 - accuracy: 0.5181\n",
      "Epoch 32/100\n",
      "16/16 [==============================] - 0s 7ms/step - loss: 1.0266 - accuracy: 0.5171\n",
      "Epoch 33/100\n",
      "16/16 [==============================] - 0s 8ms/step - loss: 1.0837 - accuracy: 0.5080\n",
      "Epoch 34/100\n",
      "16/16 [==============================] - 0s 9ms/step - loss: 1.0099 - accuracy: 0.5191\n",
      "Epoch 35/100\n",
      "16/16 [==============================] - 0s 7ms/step - loss: 0.9978 - accuracy: 0.5161\n",
      "Epoch 36/100\n",
      "16/16 [==============================] - 0s 8ms/step - loss: 0.9627 - accuracy: 0.5452\n",
      "Epoch 37/100\n",
      "16/16 [==============================] - 0s 9ms/step - loss: 0.9629 - accuracy: 0.5291\n",
      "Epoch 38/100\n",
      "16/16 [==============================] - 0s 9ms/step - loss: 0.9625 - accuracy: 0.5512\n",
      "Epoch 39/100\n",
      "16/16 [==============================] - 0s 8ms/step - loss: 0.9143 - accuracy: 0.5382\n",
      "Epoch 40/100\n",
      "16/16 [==============================] - 0s 7ms/step - loss: 0.9566 - accuracy: 0.5331\n",
      "Epoch 41/100\n",
      "16/16 [==============================] - 0s 8ms/step - loss: 0.9567 - accuracy: 0.5351\n",
      "Epoch 42/100\n",
      "16/16 [==============================] - 0s 7ms/step - loss: 0.9648 - accuracy: 0.5452\n",
      "Epoch 43/100\n",
      "16/16 [==============================] - 0s 9ms/step - loss: 0.9084 - accuracy: 0.5562\n",
      "Epoch 44/100\n",
      "16/16 [==============================] - 0s 7ms/step - loss: 0.9111 - accuracy: 0.5532\n",
      "Epoch 45/100\n",
      "16/16 [==============================] - 0s 7ms/step - loss: 0.8978 - accuracy: 0.5753\n",
      "Epoch 46/100\n",
      "16/16 [==============================] - 0s 7ms/step - loss: 0.8787 - accuracy: 0.5823\n",
      "Epoch 47/100\n",
      "16/16 [==============================] - 0s 6ms/step - loss: 0.8838 - accuracy: 0.5733\n",
      "Epoch 48/100\n",
      "16/16 [==============================] - 0s 7ms/step - loss: 0.8675 - accuracy: 0.5773\n",
      "Epoch 49/100\n",
      "16/16 [==============================] - 0s 7ms/step - loss: 0.9165 - accuracy: 0.5622\n",
      "Epoch 50/100\n",
      "16/16 [==============================] - 0s 7ms/step - loss: 0.9429 - accuracy: 0.5643\n",
      "Epoch 51/100\n",
      "16/16 [==============================] - 0s 6ms/step - loss: 0.8849 - accuracy: 0.5472\n",
      "Epoch 52/100\n",
      "16/16 [==============================] - 0s 7ms/step - loss: 0.8832 - accuracy: 0.5773\n",
      "Epoch 53/100\n",
      "16/16 [==============================] - 0s 10ms/step - loss: 0.8559 - accuracy: 0.5813\n",
      "Epoch 54/100\n",
      "16/16 [==============================] - 0s 7ms/step - loss: 0.8745 - accuracy: 0.5924\n",
      "Epoch 55/100\n",
      "16/16 [==============================] - 0s 6ms/step - loss: 0.8574 - accuracy: 0.5924\n",
      "Epoch 56/100\n",
      "16/16 [==============================] - 0s 7ms/step - loss: 0.8334 - accuracy: 0.5653\n",
      "Epoch 57/100\n",
      "16/16 [==============================] - 0s 7ms/step - loss: 0.8354 - accuracy: 0.5964\n",
      "Epoch 58/100\n",
      "16/16 [==============================] - 0s 6ms/step - loss: 0.8668 - accuracy: 0.5954\n",
      "Epoch 59/100\n",
      "16/16 [==============================] - 0s 7ms/step - loss: 0.8163 - accuracy: 0.5994\n",
      "Epoch 60/100\n",
      "16/16 [==============================] - 0s 7ms/step - loss: 0.8342 - accuracy: 0.6094\n",
      "Epoch 61/100\n",
      "16/16 [==============================] - 0s 7ms/step - loss: 0.8232 - accuracy: 0.6064\n",
      "Epoch 62/100\n",
      "16/16 [==============================] - 0s 7ms/step - loss: 0.7992 - accuracy: 0.6295\n",
      "Epoch 63/100\n",
      "16/16 [==============================] - 0s 8ms/step - loss: 0.8069 - accuracy: 0.6165\n",
      "Epoch 64/100\n",
      "16/16 [==============================] - 0s 8ms/step - loss: 0.7860 - accuracy: 0.6295\n",
      "Epoch 65/100\n",
      "16/16 [==============================] - 0s 7ms/step - loss: 0.7954 - accuracy: 0.6205\n",
      "Epoch 66/100\n",
      "16/16 [==============================] - 0s 7ms/step - loss: 0.8082 - accuracy: 0.6155\n",
      "Epoch 67/100\n",
      "16/16 [==============================] - 0s 7ms/step - loss: 0.7887 - accuracy: 0.6325\n",
      "Epoch 68/100\n",
      "16/16 [==============================] - 0s 7ms/step - loss: 0.7869 - accuracy: 0.6275\n",
      "Epoch 69/100\n",
      "16/16 [==============================] - 0s 7ms/step - loss: 0.7546 - accuracy: 0.6436\n",
      "Epoch 70/100\n",
      "16/16 [==============================] - 0s 7ms/step - loss: 0.7714 - accuracy: 0.6446\n",
      "Epoch 71/100\n",
      "16/16 [==============================] - 0s 7ms/step - loss: 0.8059 - accuracy: 0.6305\n",
      "Epoch 72/100\n",
      "16/16 [==============================] - 0s 7ms/step - loss: 0.7550 - accuracy: 0.6426\n",
      "Epoch 73/100\n",
      "16/16 [==============================] - 0s 8ms/step - loss: 0.7645 - accuracy: 0.6406\n",
      "Epoch 74/100\n",
      "16/16 [==============================] - 0s 8ms/step - loss: 0.7508 - accuracy: 0.6627\n",
      "Epoch 75/100\n",
      "16/16 [==============================] - 0s 7ms/step - loss: 0.7433 - accuracy: 0.6566\n",
      "Epoch 76/100\n",
      "16/16 [==============================] - 0s 7ms/step - loss: 0.7082 - accuracy: 0.6697\n",
      "Epoch 77/100\n",
      "16/16 [==============================] - 0s 7ms/step - loss: 0.7433 - accuracy: 0.6406\n",
      "Epoch 78/100\n",
      "16/16 [==============================] - 0s 7ms/step - loss: 0.7300 - accuracy: 0.6697\n",
      "Epoch 79/100\n",
      "16/16 [==============================] - 0s 6ms/step - loss: 0.7191 - accuracy: 0.6777\n",
      "Epoch 80/100\n",
      "16/16 [==============================] - 0s 6ms/step - loss: 0.7546 - accuracy: 0.6667\n",
      "Epoch 81/100\n",
      "16/16 [==============================] - 0s 6ms/step - loss: 0.7185 - accuracy: 0.6727\n",
      "Epoch 82/100\n",
      "16/16 [==============================] - 0s 7ms/step - loss: 0.7016 - accuracy: 0.6667\n",
      "Epoch 83/100\n",
      "16/16 [==============================] - 0s 6ms/step - loss: 0.6777 - accuracy: 0.6837\n",
      "Epoch 84/100\n",
      "16/16 [==============================] - 0s 10ms/step - loss: 0.7045 - accuracy: 0.6737\n",
      "Epoch 85/100\n",
      "16/16 [==============================] - 0s 7ms/step - loss: 0.6961 - accuracy: 0.6536\n",
      "Epoch 86/100\n",
      "16/16 [==============================] - 0s 7ms/step - loss: 0.6999 - accuracy: 0.6737\n",
      "Epoch 87/100\n",
      "16/16 [==============================] - 0s 6ms/step - loss: 0.7252 - accuracy: 0.6647\n",
      "Epoch 88/100\n",
      "16/16 [==============================] - 0s 7ms/step - loss: 0.6824 - accuracy: 0.6777\n",
      "Epoch 89/100\n",
      "16/16 [==============================] - 0s 7ms/step - loss: 0.6699 - accuracy: 0.6978\n",
      "Epoch 90/100\n",
      "16/16 [==============================] - 0s 7ms/step - loss: 0.6997 - accuracy: 0.6918\n",
      "Epoch 91/100\n",
      "16/16 [==============================] - 0s 7ms/step - loss: 0.6850 - accuracy: 0.7108\n",
      "Epoch 92/100\n",
      "16/16 [==============================] - 0s 7ms/step - loss: 0.6432 - accuracy: 0.7108\n",
      "Epoch 93/100\n",
      "16/16 [==============================] - 0s 7ms/step - loss: 0.6714 - accuracy: 0.6928\n",
      "Epoch 94/100\n",
      "16/16 [==============================] - 0s 8ms/step - loss: 0.7025 - accuracy: 0.7088\n",
      "Epoch 95/100\n",
      "16/16 [==============================] - 0s 8ms/step - loss: 0.6953 - accuracy: 0.6998\n",
      "Epoch 96/100\n",
      "16/16 [==============================] - 0s 7ms/step - loss: 0.6370 - accuracy: 0.7229\n",
      "Epoch 97/100\n",
      "16/16 [==============================] - 0s 7ms/step - loss: 0.6440 - accuracy: 0.7068\n",
      "Epoch 98/100\n",
      "16/16 [==============================] - 0s 6ms/step - loss: 0.6616 - accuracy: 0.7058\n",
      "Epoch 99/100\n",
      "16/16 [==============================] - 0s 7ms/step - loss: 0.6543 - accuracy: 0.7159\n",
      "Epoch 100/100\n",
      "16/16 [==============================] - 0s 7ms/step - loss: 0.6642 - accuracy: 0.7018\n"
     ]
    },
    {
     "data": {
      "text/plain": "<Figure size 432x288 with 1 Axes>",
      "image/png": "[encoded data removed]"
     },
     "metadata": {
      "needs_background": "light"
     },
     "output_type": "display_data"
    },
    {
     "name": "stdout",
     "output_type": "stream",
     "text": [
      "7/7 [==============================] - 0s 6ms/step - loss: 0.5254 - accuracy: 0.8154\n",
      "Test accuracy =  0.8154205679893494\n",
      "14/14 [==============================] - 0s 1ms/step\n"
     ]
    },
    {
     "data": {
      "text/plain": "<Figure size 432x288 with 2 Axes>",
      "image/png": "[encoded data removed]"
     },
     "metadata": {
      "needs_background": "light"
     },
     "output_type": "display_data"
    }
   ],
   "source": [
    "experiment_1(feature_type=\"mfcc\", model_type=\"MLP\", original=False)"
   ],
   "metadata": {
    "collapsed": false,
    "ExecuteTime": {
     "end_time": "2023-11-29T12:21:18.285750500Z",
     "start_time": "2023-11-29T12:21:05.057408700Z"
    }
   }
  },
  {
   "cell_type": "markdown",
   "source": [
    "## Modified dataset/Yu features/SVM"
   ],
   "metadata": {
    "collapsed": false
   }
  },
  {
   "cell_type": "code",
   "execution_count": 12,
   "outputs": [
    {
     "name": "stdout",
     "output_type": "stream",
     "text": [
      "Test accuracy = 0.5421\n"
     ]
    },
    {
     "data": {
      "text/plain": "<Figure size 432x288 with 2 Axes>",
      "image/png": "[encoded data removed]"
     },
     "metadata": {
      "needs_background": "light"
     },
     "output_type": "display_data"
    }
   ],
   "source": [
    "experiment_1(feature_type=\"yu\", model_type=\"SVM\", original=False)"
   ],
   "metadata": {
    "collapsed": false,
    "ExecuteTime": {
     "end_time": "2023-11-29T12:21:18.540327300Z",
     "start_time": "2023-11-29T12:21:18.276723800Z"
    }
   }
  },
  {
   "cell_type": "markdown",
   "source": [
    "## Modified dataset/Yu features/MLP"
   ],
   "metadata": {
    "collapsed": false
   }
  },
  {
   "cell_type": "code",
   "execution_count": 13,
   "outputs": [
    {
     "name": "stdout",
     "output_type": "stream",
     "text": [
      "Epoch 1/100\n",
      "16/16 [==============================] - 1s 8ms/step - loss: 1.3088 - accuracy: 0.3755\n",
      "Epoch 2/100\n",
      "16/16 [==============================] - 0s 8ms/step - loss: 1.1226 - accuracy: 0.4197\n",
      "Epoch 3/100\n",
      "16/16 [==============================] - 0s 8ms/step - loss: 1.0698 - accuracy: 0.4578\n",
      "Epoch 4/100\n",
      "16/16 [==============================] - 0s 7ms/step - loss: 1.0519 - accuracy: 0.4799\n",
      "Epoch 5/100\n",
      "16/16 [==============================] - 0s 8ms/step - loss: 1.0620 - accuracy: 0.4639\n",
      "Epoch 6/100\n",
      "16/16 [==============================] - 0s 7ms/step - loss: 0.9929 - accuracy: 0.5000\n",
      "Epoch 7/100\n",
      "16/16 [==============================] - 0s 7ms/step - loss: 0.9911 - accuracy: 0.5191\n",
      "Epoch 8/100\n",
      "16/16 [==============================] - 0s 9ms/step - loss: 0.9615 - accuracy: 0.5221\n",
      "Epoch 9/100\n",
      "16/16 [==============================] - 0s 7ms/step - loss: 0.9702 - accuracy: 0.5211\n",
      "Epoch 10/100\n",
      "16/16 [==============================] - 0s 7ms/step - loss: 0.9626 - accuracy: 0.5151\n",
      "Epoch 11/100\n",
      "16/16 [==============================] - 0s 6ms/step - loss: 0.9405 - accuracy: 0.5361\n",
      "Epoch 12/100\n",
      "16/16 [==============================] - 0s 6ms/step - loss: 0.9404 - accuracy: 0.5291\n",
      "Epoch 13/100\n",
      "16/16 [==============================] - 0s 6ms/step - loss: 0.9472 - accuracy: 0.5291\n",
      "Epoch 14/100\n",
      "16/16 [==============================] - 0s 7ms/step - loss: 0.9362 - accuracy: 0.5542\n",
      "Epoch 15/100\n",
      "16/16 [==============================] - 0s 6ms/step - loss: 0.9375 - accuracy: 0.5633\n",
      "Epoch 16/100\n",
      "16/16 [==============================] - 0s 6ms/step - loss: 0.9286 - accuracy: 0.5492\n",
      "Epoch 17/100\n",
      "16/16 [==============================] - 0s 6ms/step - loss: 0.9238 - accuracy: 0.5301\n",
      "Epoch 18/100\n",
      "16/16 [==============================] - 0s 7ms/step - loss: 0.9257 - accuracy: 0.5602\n",
      "Epoch 19/100\n",
      "16/16 [==============================] - 0s 9ms/step - loss: 0.9181 - accuracy: 0.5612\n",
      "Epoch 20/100\n",
      "16/16 [==============================] - 0s 7ms/step - loss: 0.9254 - accuracy: 0.5673\n",
      "Epoch 21/100\n",
      "16/16 [==============================] - 0s 6ms/step - loss: 0.9133 - accuracy: 0.5653\n",
      "Epoch 22/100\n",
      "16/16 [==============================] - 0s 6ms/step - loss: 0.8884 - accuracy: 0.5612\n",
      "Epoch 23/100\n",
      "16/16 [==============================] - 0s 7ms/step - loss: 0.8972 - accuracy: 0.5643\n",
      "Epoch 24/100\n",
      "16/16 [==============================] - 0s 6ms/step - loss: 0.9112 - accuracy: 0.5643\n",
      "Epoch 25/100\n",
      "16/16 [==============================] - 0s 7ms/step - loss: 0.9095 - accuracy: 0.5653\n",
      "Epoch 26/100\n",
      "16/16 [==============================] - 0s 7ms/step - loss: 0.9192 - accuracy: 0.5633\n",
      "Epoch 27/100\n",
      "16/16 [==============================] - 0s 7ms/step - loss: 0.9271 - accuracy: 0.5733\n",
      "Epoch 28/100\n",
      "16/16 [==============================] - 0s 6ms/step - loss: 0.9087 - accuracy: 0.5552\n",
      "Epoch 29/100\n",
      "16/16 [==============================] - 0s 9ms/step - loss: 0.9065 - accuracy: 0.5442\n",
      "Epoch 30/100\n",
      "16/16 [==============================] - 0s 6ms/step - loss: 0.8924 - accuracy: 0.5703\n",
      "Epoch 31/100\n",
      "16/16 [==============================] - 0s 6ms/step - loss: 0.8967 - accuracy: 0.5793\n",
      "Epoch 32/100\n",
      "16/16 [==============================] - 0s 6ms/step - loss: 0.8904 - accuracy: 0.5663\n",
      "Epoch 33/100\n",
      "16/16 [==============================] - 0s 7ms/step - loss: 0.9062 - accuracy: 0.5743\n",
      "Epoch 34/100\n",
      "16/16 [==============================] - 0s 7ms/step - loss: 0.8972 - accuracy: 0.5713\n",
      "Epoch 35/100\n",
      "16/16 [==============================] - 0s 7ms/step - loss: 0.8824 - accuracy: 0.5733\n",
      "Epoch 36/100\n",
      "16/16 [==============================] - 0s 6ms/step - loss: 0.8970 - accuracy: 0.5673\n",
      "Epoch 37/100\n",
      "16/16 [==============================] - 0s 7ms/step - loss: 0.8844 - accuracy: 0.5823\n",
      "Epoch 38/100\n",
      "16/16 [==============================] - 0s 7ms/step - loss: 0.8934 - accuracy: 0.5703\n",
      "Epoch 39/100\n",
      "16/16 [==============================] - 0s 8ms/step - loss: 0.9125 - accuracy: 0.5482\n",
      "Epoch 40/100\n",
      "16/16 [==============================] - 0s 9ms/step - loss: 0.8953 - accuracy: 0.5713\n",
      "Epoch 41/100\n",
      "16/16 [==============================] - 0s 7ms/step - loss: 0.8753 - accuracy: 0.5803\n",
      "Epoch 42/100\n",
      "16/16 [==============================] - 0s 7ms/step - loss: 0.8868 - accuracy: 0.5713\n",
      "Epoch 43/100\n",
      "16/16 [==============================] - 0s 7ms/step - loss: 0.8839 - accuracy: 0.5582\n",
      "Epoch 44/100\n",
      "16/16 [==============================] - 0s 7ms/step - loss: 0.8761 - accuracy: 0.5823\n",
      "Epoch 45/100\n",
      "16/16 [==============================] - 0s 7ms/step - loss: 0.8844 - accuracy: 0.5813\n",
      "Epoch 46/100\n",
      "16/16 [==============================] - 0s 7ms/step - loss: 0.8891 - accuracy: 0.5733\n",
      "Epoch 47/100\n",
      "16/16 [==============================] - 0s 7ms/step - loss: 0.8788 - accuracy: 0.5914\n",
      "Epoch 48/100\n",
      "16/16 [==============================] - 0s 7ms/step - loss: 0.8769 - accuracy: 0.5733\n",
      "Epoch 49/100\n",
      "16/16 [==============================] - 0s 9ms/step - loss: 0.8889 - accuracy: 0.5663\n",
      "Epoch 50/100\n",
      "16/16 [==============================] - 0s 8ms/step - loss: 0.8681 - accuracy: 0.5884\n",
      "Epoch 51/100\n",
      "16/16 [==============================] - 0s 6ms/step - loss: 0.8901 - accuracy: 0.5853\n",
      "Epoch 52/100\n",
      "16/16 [==============================] - 0s 7ms/step - loss: 0.8718 - accuracy: 0.5633\n",
      "Epoch 53/100\n",
      "16/16 [==============================] - 0s 7ms/step - loss: 0.8771 - accuracy: 0.5813\n",
      "Epoch 54/100\n",
      "16/16 [==============================] - 0s 7ms/step - loss: 0.8846 - accuracy: 0.5773\n",
      "Epoch 55/100\n",
      "16/16 [==============================] - 0s 7ms/step - loss: 0.8729 - accuracy: 0.5984\n",
      "Epoch 56/100\n",
      "16/16 [==============================] - 0s 7ms/step - loss: 0.8813 - accuracy: 0.5904\n",
      "Epoch 57/100\n",
      "16/16 [==============================] - 0s 7ms/step - loss: 0.8762 - accuracy: 0.5884\n",
      "Epoch 58/100\n",
      "16/16 [==============================] - 0s 7ms/step - loss: 0.8736 - accuracy: 0.5823\n",
      "Epoch 59/100\n",
      "16/16 [==============================] - 0s 8ms/step - loss: 0.8784 - accuracy: 0.5894\n",
      "Epoch 60/100\n",
      "16/16 [==============================] - 0s 8ms/step - loss: 0.8746 - accuracy: 0.5793\n",
      "Epoch 61/100\n",
      "16/16 [==============================] - 0s 7ms/step - loss: 0.8791 - accuracy: 0.5783\n",
      "Epoch 62/100\n",
      "16/16 [==============================] - 0s 7ms/step - loss: 0.8799 - accuracy: 0.5803\n",
      "Epoch 63/100\n",
      "16/16 [==============================] - 0s 7ms/step - loss: 0.8717 - accuracy: 0.6014\n",
      "Epoch 64/100\n",
      "16/16 [==============================] - 0s 7ms/step - loss: 0.8725 - accuracy: 0.5964\n",
      "Epoch 65/100\n",
      "16/16 [==============================] - 0s 7ms/step - loss: 0.8694 - accuracy: 0.5673\n",
      "Epoch 66/100\n",
      "16/16 [==============================] - 0s 7ms/step - loss: 0.8564 - accuracy: 0.5954\n",
      "Epoch 67/100\n",
      "16/16 [==============================] - 0s 7ms/step - loss: 0.8638 - accuracy: 0.5633\n",
      "Epoch 68/100\n",
      "16/16 [==============================] - 0s 7ms/step - loss: 0.8671 - accuracy: 0.5934\n",
      "Epoch 69/100\n",
      "16/16 [==============================] - 0s 8ms/step - loss: 0.8738 - accuracy: 0.5723\n",
      "Epoch 70/100\n",
      "16/16 [==============================] - 0s 8ms/step - loss: 0.8633 - accuracy: 0.5914\n",
      "Epoch 71/100\n",
      "16/16 [==============================] - 0s 7ms/step - loss: 0.8596 - accuracy: 0.5863\n",
      "Epoch 72/100\n",
      "16/16 [==============================] - 0s 8ms/step - loss: 0.8615 - accuracy: 0.5823\n",
      "Epoch 73/100\n",
      "16/16 [==============================] - 0s 8ms/step - loss: 0.8601 - accuracy: 0.5934\n",
      "Epoch 74/100\n",
      "16/16 [==============================] - 0s 8ms/step - loss: 0.8598 - accuracy: 0.5994\n",
      "Epoch 75/100\n",
      "16/16 [==============================] - 0s 8ms/step - loss: 0.8695 - accuracy: 0.6004\n",
      "Epoch 76/100\n",
      "16/16 [==============================] - 0s 9ms/step - loss: 0.8633 - accuracy: 0.6004\n",
      "Epoch 77/100\n",
      "16/16 [==============================] - 0s 8ms/step - loss: 0.8669 - accuracy: 0.5934\n",
      "Epoch 78/100\n",
      "16/16 [==============================] - 0s 11ms/step - loss: 0.8581 - accuracy: 0.5934\n",
      "Epoch 79/100\n",
      "16/16 [==============================] - 0s 8ms/step - loss: 0.8642 - accuracy: 0.5904\n",
      "Epoch 80/100\n",
      "16/16 [==============================] - 0s 8ms/step - loss: 0.8667 - accuracy: 0.5863\n",
      "Epoch 81/100\n",
      "16/16 [==============================] - 0s 7ms/step - loss: 0.8613 - accuracy: 0.5904\n",
      "Epoch 82/100\n",
      "16/16 [==============================] - 0s 6ms/step - loss: 0.8417 - accuracy: 0.6024\n",
      "Epoch 83/100\n",
      "16/16 [==============================] - 0s 7ms/step - loss: 0.8711 - accuracy: 0.5853\n",
      "Epoch 84/100\n",
      "16/16 [==============================] - 0s 7ms/step - loss: 0.8616 - accuracy: 0.5773\n",
      "Epoch 85/100\n",
      "16/16 [==============================] - 0s 7ms/step - loss: 0.8489 - accuracy: 0.6014\n",
      "Epoch 86/100\n",
      "16/16 [==============================] - 0s 7ms/step - loss: 0.8610 - accuracy: 0.5944\n",
      "Epoch 87/100\n",
      "16/16 [==============================] - 0s 7ms/step - loss: 0.8679 - accuracy: 0.5934\n",
      "Epoch 88/100\n",
      "16/16 [==============================] - 0s 9ms/step - loss: 0.8650 - accuracy: 0.5843\n",
      "Epoch 89/100\n",
      "16/16 [==============================] - 0s 7ms/step - loss: 0.8554 - accuracy: 0.5833\n",
      "Epoch 90/100\n",
      "16/16 [==============================] - 0s 7ms/step - loss: 0.8541 - accuracy: 0.6084\n",
      "Epoch 91/100\n",
      "16/16 [==============================] - 0s 7ms/step - loss: 0.8542 - accuracy: 0.6104\n",
      "Epoch 92/100\n",
      "16/16 [==============================] - 0s 7ms/step - loss: 0.8549 - accuracy: 0.5853\n",
      "Epoch 93/100\n",
      "16/16 [==============================] - 0s 7ms/step - loss: 0.8457 - accuracy: 0.6034\n",
      "Epoch 94/100\n",
      "16/16 [==============================] - 0s 7ms/step - loss: 0.8550 - accuracy: 0.6074\n",
      "Epoch 95/100\n",
      "16/16 [==============================] - 0s 7ms/step - loss: 0.8616 - accuracy: 0.5994\n",
      "Epoch 96/100\n",
      "16/16 [==============================] - 0s 7ms/step - loss: 0.8500 - accuracy: 0.5934\n",
      "Epoch 97/100\n",
      "16/16 [==============================] - 0s 8ms/step - loss: 0.8601 - accuracy: 0.5894\n",
      "Epoch 98/100\n",
      "16/16 [==============================] - 0s 10ms/step - loss: 0.8457 - accuracy: 0.6024\n",
      "Epoch 99/100\n",
      "16/16 [==============================] - 0s 7ms/step - loss: 0.8479 - accuracy: 0.5914\n",
      "Epoch 100/100\n",
      "16/16 [==============================] - 0s 7ms/step - loss: 0.8518 - accuracy: 0.5803\n"
     ]
    },
    {
     "data": {
      "text/plain": "<Figure size 432x288 with 1 Axes>",
      "image/png": "[encoded data removed]"
     },
     "metadata": {
      "needs_background": "light"
     },
     "output_type": "display_data"
    },
    {
     "name": "stdout",
     "output_type": "stream",
     "text": [
      "7/7 [==============================] - 0s 6ms/step - loss: 1.0379 - accuracy: 0.5584\n",
      "Test accuracy =  0.5584112405776978\n",
      "14/14 [==============================] - 0s 2ms/step\n"
     ]
    },
    {
     "data": {
      "text/plain": "<Figure size 432x288 with 2 Axes>",
      "image/png": "[encoded data removed]"
     },
     "metadata": {
      "needs_background": "light"
     },
     "output_type": "display_data"
    }
   ],
   "source": [
    "experiment_1(feature_type=\"yu\", model_type=\"MLP\", original=False)"
   ],
   "metadata": {
    "collapsed": false,
    "ExecuteTime": {
     "end_time": "2023-11-29T12:21:40.167117300Z",
     "start_time": "2023-11-29T12:21:18.537302500Z"
    }
   }
  },
  {
   "cell_type": "markdown",
   "metadata": {
    "collapsed": false,
    "jupyter": {
     "outputs_hidden": false
    }
   },
   "source": [
    "## Modified dataset/Lexical-prosodic features/SVM"
   ]
  },
  {
   "cell_type": "code",
   "execution_count": 14,
   "metadata": {
    "collapsed": false,
    "jupyter": {
     "outputs_hidden": false
    },
    "ExecuteTime": {
     "end_time": "2023-11-29T12:21:40.497914900Z",
     "start_time": "2023-11-29T12:21:40.172634Z"
    }
   },
   "outputs": [
    {
     "name": "stdout",
     "output_type": "stream",
     "text": [
      "Test accuracy = 0.4977\n"
     ]
    },
    {
     "data": {
      "text/plain": "<Figure size 432x288 with 2 Axes>",
      "image/png": "[encoded data removed]"
     },
     "metadata": {
      "needs_background": "light"
     },
     "output_type": "display_data"
    }
   ],
   "source": [
    "experiment_1(feature_type=\"lexical-prosodic\", model_type=\"SVM\", original=False)"
   ]
  },
  {
   "cell_type": "markdown",
   "metadata": {
    "collapsed": false,
    "jupyter": {
     "outputs_hidden": false
    }
   },
   "source": [
    "## Modified dataset/Lexical-prosodic features/MLP"
   ]
  },
  {
   "cell_type": "code",
   "execution_count": 15,
   "metadata": {
    "collapsed": false,
    "jupyter": {
     "outputs_hidden": false
    },
    "ExecuteTime": {
     "end_time": "2023-11-29T12:21:53.617186600Z",
     "start_time": "2023-11-29T12:21:40.467319500Z"
    }
   },
   "outputs": [
    {
     "name": "stdout",
     "output_type": "stream",
     "text": [
      "Epoch 1/100\n",
      "16/16 [==============================] - 1s 8ms/step - loss: 1.4077 - accuracy: 0.3283\n",
      "Epoch 2/100\n",
      "16/16 [==============================] - 0s 8ms/step - loss: 1.3198 - accuracy: 0.3785\n",
      "Epoch 3/100\n",
      "16/16 [==============================] - 0s 8ms/step - loss: 1.2584 - accuracy: 0.3855\n",
      "Epoch 4/100\n",
      "16/16 [==============================] - 0s 13ms/step - loss: 1.1735 - accuracy: 0.3876\n",
      "Epoch 5/100\n",
      "16/16 [==============================] - 0s 8ms/step - loss: 1.1090 - accuracy: 0.4277\n",
      "Epoch 6/100\n",
      "16/16 [==============================] - 0s 7ms/step - loss: 1.1195 - accuracy: 0.4247\n",
      "Epoch 7/100\n",
      "16/16 [==============================] - 0s 6ms/step - loss: 1.0770 - accuracy: 0.4197\n",
      "Epoch 8/100\n",
      "16/16 [==============================] - 0s 7ms/step - loss: 1.0492 - accuracy: 0.4518\n",
      "Epoch 9/100\n",
      "16/16 [==============================] - 0s 7ms/step - loss: 1.0636 - accuracy: 0.4769\n",
      "Epoch 10/100\n",
      "16/16 [==============================] - 0s 7ms/step - loss: 1.0383 - accuracy: 0.4890\n",
      "Epoch 11/100\n",
      "16/16 [==============================] - 0s 7ms/step - loss: 1.1033 - accuracy: 0.4639\n",
      "Epoch 12/100\n",
      "16/16 [==============================] - 0s 7ms/step - loss: 1.0571 - accuracy: 0.4829\n",
      "Epoch 13/100\n",
      "16/16 [==============================] - 0s 7ms/step - loss: 1.0043 - accuracy: 0.5131\n",
      "Epoch 14/100\n",
      "16/16 [==============================] - 0s 10ms/step - loss: 1.0014 - accuracy: 0.4669\n",
      "Epoch 15/100\n",
      "16/16 [==============================] - 0s 7ms/step - loss: 1.0161 - accuracy: 0.4729\n",
      "Epoch 16/100\n",
      "16/16 [==============================] - 0s 7ms/step - loss: 0.9829 - accuracy: 0.4890\n",
      "Epoch 17/100\n",
      "16/16 [==============================] - 0s 7ms/step - loss: 0.9935 - accuracy: 0.4859\n",
      "Epoch 18/100\n",
      "16/16 [==============================] - 0s 7ms/step - loss: 0.9782 - accuracy: 0.5040\n",
      "Epoch 19/100\n",
      "16/16 [==============================] - 0s 7ms/step - loss: 0.9878 - accuracy: 0.5070\n",
      "Epoch 20/100\n",
      "16/16 [==============================] - 0s 7ms/step - loss: 0.9829 - accuracy: 0.5161\n",
      "Epoch 21/100\n",
      "16/16 [==============================] - 0s 7ms/step - loss: 0.9683 - accuracy: 0.5201\n",
      "Epoch 22/100\n",
      "16/16 [==============================] - 0s 7ms/step - loss: 0.9804 - accuracy: 0.5080\n",
      "Epoch 23/100\n",
      "16/16 [==============================] - 0s 8ms/step - loss: 0.9977 - accuracy: 0.4980\n",
      "Epoch 24/100\n",
      "16/16 [==============================] - 0s 9ms/step - loss: 1.0108 - accuracy: 0.5271\n",
      "Epoch 25/100\n",
      "16/16 [==============================] - 0s 7ms/step - loss: 0.9465 - accuracy: 0.5361\n",
      "Epoch 26/100\n",
      "16/16 [==============================] - 0s 7ms/step - loss: 0.9745 - accuracy: 0.5141\n",
      "Epoch 27/100\n",
      "16/16 [==============================] - 0s 7ms/step - loss: 0.9291 - accuracy: 0.5371\n",
      "Epoch 28/100\n",
      "16/16 [==============================] - 0s 7ms/step - loss: 0.9535 - accuracy: 0.5321\n",
      "Epoch 29/100\n",
      "16/16 [==============================] - 0s 7ms/step - loss: 0.9609 - accuracy: 0.5382\n",
      "Epoch 30/100\n",
      "16/16 [==============================] - 0s 6ms/step - loss: 0.9211 - accuracy: 0.5442\n",
      "Epoch 31/100\n",
      "16/16 [==============================] - 0s 7ms/step - loss: 0.9727 - accuracy: 0.5191\n",
      "Epoch 32/100\n",
      "16/16 [==============================] - 0s 7ms/step - loss: 0.9399 - accuracy: 0.5271\n",
      "Epoch 33/100\n",
      "16/16 [==============================] - 0s 8ms/step - loss: 0.9263 - accuracy: 0.5492\n",
      "Epoch 34/100\n",
      "16/16 [==============================] - 0s 9ms/step - loss: 0.9405 - accuracy: 0.5472\n",
      "Epoch 35/100\n",
      "16/16 [==============================] - 0s 7ms/step - loss: 0.9404 - accuracy: 0.5392\n",
      "Epoch 36/100\n",
      "16/16 [==============================] - 0s 7ms/step - loss: 0.9415 - accuracy: 0.5522\n",
      "Epoch 37/100\n",
      "16/16 [==============================] - 0s 7ms/step - loss: 0.9529 - accuracy: 0.5351\n",
      "Epoch 38/100\n",
      "16/16 [==============================] - 0s 6ms/step - loss: 0.9121 - accuracy: 0.5522\n",
      "Epoch 39/100\n",
      "16/16 [==============================] - 0s 7ms/step - loss: 0.9086 - accuracy: 0.5432\n",
      "Epoch 40/100\n",
      "16/16 [==============================] - 0s 7ms/step - loss: 0.9236 - accuracy: 0.5311\n",
      "Epoch 41/100\n",
      "16/16 [==============================] - 0s 6ms/step - loss: 0.9320 - accuracy: 0.5311\n",
      "Epoch 42/100\n",
      "16/16 [==============================] - 0s 7ms/step - loss: 0.9125 - accuracy: 0.5522\n",
      "Epoch 43/100\n",
      "16/16 [==============================] - 0s 8ms/step - loss: 0.9221 - accuracy: 0.5331\n",
      "Epoch 44/100\n",
      "16/16 [==============================] - 0s 9ms/step - loss: 0.9277 - accuracy: 0.5532\n",
      "Epoch 45/100\n",
      "16/16 [==============================] - 0s 7ms/step - loss: 0.9211 - accuracy: 0.5452\n",
      "Epoch 46/100\n",
      "16/16 [==============================] - 0s 6ms/step - loss: 0.9509 - accuracy: 0.5552\n",
      "Epoch 47/100\n",
      "16/16 [==============================] - 0s 7ms/step - loss: 0.9405 - accuracy: 0.5321\n",
      "Epoch 48/100\n",
      "16/16 [==============================] - 0s 8ms/step - loss: 0.9195 - accuracy: 0.5392\n",
      "Epoch 49/100\n",
      "16/16 [==============================] - 0s 7ms/step - loss: 0.9470 - accuracy: 0.5201\n",
      "Epoch 50/100\n",
      "16/16 [==============================] - 0s 6ms/step - loss: 0.9045 - accuracy: 0.5582\n",
      "Epoch 51/100\n",
      "16/16 [==============================] - 0s 7ms/step - loss: 0.9142 - accuracy: 0.5482\n",
      "Epoch 52/100\n",
      "16/16 [==============================] - 0s 7ms/step - loss: 0.9482 - accuracy: 0.5432\n",
      "Epoch 53/100\n",
      "16/16 [==============================] - 0s 7ms/step - loss: 0.9098 - accuracy: 0.5492\n",
      "Epoch 54/100\n",
      "16/16 [==============================] - 0s 10ms/step - loss: 0.9333 - accuracy: 0.5592\n",
      "Epoch 55/100\n",
      "16/16 [==============================] - 0s 7ms/step - loss: 0.9000 - accuracy: 0.5673\n",
      "Epoch 56/100\n",
      "16/16 [==============================] - 0s 7ms/step - loss: 0.9274 - accuracy: 0.5512\n",
      "Epoch 57/100\n",
      "16/16 [==============================] - 0s 7ms/step - loss: 0.9124 - accuracy: 0.5663\n",
      "Epoch 58/100\n",
      "16/16 [==============================] - 0s 6ms/step - loss: 0.9447 - accuracy: 0.5582\n",
      "Epoch 59/100\n",
      "16/16 [==============================] - 0s 7ms/step - loss: 0.9301 - accuracy: 0.5502\n",
      "Epoch 60/100\n",
      "16/16 [==============================] - 0s 7ms/step - loss: 0.9209 - accuracy: 0.5402\n",
      "Epoch 61/100\n",
      "16/16 [==============================] - 0s 7ms/step - loss: 0.9434 - accuracy: 0.5492\n",
      "Epoch 62/100\n",
      "16/16 [==============================] - 0s 7ms/step - loss: 0.9023 - accuracy: 0.5542\n",
      "Epoch 63/100\n",
      "16/16 [==============================] - 0s 7ms/step - loss: 0.9162 - accuracy: 0.5633\n",
      "Epoch 64/100\n",
      "16/16 [==============================] - 0s 10ms/step - loss: 0.9031 - accuracy: 0.5542\n",
      "Epoch 65/100\n",
      "16/16 [==============================] - 0s 7ms/step - loss: 0.9218 - accuracy: 0.5592\n",
      "Epoch 66/100\n",
      "16/16 [==============================] - 0s 6ms/step - loss: 0.9136 - accuracy: 0.5522\n",
      "Epoch 67/100\n",
      "16/16 [==============================] - 0s 7ms/step - loss: 0.8963 - accuracy: 0.5522\n",
      "Epoch 68/100\n",
      "16/16 [==============================] - 0s 7ms/step - loss: 0.8942 - accuracy: 0.5633\n",
      "Epoch 69/100\n",
      "16/16 [==============================] - 0s 7ms/step - loss: 0.9342 - accuracy: 0.5542\n",
      "Epoch 70/100\n",
      "16/16 [==============================] - 0s 7ms/step - loss: 0.8907 - accuracy: 0.5723\n",
      "Epoch 71/100\n",
      "16/16 [==============================] - 0s 7ms/step - loss: 0.9116 - accuracy: 0.5442\n",
      "Epoch 72/100\n",
      "16/16 [==============================] - 0s 6ms/step - loss: 0.9225 - accuracy: 0.5512\n",
      "Epoch 73/100\n",
      "16/16 [==============================] - 0s 7ms/step - loss: 0.9069 - accuracy: 0.5522\n",
      "Epoch 74/100\n",
      "16/16 [==============================] - 0s 8ms/step - loss: 0.9082 - accuracy: 0.5532\n",
      "Epoch 75/100\n",
      "16/16 [==============================] - 0s 7ms/step - loss: 0.8932 - accuracy: 0.5532\n",
      "Epoch 76/100\n",
      "16/16 [==============================] - 0s 7ms/step - loss: 0.8953 - accuracy: 0.5532\n",
      "Epoch 77/100\n",
      "16/16 [==============================] - 0s 6ms/step - loss: 0.9049 - accuracy: 0.5653\n",
      "Epoch 78/100\n",
      "16/16 [==============================] - 0s 7ms/step - loss: 0.8878 - accuracy: 0.5723\n",
      "Epoch 79/100\n",
      "16/16 [==============================] - 0s 7ms/step - loss: 0.8919 - accuracy: 0.5713\n",
      "Epoch 80/100\n",
      "16/16 [==============================] - 0s 7ms/step - loss: 0.9192 - accuracy: 0.5311\n",
      "Epoch 81/100\n",
      "16/16 [==============================] - 0s 7ms/step - loss: 0.9021 - accuracy: 0.5673\n",
      "Epoch 82/100\n",
      "16/16 [==============================] - 0s 7ms/step - loss: 0.8888 - accuracy: 0.5492\n",
      "Epoch 83/100\n",
      "16/16 [==============================] - 0s 7ms/step - loss: 0.8843 - accuracy: 0.5432\n",
      "Epoch 84/100\n",
      "16/16 [==============================] - 0s 8ms/step - loss: 0.8882 - accuracy: 0.5643\n",
      "Epoch 85/100\n",
      "16/16 [==============================] - 0s 8ms/step - loss: 0.8977 - accuracy: 0.5653\n",
      "Epoch 86/100\n",
      "16/16 [==============================] - 0s 7ms/step - loss: 0.8949 - accuracy: 0.5653\n",
      "Epoch 87/100\n",
      "16/16 [==============================] - 0s 7ms/step - loss: 0.9020 - accuracy: 0.5612\n",
      "Epoch 88/100\n",
      "16/16 [==============================] - 0s 7ms/step - loss: 0.8890 - accuracy: 0.5693\n",
      "Epoch 89/100\n",
      "16/16 [==============================] - 0s 7ms/step - loss: 0.8716 - accuracy: 0.5653\n",
      "Epoch 90/100\n",
      "16/16 [==============================] - 0s 7ms/step - loss: 0.9057 - accuracy: 0.5482\n",
      "Epoch 91/100\n",
      "16/16 [==============================] - 0s 7ms/step - loss: 0.9207 - accuracy: 0.5482\n",
      "Epoch 92/100\n",
      "16/16 [==============================] - 0s 7ms/step - loss: 0.9027 - accuracy: 0.5643\n",
      "Epoch 93/100\n",
      "16/16 [==============================] - 0s 7ms/step - loss: 0.8904 - accuracy: 0.5472\n",
      "Epoch 94/100\n",
      "16/16 [==============================] - 0s 7ms/step - loss: 0.8781 - accuracy: 0.5673\n",
      "Epoch 95/100\n",
      "16/16 [==============================] - 0s 9ms/step - loss: 0.8809 - accuracy: 0.5592\n",
      "Epoch 96/100\n",
      "16/16 [==============================] - 0s 7ms/step - loss: 0.8886 - accuracy: 0.5653\n",
      "Epoch 97/100\n",
      "16/16 [==============================] - 0s 6ms/step - loss: 0.8889 - accuracy: 0.5532\n",
      "Epoch 98/100\n",
      "16/16 [==============================] - 0s 7ms/step - loss: 0.9177 - accuracy: 0.5422\n",
      "Epoch 99/100\n",
      "16/16 [==============================] - 0s 6ms/step - loss: 0.8955 - accuracy: 0.5763\n",
      "Epoch 100/100\n",
      "16/16 [==============================] - 0s 7ms/step - loss: 0.8843 - accuracy: 0.5673\n"
     ]
    },
    {
     "data": {
      "text/plain": "<Figure size 432x288 with 1 Axes>",
      "image/png": "[encoded data removed]"
     },
     "metadata": {
      "needs_background": "light"
     },
     "output_type": "display_data"
    },
    {
     "name": "stdout",
     "output_type": "stream",
     "text": [
      "7/7 [==============================] - 0s 5ms/step - loss: 0.9681 - accuracy: 0.5000\n",
      "Test accuracy =  0.5\n",
      "14/14 [==============================] - 0s 1ms/step\n"
     ]
    },
    {
     "data": {
      "text/plain": "<Figure size 432x288 with 2 Axes>",
      "image/png": "[encoded data removed]"
     },
     "metadata": {
      "needs_background": "light"
     },
     "output_type": "display_data"
    }
   ],
   "source": [
    "experiment_1(feature_type=\"lexical-prosodic\", model_type=\"MLP\", original=False)"
   ]
  },
  {
   "cell_type": "markdown",
   "metadata": {
    "collapsed": false,
    "jupyter": {
     "outputs_hidden": false
    }
   },
   "source": [
    "# Experiment 2"
   ]
  },
  {
   "cell_type": "code",
   "execution_count": 7,
   "metadata": {
    "collapsed": false,
    "jupyter": {
     "outputs_hidden": false
    },
    "ExecuteTime": {
     "end_time": "2023-11-29T14:44:50.819347900Z",
     "start_time": "2023-11-29T14:44:50.756146500Z"
    }
   },
   "outputs": [],
   "source": [
    "def experiment_2(feature_type: str, model_type: str):\n",
    "    X, y, files_to_extract, indices = load_features(feature_type=feature_type, original=False, return_file_indices=True)\n",
    "    number_of_features = len(X[1])  #This is variable with each run\n",
    "    number_of_classes = 3\n",
    "    xx = 0\n",
    "    for ind in indices:\n",
    "        print(ind, files_to_extract[xx], class_labels[y[ind]])\n",
    "        xx += 1\n",
    "        vals = []\n",
    "        valsout = []\n",
    "        arr = X\n",
    "        arrout = y\n",
    "        for i in range(arr.shape[0]):\n",
    "            if i != ind:\n",
    "                vals.append(arr[i])\n",
    "                valsout.append(arrout[i])\n",
    "        newX = np.array(vals)\n",
    "        print(newX.shape)\n",
    "        newY = np.array(valsout)\n",
    "        print(newY.shape)\n",
    "\n",
    "        # # Fix random seed number\n",
    "        np.random.seed(7)\n",
    "\n",
    "        if model_type == \"SVM\":\n",
    "            # SVM classifier\n",
    "            svm_clf = SVC(C=200, gamma=0.0001, kernel='rbf', decision_function_shape=\"ovr\")\n",
    "\n",
    "            # Fit model\n",
    "            svm_clf.fit(newX, newY)\n",
    "\n",
    "            pred_arr = svm_clf.predict(X[ind].reshape(1, -1))\n",
    "            print(\"Pred: \", class_labels[pred_arr[0]])\n",
    "        else:\n",
    "            # Neural Network Architecture\n",
    "            model = Sequential()  # Define Sequential model\n",
    "\n",
    "            # Using relu on the first two layers and softmax on the output layer\n",
    "\n",
    "            # 1st Layer\n",
    "            #N neurons, Number_Fatures-dimensional vectors\n",
    "            model.add(Dense(128, input_dim=number_of_features, activation='relu'))  #32, 64, 128, 256, 512, 1024\n",
    "            model.add(Dropout(0.5))\n",
    "\n",
    "            # 2nd Layer\n",
    "            model.add(Dense(128, activation='relu'))\n",
    "            model.add(Dropout(0.5))\n",
    "\n",
    "            # 3rd Layer. Output 3 neurons corresponding the number of classes\n",
    "            # The sigmoid function is used for the two-class logistic regression,\n",
    "            # whereas the softmax function is used for the multiclass logistic regression\n",
    "            model.add(Dense(number_of_classes, activation='softmax'))\n",
    "\n",
    "            # Model Compilation. Loss for multi-class classification problem\n",
    "            # sgd = SGD(lr=0.01, decay=1e-6, momentum=0.9, nesterov=True)\n",
    "            # rmsprop = 'rmsprop'\n",
    "            adam = 'adam'\n",
    "            model.compile(loss='categorical_crossentropy',\n",
    "                          optimizer=adam,  #rmsprop better than sgd\n",
    "                          metrics=['accuracy'])\n",
    "\n",
    "            # Convert labels to categorical one-hot encoding\n",
    "            newY = to_categorical(newY - 1, num_classes=number_of_classes)  # Convert class vector into binary Matrix\n",
    "\n",
    "            # Train and test\n",
    "            model.fit(newX, newY, epochs=100, batch_size=64, verbose=0)  #batch 32, 64, 128, 256, 512\n",
    "\n",
    "            pred_arr = model(X[ind].reshape(1, -1))\n",
    "            print(\"Pred: \", class_labels[np.argmax(pred_arr, 1)[0]])"
   ]
  },
  {
   "cell_type": "markdown",
   "source": [
    "## MFCCs/SVM"
   ],
   "metadata": {
    "collapsed": false
   }
  },
  {
   "cell_type": "code",
   "execution_count": 17,
   "metadata": {
    "collapsed": false,
    "jupyter": {
     "outputs_hidden": false
    },
    "ExecuteTime": {
     "end_time": "2023-11-29T12:21:54.201908100Z",
     "start_time": "2023-11-29T12:21:53.630403700Z"
    }
   },
   "outputs": [
    {
     "name": "stdout",
     "output_type": "stream",
     "text": [
      "1167 Luis Suarez interview in English after being awarded November player of the month segment 1 - Woman.mp3 Low\n",
      "(1423, 23)\n",
      "(1423,)\n",
      "Pred:  Low\n",
      "1171 Luis Suarez interview in English after being awarded November player of the month segment 2 - W.mp3 Low\n",
      "(1423, 23)\n",
      "(1423,)\n",
      "Pred:  Intermediate\n",
      "1175 Luis Suarez interview in English after being awarded November player of the month segment 3 - W.mp3 Low\n",
      "(1423, 23)\n",
      "(1423,)\n",
      "Pred:  Low\n",
      "1176 Luis Suarez interview in English after being awarded November player of the month segment 4 - W.mp3 Low\n",
      "(1423, 23)\n",
      "(1423,)\n",
      "Pred:  Low\n",
      "1177 Luis Suarez interview in English after being awarded November player of the month segment 5 - W.mp3 Low\n",
      "(1423, 23)\n",
      "(1423,)\n",
      "Pred:  Intermediate\n",
      "1178 Luis Suarez interview in English after being awarded November player of the month segment 9 - W.mp3 Low\n",
      "(1423, 23)\n",
      "(1423,)\n",
      "Pred:  Low\n",
      "1168 Luis Suarez interview in English after being awarded November player of the month segment 14 - W.mp3 Low\n",
      "(1423, 23)\n",
      "(1423,)\n",
      "Pred:  Low\n",
      "1169 Luis Suarez interview in English after being awarded November player of the month segment 18 - W.mp3 Low\n",
      "(1423, 23)\n",
      "(1423,)\n",
      "Pred:  Low\n",
      "1170 Luis Suarez interview in English after being awarded November player of the month segment 19 - W.mp3 Low\n",
      "(1423, 23)\n",
      "(1423,)\n",
      "Pred:  Low\n",
      "1172 Luis Suarez interview in English after being awarded November player of the month segment 23 - W.mp3 Low\n",
      "(1423, 23)\n",
      "(1423,)\n",
      "Pred:  Low\n",
      "1173 Luis Suarez interview in English after being awarded November player of the month segment 26 - W.mp3 Low\n",
      "(1423, 23)\n",
      "(1423,)\n",
      "Pred:  Intermediate\n",
      "1174 Luis Suarez interview in English after being awarded November player of the month segment 29 - W.mp3 Low\n",
      "(1423, 23)\n",
      "(1423,)\n",
      "Pred:  Low\n"
     ]
    }
   ],
   "source": [
    "experiment_2(feature_type=\"mfcc\", model_type=\"SVM\")"
   ]
  },
  {
   "cell_type": "markdown",
   "metadata": {
    "collapsed": false,
    "jupyter": {
     "outputs_hidden": false
    }
   },
   "source": [
    "## MFCCs/MLP"
   ]
  },
  {
   "cell_type": "code",
   "execution_count": 18,
   "metadata": {
    "collapsed": false,
    "jupyter": {
     "outputs_hidden": false
    },
    "ExecuteTime": {
     "end_time": "2023-11-29T12:24:44.328488200Z",
     "start_time": "2023-11-29T12:21:54.204870Z"
    }
   },
   "outputs": [
    {
     "name": "stdout",
     "output_type": "stream",
     "text": [
      "1167 Luis Suarez interview in English after being awarded November player of the month segment 1 - Woman.mp3 Low\n",
      "(1423, 23)\n",
      "(1423,)\n",
      "Pred:  Low\n",
      "1171 Luis Suarez interview in English after being awarded November player of the month segment 2 - W.mp3 Low\n",
      "(1423, 23)\n",
      "(1423,)\n",
      "Pred:  Low\n",
      "1175 Luis Suarez interview in English after being awarded November player of the month segment 3 - W.mp3 Low\n",
      "(1423, 23)\n",
      "(1423,)\n",
      "Pred:  Low\n",
      "1176 Luis Suarez interview in English after being awarded November player of the month segment 4 - W.mp3 Low\n",
      "(1423, 23)\n",
      "(1423,)\n",
      "Pred:  Low\n",
      "1177 Luis Suarez interview in English after being awarded November player of the month segment 5 - W.mp3 Low\n",
      "(1423, 23)\n",
      "(1423,)\n",
      "Pred:  Low\n",
      "1178 Luis Suarez interview in English after being awarded November player of the month segment 9 - W.mp3 Low\n",
      "(1423, 23)\n",
      "(1423,)\n",
      "Pred:  Low\n",
      "1168 Luis Suarez interview in English after being awarded November player of the month segment 14 - W.mp3 Low\n",
      "(1423, 23)\n",
      "(1423,)\n",
      "Pred:  Low\n",
      "1169 Luis Suarez interview in English after being awarded November player of the month segment 18 - W.mp3 Low\n",
      "(1423, 23)\n",
      "(1423,)\n",
      "Pred:  Low\n",
      "1170 Luis Suarez interview in English after being awarded November player of the month segment 19 - W.mp3 Low\n",
      "(1423, 23)\n",
      "(1423,)\n",
      "Pred:  Low\n",
      "1172 Luis Suarez interview in English after being awarded November player of the month segment 23 - W.mp3 Low\n",
      "(1423, 23)\n",
      "(1423,)\n",
      "Pred:  Low\n",
      "1173 Luis Suarez interview in English after being awarded November player of the month segment 26 - W.mp3 Low\n",
      "(1423, 23)\n",
      "(1423,)\n",
      "Pred:  Low\n",
      "1174 Luis Suarez interview in English after being awarded November player of the month segment 29 - W.mp3 Low\n",
      "(1423, 23)\n",
      "(1423,)\n",
      "Pred:  Low\n"
     ]
    }
   ],
   "source": [
    "experiment_2(feature_type=\"mfcc\", model_type=\"MLP\")"
   ]
  },
  {
   "cell_type": "markdown",
   "metadata": {
    "collapsed": false,
    "jupyter": {
     "outputs_hidden": false
    }
   },
   "source": [
    "## Yu features/SVM"
   ]
  },
  {
   "cell_type": "code",
   "execution_count": 20,
   "metadata": {
    "collapsed": false,
    "jupyter": {
     "outputs_hidden": false
    },
    "ExecuteTime": {
     "end_time": "2023-11-29T12:24:46.393386800Z",
     "start_time": "2023-11-29T12:24:45.312333600Z"
    }
   },
   "outputs": [
    {
     "name": "stdout",
     "output_type": "stream",
     "text": [
      "1147 Luis Suarez interview in English after being awarded November player of the month segment 1 - Woman.mp3 Low\n",
      "(1423, 12)\n",
      "(1423,)\n",
      "Pred:  High\n",
      "1195 Luis Suarez interview in English after being awarded November player of the month segment 2 - W.mp3 Low\n",
      "(1423, 12)\n",
      "(1423,)\n",
      "Pred:  High\n",
      "1192 Luis Suarez interview in English after being awarded November player of the month segment 3 - W.mp3 Low\n",
      "(1423, 12)\n",
      "(1423,)\n",
      "Pred:  High\n",
      "1191 Luis Suarez interview in English after being awarded November player of the month segment 4 - W.mp3 Low\n",
      "(1423, 12)\n",
      "(1423,)\n",
      "Pred:  High\n",
      "1194 Luis Suarez interview in English after being awarded November player of the month segment 5 - W.mp3 Low\n",
      "(1423, 12)\n",
      "(1423,)\n",
      "Pred:  High\n",
      "1188 Luis Suarez interview in English after being awarded November player of the month segment 9 - W.mp3 Low\n",
      "(1423, 12)\n",
      "(1423,)\n",
      "Pred:  High\n",
      "1141 Luis Suarez interview in English after being awarded November player of the month segment 14 - W.mp3 Low\n",
      "(1423, 12)\n",
      "(1423,)\n",
      "Pred:  High\n",
      "1140 Luis Suarez interview in English after being awarded November player of the month segment 18 - W.mp3 Low\n",
      "(1423, 12)\n",
      "(1423,)\n",
      "Pred:  High\n",
      "1196 Luis Suarez interview in English after being awarded November player of the month segment 19 - W.mp3 Low\n",
      "(1423, 12)\n",
      "(1423,)\n",
      "Pred:  High\n",
      "1193 Luis Suarez interview in English after being awarded November player of the month segment 23 - W.mp3 Low\n",
      "(1423, 12)\n",
      "(1423,)\n",
      "Pred:  High\n",
      "1189 Luis Suarez interview in English after being awarded November player of the month segment 26 - W.mp3 Low\n",
      "(1423, 12)\n",
      "(1423,)\n",
      "Pred:  High\n",
      "1190 Luis Suarez interview in English after being awarded November player of the month segment 29 - W.mp3 Low\n",
      "(1423, 12)\n",
      "(1423,)\n",
      "Pred:  High\n"
     ]
    }
   ],
   "source": [
    "experiment_2(feature_type=\"yu\", model_type=\"SVM\")"
   ]
  },
  {
   "cell_type": "markdown",
   "metadata": {
    "collapsed": false,
    "jupyter": {
     "outputs_hidden": false
    }
   },
   "source": [
    "## Yu features/MLP"
   ]
  },
  {
   "cell_type": "code",
   "execution_count": 21,
   "metadata": {
    "collapsed": false,
    "jupyter": {
     "outputs_hidden": false
    },
    "ExecuteTime": {
     "end_time": "2023-11-29T12:27:38.044799100Z",
     "start_time": "2023-11-29T12:24:46.395388500Z"
    }
   },
   "outputs": [
    {
     "name": "stdout",
     "output_type": "stream",
     "text": [
      "1147 Luis Suarez interview in English after being awarded November player of the month segment 1 - Woman.mp3 Low\n",
      "(1423, 12)\n",
      "(1423,)\n",
      "Pred:  Intermediate\n",
      "1195 Luis Suarez interview in English after being awarded November player of the month segment 2 - W.mp3 Low\n",
      "(1423, 12)\n",
      "(1423,)\n",
      "Pred:  Intermediate\n",
      "1192 Luis Suarez interview in English after being awarded November player of the month segment 3 - W.mp3 Low\n",
      "(1423, 12)\n",
      "(1423,)\n",
      "Pred:  Intermediate\n",
      "1191 Luis Suarez interview in English after being awarded November player of the month segment 4 - W.mp3 Low\n",
      "(1423, 12)\n",
      "(1423,)\n",
      "Pred:  Intermediate\n",
      "1194 Luis Suarez interview in English after being awarded November player of the month segment 5 - W.mp3 Low\n",
      "(1423, 12)\n",
      "(1423,)\n",
      "Pred:  Intermediate\n",
      "1188 Luis Suarez interview in English after being awarded November player of the month segment 9 - W.mp3 Low\n",
      "(1423, 12)\n",
      "(1423,)\n",
      "Pred:  Intermediate\n",
      "1141 Luis Suarez interview in English after being awarded November player of the month segment 14 - W.mp3 Low\n",
      "(1423, 12)\n",
      "(1423,)\n",
      "Pred:  Intermediate\n",
      "1140 Luis Suarez interview in English after being awarded November player of the month segment 18 - W.mp3 Low\n",
      "(1423, 12)\n",
      "(1423,)\n",
      "Pred:  Intermediate\n",
      "1196 Luis Suarez interview in English after being awarded November player of the month segment 19 - W.mp3 Low\n",
      "(1423, 12)\n",
      "(1423,)\n",
      "Pred:  Intermediate\n",
      "1193 Luis Suarez interview in English after being awarded November player of the month segment 23 - W.mp3 Low\n",
      "(1423, 12)\n",
      "(1423,)\n",
      "Pred:  Low\n",
      "1189 Luis Suarez interview in English after being awarded November player of the month segment 26 - W.mp3 Low\n",
      "(1423, 12)\n",
      "(1423,)\n",
      "Pred:  Low\n",
      "1190 Luis Suarez interview in English after being awarded November player of the month segment 29 - W.mp3 Low\n",
      "(1423, 12)\n",
      "(1423,)\n",
      "Pred:  Intermediate\n"
     ]
    }
   ],
   "source": [
    "experiment_2(feature_type=\"yu\", model_type=\"MLP\")"
   ]
  },
  {
   "cell_type": "markdown",
   "metadata": {
    "collapsed": false,
    "jupyter": {
     "outputs_hidden": false
    }
   },
   "source": [
    "## Lexical-prosodic features/SVM"
   ]
  },
  {
   "cell_type": "code",
   "execution_count": 22,
   "metadata": {
    "collapsed": false,
    "jupyter": {
     "outputs_hidden": false
    },
    "ExecuteTime": {
     "end_time": "2023-11-29T12:27:39.143909900Z",
     "start_time": "2023-11-29T12:27:38.045307300Z"
    }
   },
   "outputs": [
    {
     "name": "stdout",
     "output_type": "stream",
     "text": [
      "1398 Luis Suarez interview in English after being awarded November player of the month segment 1 - Woman.mp3 Low\n",
      "(1423, 15)\n",
      "(1423,)\n",
      "Pred:  High\n",
      "1386 Luis Suarez interview in English after being awarded November player of the month segment 2 - W.mp3 Low\n",
      "(1423, 15)\n",
      "(1423,)\n",
      "Pred:  High\n",
      "1392 Luis Suarez interview in English after being awarded November player of the month segment 3 - W.mp3 Low\n",
      "(1423, 15)\n",
      "(1423,)\n",
      "Pred:  High\n",
      "1370 Luis Suarez interview in English after being awarded November player of the month segment 4 - W.mp3 Low\n",
      "(1423, 15)\n",
      "(1423,)\n",
      "Pred:  High\n",
      "1409 Luis Suarez interview in English after being awarded November player of the month segment 5 - W.mp3 Low\n",
      "(1423, 15)\n",
      "(1423,)\n",
      "Pred:  High\n",
      "1420 Luis Suarez interview in English after being awarded November player of the month segment 9 - W.mp3 Low\n",
      "(1423, 15)\n",
      "(1423,)\n",
      "Pred:  Intermediate\n",
      "1397 Luis Suarez interview in English after being awarded November player of the month segment 14 - W.mp3 Low\n",
      "(1423, 15)\n",
      "(1423,)\n",
      "Pred:  High\n",
      "1378 Luis Suarez interview in English after being awarded November player of the month segment 18 - W.mp3 Low\n",
      "(1423, 15)\n",
      "(1423,)\n",
      "Pred:  Intermediate\n",
      "1416 Luis Suarez interview in English after being awarded November player of the month segment 19 - W.mp3 Low\n",
      "(1423, 15)\n",
      "(1423,)\n",
      "Pred:  Intermediate\n",
      "1417 Luis Suarez interview in English after being awarded November player of the month segment 23 - W.mp3 Low\n",
      "(1423, 15)\n",
      "(1423,)\n",
      "Pred:  High\n",
      "1340 Luis Suarez interview in English after being awarded November player of the month segment 26 - W.mp3 Low\n",
      "(1423, 15)\n",
      "(1423,)\n",
      "Pred:  High\n",
      "1346 Luis Suarez interview in English after being awarded November player of the month segment 29 - W.mp3 Low\n",
      "(1423, 15)\n",
      "(1423,)\n",
      "Pred:  High\n"
     ]
    }
   ],
   "source": [
    "experiment_2(feature_type=\"lexical-prosodic\", model_type=\"SVM\")"
   ]
  },
  {
   "cell_type": "markdown",
   "metadata": {
    "collapsed": false,
    "jupyter": {
     "outputs_hidden": false
    }
   },
   "source": [
    "## Lexical-prosodic features/MLP"
   ]
  },
  {
   "cell_type": "code",
   "execution_count": 23,
   "metadata": {
    "collapsed": false,
    "jupyter": {
     "outputs_hidden": false
    },
    "ExecuteTime": {
     "end_time": "2023-11-29T12:30:28.818069200Z",
     "start_time": "2023-11-29T12:27:39.147536700Z"
    }
   },
   "outputs": [
    {
     "name": "stdout",
     "output_type": "stream",
     "text": [
      "1398 Luis Suarez interview in English after being awarded November player of the month segment 1 - Woman.mp3 Low\n",
      "(1423, 15)\n",
      "(1423,)\n",
      "Pred:  Intermediate\n",
      "1386 Luis Suarez interview in English after being awarded November player of the month segment 2 - W.mp3 Low\n",
      "(1423, 15)\n",
      "(1423,)\n",
      "Pred:  Intermediate\n",
      "1392 Luis Suarez interview in English after being awarded November player of the month segment 3 - W.mp3 Low\n",
      "(1423, 15)\n",
      "(1423,)\n",
      "Pred:  Intermediate\n",
      "1370 Luis Suarez interview in English after being awarded November player of the month segment 4 - W.mp3 Low\n",
      "(1423, 15)\n",
      "(1423,)\n",
      "Pred:  Intermediate\n",
      "1409 Luis Suarez interview in English after being awarded November player of the month segment 5 - W.mp3 Low\n",
      "(1423, 15)\n",
      "(1423,)\n",
      "Pred:  Intermediate\n",
      "1420 Luis Suarez interview in English after being awarded November player of the month segment 9 - W.mp3 Low\n",
      "(1423, 15)\n",
      "(1423,)\n",
      "Pred:  Low\n",
      "1397 Luis Suarez interview in English after being awarded November player of the month segment 14 - W.mp3 Low\n",
      "(1423, 15)\n",
      "(1423,)\n",
      "Pred:  Intermediate\n",
      "1378 Luis Suarez interview in English after being awarded November player of the month segment 18 - W.mp3 Low\n",
      "(1423, 15)\n",
      "(1423,)\n",
      "Pred:  Intermediate\n",
      "1416 Luis Suarez interview in English after being awarded November player of the month segment 19 - W.mp3 Low\n",
      "(1423, 15)\n",
      "(1423,)\n",
      "Pred:  Low\n",
      "1417 Luis Suarez interview in English after being awarded November player of the month segment 23 - W.mp3 Low\n",
      "(1423, 15)\n",
      "(1423,)\n",
      "Pred:  Intermediate\n",
      "1340 Luis Suarez interview in English after being awarded November player of the month segment 26 - W.mp3 Low\n",
      "(1423, 15)\n",
      "(1423,)\n",
      "Pred:  Intermediate\n",
      "1346 Luis Suarez interview in English after being awarded November player of the month segment 29 - W.mp3 Low\n",
      "(1423, 15)\n",
      "(1423,)\n",
      "Pred:  Intermediate\n"
     ]
    }
   ],
   "source": [
    "experiment_2(feature_type=\"lexical-prosodic\", model_type=\"MLP\")"
   ]
  },
  {
   "cell_type": "code",
   "execution_count": null,
   "outputs": [],
   "source": [],
   "metadata": {
    "collapsed": false
   }
  }
 ],
 "metadata": {
  "kernelspec": {
   "display_name": "Python 3 (ipykernel)",
   "language": "python",
   "name": "python3"
  },
  "language_info": {
   "codemirror_mode": {
    "name": "ipython",
    "version": 3
   },
   "file_extension": ".py",
   "mimetype": "text/x-python",
   "name": "python",
   "nbconvert_exporter": "python",
   "pygments_lexer": "ipython3",
   "version": "3.10.12"
  }
 },
 "nbformat": 4,
 "nbformat_minor": 4
}
