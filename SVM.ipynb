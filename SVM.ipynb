{
 "cells": [
  {
   "cell_type": "markdown",
   "metadata": {},
   "source": [
    "#### SVM Classification"
   ]
  },
  {
   "cell_type": "code",
   "execution_count": 7,
   "outputs": [],
   "source": [
    "import numpy as np\n",
    "import cupy as cp\n",
    "from cuml import SVC\n",
    "from cuml import train_test_split\n",
    "import cudf"
   ],
   "metadata": {
    "collapsed": false,
    "ExecuteTime": {
     "end_time": "2023-10-06T04:22:28.811821400Z",
     "start_time": "2023-10-06T04:22:28.802720500Z"
    }
   }
  },
  {
   "cell_type": "code",
   "execution_count": 12,
   "outputs": [],
   "source": [
    "#Load data from generated numpy files\n",
    "X = cp.load('modified_features.npy') # list of features\n",
    "y = cp.load('modified_labels.npy') # labels are the target"
   ],
   "metadata": {
    "collapsed": false,
    "ExecuteTime": {
     "end_time": "2023-10-06T04:24:18.223232700Z",
     "start_time": "2023-10-06T04:24:18.204138400Z"
    }
   }
  },
  {
   "cell_type": "code",
   "execution_count": 17,
   "outputs": [
    {
     "name": "stdout",
     "output_type": "stream",
     "text": [
      "[2 2 2 2 2]\n"
     ]
    }
   ],
   "source": [
    "print(y[-5:])"
   ],
   "metadata": {
    "collapsed": false,
    "ExecuteTime": {
     "end_time": "2023-10-06T04:46:55.277107500Z",
     "start_time": "2023-10-06T04:46:55.270585400Z"
    }
   }
  },
  {
   "cell_type": "code",
   "execution_count": 65,
   "outputs": [
    {
     "name": "stdout",
     "output_type": "stream",
     "text": [
      "Audio Subdirs:  ['001-Low', '002-Intermediate', '003-High']\n"
     ]
    }
   ],
   "source": [
    "#Read audio classes directories\n",
    "import os\n",
    "import glob\n",
    "audio_subdirectories = os.listdir(\"modified-data-2/\") #Path to data folder.\n",
    "audio_subdirectories.sort()\n",
    "print('Audio Subdirs: ', audio_subdirectories)\n",
    "parent_dir = \"modified-data-2\"\n",
    "names = []\n",
    "for label, sub_dir in enumerate(audio_subdirectories): ##The enumerate() function adds a counter to an iterable.\n",
    "    for file_name in glob.glob(os.path.join(parent_dir, sub_dir, \"*.mp3\")): ##parent is data, sub_dirs are the classes\n",
    "        # print(\"Actual File Name: \", file_name)\n",
    "        names.append(file_name)\n",
    "# print(names[437])"
   ],
   "metadata": {
    "collapsed": false,
    "ExecuteTime": {
     "end_time": "2023-10-05T05:14:07.269663900Z",
     "start_time": "2023-10-05T05:14:07.207581700Z"
    }
   }
  },
  {
   "cell_type": "code",
   "execution_count": 81,
   "outputs": [
    {
     "name": "stdout",
     "output_type": "stream",
     "text": [
      "[426, 430, 434, 435, 436, 437, 427, 428, 429, 431, 432, 433]\n"
     ]
    }
   ],
   "source": [
    "files_to_extract = [\"modified-data-2/001-Low/Luis Suarez interview in English after being awarded November player of the month segment 1 - Woman.mp3\"]\n",
    "for num in [2, 3, 4, 5, 9, 14, 18, 19, 23, 26, 29]:\n",
    "  files_to_extract.append(f\"modified-data-2/001-Low/Luis Suarez interview in English after being awarded November player of the month segment {num} - W.mp3\")\n",
    "indices = []\n",
    "for extract in files_to_extract:\n",
    "    indices.append(names.index(extract))\n",
    "print(indices)"
   ],
   "metadata": {
    "collapsed": false,
    "ExecuteTime": {
     "end_time": "2023-10-05T05:29:03.523456Z",
     "start_time": "2023-10-05T05:29:03.476109300Z"
    }
   }
  },
  {
   "cell_type": "code",
   "execution_count": 77,
   "outputs": [
    {
     "name": "stdout",
     "output_type": "stream",
     "text": [
      "(1412, 23)\n",
      "(1412,)\n"
     ]
    }
   ],
   "source": [
    "vals = []\n",
    "valsout = []\n",
    "arr = X.get()\n",
    "arrout = y.get()\n",
    "for i in range(arr.shape[0]):\n",
    "    if i not in indices:\n",
    "        vals.append(arr[i])\n",
    "        valsout.append(arrout[i])\n",
    "newX = cp.array(vals)\n",
    "print(newX.shape)\n",
    "newY = cp.array(valsout)\n",
    "print(newY.shape)"
   ],
   "metadata": {
    "collapsed": false,
    "ExecuteTime": {
     "end_time": "2023-10-05T05:25:50.972014500Z",
     "start_time": "2023-10-05T05:25:50.904034300Z"
    }
   }
  },
  {
   "cell_type": "code",
   "execution_count": 82,
   "outputs": [
    {
     "name": "stdout",
     "output_type": "stream",
     "text": [
      "modified-data-2/001-Low/Luis Suarez interview in English after being awarded November player of the month segment 1 - Woman.mp3\n",
      "(1423, 23)\n",
      "(1423,)\n",
      "Pred:  [0]\n",
      "modified-data-2/001-Low/Luis Suarez interview in English after being awarded November player of the month segment 2 - W.mp3\n",
      "(1423, 23)\n",
      "(1423,)\n",
      "Pred:  [1]\n",
      "modified-data-2/001-Low/Luis Suarez interview in English after being awarded November player of the month segment 3 - W.mp3\n",
      "(1423, 23)\n",
      "(1423,)\n",
      "Pred:  [0]\n",
      "modified-data-2/001-Low/Luis Suarez interview in English after being awarded November player of the month segment 4 - W.mp3\n",
      "(1423, 23)\n",
      "(1423,)\n",
      "Pred:  [0]\n",
      "modified-data-2/001-Low/Luis Suarez interview in English after being awarded November player of the month segment 5 - W.mp3\n",
      "(1423, 23)\n",
      "(1423,)\n",
      "Pred:  [1]\n",
      "modified-data-2/001-Low/Luis Suarez interview in English after being awarded November player of the month segment 9 - W.mp3\n",
      "(1423, 23)\n",
      "(1423,)\n",
      "Pred:  [1]\n",
      "modified-data-2/001-Low/Luis Suarez interview in English after being awarded November player of the month segment 14 - W.mp3\n",
      "(1423, 23)\n",
      "(1423,)\n",
      "Pred:  [0]\n",
      "modified-data-2/001-Low/Luis Suarez interview in English after being awarded November player of the month segment 18 - W.mp3\n",
      "(1423, 23)\n",
      "(1423,)\n",
      "Pred:  [0]\n",
      "modified-data-2/001-Low/Luis Suarez interview in English after being awarded November player of the month segment 19 - W.mp3\n",
      "(1423, 23)\n",
      "(1423,)\n",
      "Pred:  [0]\n",
      "modified-data-2/001-Low/Luis Suarez interview in English after being awarded November player of the month segment 23 - W.mp3\n",
      "(1423, 23)\n",
      "(1423,)\n",
      "Pred:  [0]\n",
      "modified-data-2/001-Low/Luis Suarez interview in English after being awarded November player of the month segment 26 - W.mp3\n",
      "(1423, 23)\n",
      "(1423,)\n",
      "Pred:  [1]\n",
      "modified-data-2/001-Low/Luis Suarez interview in English after being awarded November player of the month segment 29 - W.mp3\n",
      "(1423, 23)\n",
      "(1423,)\n",
      "Pred:  [0]\n"
     ]
    }
   ],
   "source": [
    "xx = 0\n",
    "for ind in indices:\n",
    "    print(files_to_extract[xx])\n",
    "    xx += 1\n",
    "    vals = []\n",
    "    valsout = []\n",
    "    arr = X.get()\n",
    "    arrout = y.get()\n",
    "    for i in range(arr.shape[0]):\n",
    "        if i != ind:\n",
    "            vals.append(arr[i])\n",
    "            valsout.append(arrout[i])\n",
    "    newX = cp.array(vals)\n",
    "    print(newX.shape)\n",
    "    newY = cp.array(valsout)\n",
    "    print(newY.shape)\n",
    "\n",
    "    np.random.seed(7)\n",
    "\n",
    "    # Load the data\n",
    "    X_train, X_test, y_train, y_test = train_test_split(newX, newY, test_size=0.3, random_state=30)\n",
    "\n",
    "    # SVM classifier\n",
    "    svm_clf = SVC(C=200, gamma = 0.0001, kernel='rbf')\n",
    "    #svm_clf = LinearSVC(random_state=42) # HandsOn git\n",
    "\n",
    "    # Fit model\n",
    "    svm_clf.fit(X_train, y_train) #From Beif github\n",
    "\n",
    "    print(\"Pred: \", svm_clf.predict(X[ind].reshape(1, -1)))"
   ],
   "metadata": {
    "collapsed": false,
    "ExecuteTime": {
     "end_time": "2023-10-05T05:29:57.502452700Z",
     "start_time": "2023-10-05T05:29:53.630435700Z"
    }
   }
  },
  {
   "cell_type": "code",
   "execution_count": 13,
   "metadata": {
    "ExecuteTime": {
     "end_time": "2023-10-06T04:24:23.183696100Z",
     "start_time": "2023-10-06T04:24:22.438564900Z"
    }
   },
   "outputs": [
    {
     "name": "stdout",
     "output_type": "stream",
     "text": [
      "Final accuracy = 0.9180\n"
     ]
    }
   ],
   "source": [
    "# Fix random seed number\n",
    "np.random.seed(7)\n",
    "\n",
    "# Load the data\n",
    "X_train, X_test, y_train, y_test = train_test_split(X, y, test_size=0.3, random_state=30)\n",
    "\n",
    "# SVM classifier\n",
    "svm_clf = SVC(C=200, gamma = 0.0001, kernel='rbf')\n",
    "#svm_clf = LinearSVC(random_state=42) # HandsOn git\n",
    "\n",
    "# Fit model\n",
    "svm_clf.fit(X_train, y_train) #From Beif github\n",
    "\n",
    "# Predictions\n",
    "y_predict = svm_clf.predict(X_test)\n",
    "\n",
    "# Accuracy Result\n",
    "acc = svm_clf.score(X_test, y_test)\n",
    "print(\"Final accuracy = %0.4f\" %acc)\n",
    "#print('\\n')\n",
    "#print(classification_report(y_test, y_predict))"
   ]
  },
  {
   "cell_type": "markdown",
   "metadata": {},
   "source": [
    "##### Compute Confussion Matrix"
   ]
  },
  {
   "cell_type": "code",
   "execution_count": 14,
   "metadata": {
    "ExecuteTime": {
     "end_time": "2023-10-06T04:24:25.002637500Z",
     "start_time": "2023-10-06T04:24:24.314918900Z"
    }
   },
   "outputs": [
    {
     "data": {
      "text/plain": "<sklearn.metrics._plot.confusion_matrix.ConfusionMatrixDisplay at 0x7f6a6659cf70>"
     },
     "execution_count": 14,
     "metadata": {},
     "output_type": "execute_result"
    },
    {
     "data": {
      "text/plain": "<Figure size 640x480 with 2 Axes>",
      "image/png": "[encoded data removed]"
     },
     "metadata": {},
     "output_type": "display_data"
    }
   ],
   "source": [
    "# # Label integer encoding\n",
    "# label_classes = cp.array(['Low','Intermediate','High'])\n",
    "# #print(label_classes)\n",
    "#\n",
    "# # De-encoding predicted and actual classes (going from numeric to written)\n",
    "# prediction_decoded = label_classes[y_predict]\n",
    "# actual_value_decoded = label_classes\n",
    "from cuml.metrics import confusion_matrix\n",
    "from sklearn.metrics import ConfusionMatrixDisplay\n",
    "#Compute confusion matrix\n",
    "cm = confusion_matrix(y_test, y_predict).get()\n",
    "cm_display = ConfusionMatrixDisplay(confusion_matrix=cm)\n",
    "cm_display.plot(cmap=\"inferno\")"
   ]
  },
  {
   "cell_type": "code",
   "execution_count": 15,
   "outputs": [
    {
     "data": {
      "text/plain": "(997, 23)"
     },
     "execution_count": 15,
     "metadata": {},
     "output_type": "execute_result"
    }
   ],
   "source": [
    "X_train.shape"
   ],
   "metadata": {
    "collapsed": false,
    "ExecuteTime": {
     "end_time": "2023-10-06T04:25:26.671522100Z",
     "start_time": "2023-10-06T04:25:26.602738900Z"
    }
   }
  },
  {
   "cell_type": "code",
   "execution_count": 36,
   "outputs": [
    {
     "name": "stdout",
     "output_type": "stream",
     "text": [
      "\u001B[92mk=1 accuracy = 0.8642\u001B[0m\n",
      "k=2 accuracy = 0.8525\n",
      "\u001B[92mk=3 accuracy = 0.8759\u001B[0m\n",
      "k=4 accuracy = 0.8642\n",
      "k=5 accuracy = 0.8759\n",
      "k=6 accuracy = 0.8548\n",
      "k=7 accuracy = 0.8689\n",
      "k=8 accuracy = 0.8595\n",
      "k=9 accuracy = 0.8642\n",
      "k=10 accuracy = 0.8501\n",
      "k=11 accuracy = 0.8478\n",
      "k=12 accuracy = 0.8361\n",
      "k=13 accuracy = 0.8501\n",
      "k=14 accuracy = 0.8407\n",
      "k=15 accuracy = 0.8478\n",
      "k=16 accuracy = 0.8384\n",
      "k=17 accuracy = 0.8337\n",
      "k=18 accuracy = 0.8244\n",
      "k=19 accuracy = 0.8314\n",
      "k=20 accuracy = 0.829\n",
      "k=21 accuracy = 0.8244\n",
      "k=22 accuracy = 0.8197\n",
      "k=23 accuracy = 0.8126\n",
      "k=24 accuracy = 0.8173\n",
      "k=25 accuracy = 0.8056\n",
      "k=26 accuracy = 0.808\n",
      "k=27 accuracy = 0.8103\n",
      "k=28 accuracy = 0.815\n",
      "k=29 accuracy = 0.8126\n",
      "k=30 accuracy = 0.8103\n",
      "k=31 accuracy = 0.8173\n",
      "k=32 accuracy = 0.8009\n",
      "k=33 accuracy = 0.8126\n",
      "k=34 accuracy = 0.8056\n",
      "k=35 accuracy = 0.815\n",
      "k=36 accuracy = 0.815\n",
      "k=37 accuracy = 0.8197\n",
      "k=38 accuracy = 0.8033\n",
      "k=39 accuracy = 0.8103\n",
      "k=40 accuracy = 0.8056\n",
      "k=41 accuracy = 0.8056\n",
      "k=42 accuracy = 0.8009\n",
      "k=43 accuracy = 0.8056\n",
      "k=44 accuracy = 0.8056\n",
      "k=45 accuracy = 0.8056\n",
      "k=46 accuracy = 0.808\n",
      "k=47 accuracy = 0.8033\n",
      "k=48 accuracy = 0.8009\n",
      "k=49 accuracy = 0.8009\n",
      "k=50 accuracy = 0.7963\n",
      "k=51 accuracy = 0.7916\n",
      "k=52 accuracy = 0.7963\n",
      "k=53 accuracy = 0.7869\n",
      "k=54 accuracy = 0.7892\n",
      "k=55 accuracy = 0.7845\n",
      "k=56 accuracy = 0.7822\n",
      "k=57 accuracy = 0.7799\n",
      "k=58 accuracy = 0.7752\n",
      "k=59 accuracy = 0.7728\n",
      "k=60 accuracy = 0.7775\n",
      "k=61 accuracy = 0.7728\n",
      "k=62 accuracy = 0.7752\n",
      "k=63 accuracy = 0.7705\n",
      "k=64 accuracy = 0.7728\n",
      "k=65 accuracy = 0.7681\n",
      "k=66 accuracy = 0.7775\n",
      "k=67 accuracy = 0.7752\n",
      "k=68 accuracy = 0.7681\n",
      "k=69 accuracy = 0.7681\n",
      "k=70 accuracy = 0.7635\n",
      "k=71 accuracy = 0.7658\n",
      "k=72 accuracy = 0.7635\n",
      "k=73 accuracy = 0.7635\n",
      "k=74 accuracy = 0.7635\n",
      "k=75 accuracy = 0.7635\n",
      "k=76 accuracy = 0.7658\n",
      "k=77 accuracy = 0.7611\n",
      "k=78 accuracy = 0.7611\n",
      "k=79 accuracy = 0.7588\n"
     ]
    }
   ],
   "source": [
    "from cuml import KNeighborsClassifier\n",
    "mx = 0\n",
    "for k in range(1, 80):\n",
    "    # SVM classifier\n",
    "    knn = KNeighborsClassifier(n_neighbors=k)\n",
    "    #knn = LinearSVC(random_state=42) # HandsOn git\n",
    "\n",
    "    # Fit model\n",
    "    knn.fit(X_train, y_train) #From Beif github\n",
    "\n",
    "    # Predictions\n",
    "    y_predict = knn.predict(X_test)\n",
    "\n",
    "    # Accuracy Result\n",
    "    acc = knn.score(X_test, y_test)\n",
    "    if acc > mx:\n",
    "        print(f\"\\033[92mk={k} accuracy = {round(acc,4)}\\033[0m\")\n",
    "        mx = acc\n",
    "    else:\n",
    "        print(f\"k={k} accuracy = {round(acc,4)}\")"
   ],
   "metadata": {
    "collapsed": false,
    "ExecuteTime": {
     "end_time": "2023-10-01T20:30:46.085736500Z",
     "start_time": "2023-10-01T20:30:44.393845500Z"
    }
   }
  },
  {
   "cell_type": "code",
   "execution_count": null,
   "outputs": [],
   "source": [],
   "metadata": {
    "collapsed": false
   }
  }
 ],
 "metadata": {
  "kernelspec": {
   "name": "python3",
   "language": "python",
   "display_name": "Python 3 (ipykernel)"
  },
  "language_info": {
   "codemirror_mode": {
    "name": "ipython",
    "version": 2
   },
   "file_extension": ".py",
   "mimetype": "text/x-python",
   "name": "python",
   "nbconvert_exporter": "python",
   "pygments_lexer": "ipython2",
   "version": "2.7.14"
  }
 },
 "nbformat": 4,
 "nbformat_minor": 2
}
